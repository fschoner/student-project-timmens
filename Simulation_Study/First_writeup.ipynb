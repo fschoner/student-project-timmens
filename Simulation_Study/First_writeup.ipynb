{
 "cells": [
  {
   "cell_type": "code",
   "execution_count": 3,
   "metadata": {},
   "outputs": [
    {
     "name": "stderr",
     "output_type": "stream",
     "text": [
      "-- \u001b[1mAttaching packages\u001b[22m --------------------------------------- tidyverse 1.2.1 --\n",
      "\u001b[32mv\u001b[39m \u001b[34mggplot2\u001b[39m 3.1.1       \u001b[32mv\u001b[39m \u001b[34mpurrr  \u001b[39m 0.3.2  \n",
      "\u001b[32mv\u001b[39m \u001b[34mtibble \u001b[39m 2.1.1       \u001b[32mv\u001b[39m \u001b[34mdplyr  \u001b[39m 0.8.0.\u001b[31m1\u001b[39m\n",
      "\u001b[32mv\u001b[39m \u001b[34mtidyr  \u001b[39m 0.8.3       \u001b[32mv\u001b[39m \u001b[34mstringr\u001b[39m 1.4.0  \n",
      "\u001b[32mv\u001b[39m \u001b[34mreadr  \u001b[39m 1.3.1       \u001b[32mv\u001b[39m \u001b[34mforcats\u001b[39m 0.4.0  \n",
      "-- \u001b[1mConflicts\u001b[22m ------------------------------------------ tidyverse_conflicts() --\n",
      "\u001b[31mx\u001b[39m \u001b[34mdplyr\u001b[39m::\u001b[32mfilter()\u001b[39m masks \u001b[34mstats\u001b[39m::filter()\n",
      "\u001b[31mx\u001b[39m \u001b[34mdplyr\u001b[39m::\u001b[32mlag()\u001b[39m    masks \u001b[34mstats\u001b[39m::lag()\n",
      "Nonparametric Kernel Methods for Mixed Datatypes (version 0.60-9)\n",
      "[vignette(\"np_faq\",package=\"np\") provides answers to frequently asked questions]\n",
      "[vignette(\"np\",package=\"np\") an overview]\n",
      "[vignette(\"entropy_np\",package=\"np\") an overview of entropy-based methods]\n"
     ]
    }
   ],
   "source": [
    "suppressWarnings(library(tidyverse))\n",
    "suppressWarnings(library(np))"
   ]
  },
  {
   "cell_type": "markdown",
   "metadata": {},
   "source": [
    "$\\newcommand{\\E}{{\\rm I\\kern-.3em E}}$\n",
    "$\\newcommand{\\Var}{\\mathrm{Var}}$\n",
    "$\\newcommand{\\Cov}{\\mathrm{Cov}}$\n",
    "$\\newcommand{\\Covh}{\\widehat{\\Cov}}$\n",
    "$\\newcommand{\\Varh}{\\widehat{\\Var}}$\n",
    "$\\newcommand{\\betah}{\\widehat{\\beta}}$\n",
    "$\\newcommand{\\Eh}{\\widehat{\\E}}$\n",
    "$\\newcommand{\\YO}{Y(0)}$\n",
    "$\\newcommand{\\YI}{Y(1)}$\n",
    "$\\newcommand{\\indep}{\\perp \\!\\!\\! \\perp}$\n"
   ]
  },
  {
   "cell_type": "markdown",
   "metadata": {},
   "source": [
    "# Settings+ Assumptions"
   ]
  },
  {
   "cell_type": "markdown",
   "metadata": {},
   "source": [
    "Suppose we have random sample (i.i.d.) of the reference population, each containing a feature vector $X_i$, a treatment indicator $D_i$ and an outcome $Y_i$. In short: $\\left\\{(Y_i,X_i,D_i)\\right\\}_{i=1}^{n}$.\n",
    "Generally, we will either assume unconfoundedness (ignorability) or purely random treatment assignment in our DGPs. More formally, random treatment assignment amounts to \n",
    "<br>\n",
    "&ensp;\n",
    "\\begin{equation}\n",
    "(\\YI,\\YO)\\enspace\\indep\\enspace D.\\label{eq:rt}\n",
    "\\end{equation}\n",
    "<br>\n",
    "&ensp;\n",
    "In situations usually analyzed within the social sciences, this assumption turns out to be too restrictive (ref.). Therefore, as we've seen throughout the course, many methods were developed under the assumption of unconfoundedness:\n",
    "<br>\n",
    "&ensp;\n",
    "\\begin{equation}\n",
    "(\\YI,\\YO)\\enspace\\indep\\enspace D\\enspace \\lvert\\enspace X.\\label{eq:uf}\n",
    "\\end{equation}\n",
    "<br>\n",
    "&ensp;\n",
    "This is also used by [@wager2018estimation] to develop the theory of causal trees/forests.\\newline\n",
    "Within the simulation study we'll also try to stress the consequences for estimation when switching from (\\ref{eq:rt}) to (\\ref{eq:uf}). \n"
   ]
  },
  {
   "cell_type": "markdown",
   "metadata": {},
   "source": [
    "## Heterogeneous Treatment Effects\n",
    "To develop an intuition for the importance of heterogeneity in treatment effects, we define the Average Treatment Effect (ATE) and the Conditional Average Treatment Effect (CATE) as follows.\n",
    "<br>\n",
    "&ensp;\n",
    "\\begin{align}\n",
    "\\delta&\\equiv \\E(\\YI-\\YO)\\label{eq:ate}\\\\[10pt]\n",
    "\\delta(x)&\\equiv\\E(\\YI-\\YO\\vert X=x)\\label{eq:cate}\\\\[10pt]\n",
    "\\end{align}\n",
    "<br>\n",
    "&ensp;\n",
    "These definitions are conceptually different: While the CATE is a real-valued function mapping a realization of the random variable $X$ to a real number, the ATE is a real number. Thus, by definition, the CATE allows to have *distinct* treatment effects for different realizations of $X$. By the law of iterated expectation we have the following relationship:\n",
    "\n",
    "\n",
    "\\begin{equation*}\n",
    "\\E\\left(\\delta(X)\\right)=\\delta\n",
    "\\end{equation*}\n",
    "\n",
    "<br>\n",
    "&ensp;\n",
    "Thus, the ATE is a summary statistic of the CATE. Example for illustration + ref.  \n"
   ]
  },
  {
   "cell_type": "markdown",
   "metadata": {},
   "source": [
    "## Structural representation"
   ]
  },
  {
   "cell_type": "markdown",
   "metadata": {},
   "source": [
    "For the first part of the simulations, we can postulate the following structural equations.\n",
    "\n",
    "\n",
    "\\begin{align*}\n",
    "X&= f_{X}(u_1),\\qquad f_{X}:\\mathbb{R} \\longrightarrow \\mathbb{R},\\quad x \\mapsto x, \\qquad u_1 \\stackrel{\\text{i.i.d}}{\\sim} U[0,1]\\\\\n",
    "D&= f_{D}(X)\\\\\n",
    "Y&= f_{Y}(X, D, \\varepsilon), \\qquad \\varepsilon \\stackrel{\\text{i.i.d}}{\\sim} \\mathcal{N}(0,1)\\\\\n",
    "\\end{align*}\n",
    "The corresponding graph looks as follows.\n",
    "\n"
   ]
  },
  {
   "attachments": {},
   "cell_type": "markdown",
   "metadata": {},
   "source": [
    "<img src=\"Causal_graphs\\Causal_graphs.png\" height=300 width=300 />"
   ]
  },
  {
   "cell_type": "markdown",
   "metadata": {},
   "source": [
    "## First Model"
   ]
  },
  {
   "cell_type": "markdown",
   "metadata": {},
   "source": [
    "For the whole first part of the simulations, I'll stick to models that are linear in parameters when it comes to generating the potential outcomes. More specifically,\n",
    "<br>\n",
    "&ensp;\n",
    "\\begin{align}\n",
    "Y(0)&=\\gamma_0 + \\gamma_1\\cdot g(X)+ \\gamma_2\\cdot h(\\gamma_3 X) +\\varepsilon \\\\\n",
    "Y(1)&=\\phi_0 + \\phi_1\\cdot f(X)+ \\phi_2\\cdot c(\\phi_3 X)+\\varepsilon,\n",
    "\\end{align}\n",
    "<br>\n",
    "&ensp;\n",
    "where\n",
    "\n",
    "* $\\varepsilon \\stackrel{\\text{i.i.d}}{\\sim} \\mathcal{N}(0,1),\\quad X \\stackrel{\\text{i.i.d}}{\\sim} U[0,1]$\n",
    "<br>\n",
    "&ensp;\n",
    "* $g(\\cdot),h(\\cdot),f(\\cdot),\\enspace \\text{and}\\enspace c(\\cdot)$ are real-valued functions\n",
    "<br>\n",
    "&ensp;\n",
    "* $\\phi_j, \\gamma_j \\in \\mathbb{R}$, $j=1,2,3$\n",
    "<br>\n",
    "&ensp;\n",
    "\n",
    "\n",
    "In this model, ATE (\\ref{eq:ate}) and CATE (\\ref{eq:cate}) become\n",
    "<br>\n",
    "&ensp;\n",
    "\\begin{align*}\n",
    "\\delta&=\\phi_0 - \\gamma_0 + \\phi_1 \\E(f(X))-\\gamma_1 \\E(g(X))+\\phi_2\\E(c(X))-\\gamma_2\\E(h(X))\\\\[5pt]\n",
    "\\delta(x)&=\\phi_0 - \\gamma_0 + \\phi_1 f(x)-\\gamma_1 g(x)+\\phi_2 c(x)-\\gamma_2 h(x).\n",
    "\\end{align*}\n",
    "<br>\n",
    "&ensp;\n",
    "The workhorse function to generate the simulations from the first part looks as follows."
   ]
  },
  {
   "cell_type": "code",
   "execution_count": 2,
   "metadata": {},
   "outputs": [],
   "source": [
    "sim <- function(n, het_linear = FALSE, random_assignment = TRUE,\n",
    "                non_linearY = FALSE, non_linearD = FALSE,\n",
    "                gamma0=1, gamma1=3, gamma2=0, gamma3=1,\n",
    "                phi0=5, phi1=3, phi1p=5, phi2=0, phi3=5){\n",
    "  x <- runif(n)\n",
    "  eps <- rnorm(n)\n",
    "  #\n",
    "  if(random_assignment){D <- rbinom(n,size=1,prob=0.5)}\n",
    "  else{\n",
    "    D <- rep(0,n)\n",
    "    if(non_linearD){\n",
    "      c_1<- 0.1; c_2 <- 0.89\n",
    "      prt <- function(x){c_1+0.01*x+c_2*sin(pi*x)}\n",
    "    }\n",
    "    else{prt <- function(x){x}}\n",
    "    for(j in seq_along(D)){D[j] <- rbinom(1,size=1,prob=prt(x[j]))}\n",
    "  }\n",
    "  if(non_linearY){\n",
    "    nl <- function(z,const,t=1){const+3*z+20*sin(pi*z*t)}\n",
    "    y1 <- nl(z=x,const=phi0,t=phi3) + eps\n",
    "    y0 <- nl(z=x,const=gamma0,t=gamma3) + eps\n",
    "  }\n",
    "  else{\n",
    "    if(het_linear){y1 <- phi0 + phi1p*x + eps}\n",
    "    else{y1 <- phi0 + phi1*x + eps}\n",
    "    y0 <- gamma0 + gamma1*x + eps\n",
    "  }\n",
    "  res <- tibble(Y0=y0,Y1=y1,X=x,D=D,Y_obs=rep(0,n),IntXD=x*D)\n",
    "  res$Y_obs[res$D==1] <- res$Y1[res$D==1]\n",
    "  res$Y_obs[res$D==0] <- res$Y0[res$D==0]\n",
    "  return(res)\n",
    "}"
   ]
  },
  {
   "cell_type": "markdown",
   "metadata": {},
   "source": [
    "The function allows you to tweak a variety of parameters. \n",
    "* $n$ is the number of observations\n",
    "<br>\n",
    "&nbsp;\n",
    "* `het_linear` is boolean and leads to different slopes of $Y(0)$ and $Y(1)$ in $X$\n",
    "<br>\n",
    "&nbsp;\n",
    "* `random_assignment`is boolean and allows you to switch between random treatment assignment ($\\ref{eq:rt}$) and unconfoundedness ($\\ref{eq:uf}$).<br>\n",
    "<br>\n",
    "&nbsp;\n",
    "Under random treatment assignment $\\text{Pr}(D\\vert X=x)=\\frac{1}{2}$, whereas under unconfoundedness I hoose a linearly increasing function: $\\text{Pr}(D\\vert X=x)=x$\n",
    "<br>\n",
    "&nbsp;\n",
    "* `non_linearY` is boolean and implements non-linear $Y(1)$ and $Y(0)$ by specifying \n",
    "<br>\n",
    "&nbsp;\n",
    "\\begin{align*}\n",
    "h&:\\mathbb{R} \\longrightarrow \\mathbb{R},\\quad x \\mapsto \\sin(\\pi\\gamma_3 x)\\\\\n",
    "c&:\\mathbb{R} \\longrightarrow \\mathbb{R},\\quad x \\mapsto \\sin(\\pi\\phi_3 x)\n",
    "\\end{align*}\n",
    "<br>\n",
    "&nbsp;\n",
    "* `non_linearD` is boolean and implements a non-linear function for the probability of treament\n",
    "<br>\n",
    "&nbsp;\n",
    "\\begin{align*}\n",
    "\\E(D\\vert X=x)=\\text{Pr}(D\\vert X=x)&=0.1+0.89\\cdot\\sin(\\pi x)\\\\\n",
    "&\\in \\left[0,1\\right]\n",
    "\\end{align*}\n",
    "<br>\n",
    "&nbsp;\n",
    "Finally, the function returns a data frame with the variables $Y(0)$, $Y(1)$, $X$, $D$, and $X\\cdot D$."
   ]
  },
  {
   "cell_type": "markdown",
   "metadata": {},
   "source": [
    "## Constant treatment effects (no heterogeneity) + linearity\n",
    "For the first simulation we'll study a straightforward setup to illustrate where CATE and ATE coincide. We'll use the following specification.\n",
    "\n",
    "* $f:\\mathbb{R} \\longrightarrow \\mathbb{R},\\quad x \\mapsto x$ and $f=g=c=h$\n",
    "<br>\n",
    "&ensp;\n",
    "* $\\phi_1 = \\gamma_1$ and $\\phi_2 = \\gamma_2 = 0$\n",
    "<br>\n",
    "&ensp;\n",
    "* $\\phi_0=5$, $\\gamma_0 = 1$\n",
    "<br>\n",
    "&ensp;\n",
    "\n",
    "Thus we obtain \n",
    "<br>\n",
    "&ensp;\n",
    "\\begin{align*}\n",
    "\\delta&=\\phi_0 - \\gamma_0+\\E\\left[(\\phi_1-\\gamma_1)\\cdot X \\right]\\\\\n",
    "&=\\phi_0 - \\gamma_0\\\\\n",
    "&=4\\\\[10pt]\n",
    "\\delta(x)&=\\E(\\phi_0 - \\gamma_0\\vert X=x)\\\\\n",
    "&=\\phi_0 - \\gamma_0\\\\\n",
    "\\end{align*}\n",
    "<br>\n",
    "&ensp;"
   ]
  },
  {
   "cell_type": "code",
   "execution_count": 4,
   "metadata": {},
   "outputs": [
    {
     "data": {
      "text/html": [
       "<table>\n",
       "<caption>A tibble: 10 × 6</caption>\n",
       "<thead>\n",
       "\t<tr><th scope=col>Y0</th><th scope=col>Y1</th><th scope=col>X</th><th scope=col>D</th><th scope=col>Y_obs</th><th scope=col>IntXD</th></tr>\n",
       "\t<tr><th scope=col>&lt;dbl&gt;</th><th scope=col>&lt;dbl&gt;</th><th scope=col>&lt;dbl&gt;</th><th scope=col>&lt;int&gt;</th><th scope=col>&lt;dbl&gt;</th><th scope=col>&lt;dbl&gt;</th></tr>\n",
       "</thead>\n",
       "<tbody>\n",
       "\t<tr><td>2.116051</td><td>6.116051</td><td>0.2875775</td><td>1</td><td>6.116051</td><td>0.2875775</td></tr>\n",
       "\t<tr><td>3.336369</td><td>7.336369</td><td>0.7883051</td><td>0</td><td>3.336369</td><td>0.0000000</td></tr>\n",
       "\t<tr><td>2.184060</td><td>6.184060</td><td>0.4089769</td><td>1</td><td>6.184060</td><td>0.4089769</td></tr>\n",
       "\t<tr><td>5.017654</td><td>9.017654</td><td>0.8830174</td><td>1</td><td>9.017654</td><td>0.8830174</td></tr>\n",
       "\t<tr><td>3.595631</td><td>7.595631</td><td>0.9404673</td><td>1</td><td>7.595631</td><td>0.9404673</td></tr>\n",
       "\t<tr><td>2.653140</td><td>6.653140</td><td>0.0455565</td><td>0</td><td>2.653140</td><td>0.0000000</td></tr>\n",
       "\t<tr><td>1.035564</td><td>5.035564</td><td>0.5281055</td><td>0</td><td>1.035564</td><td>0.0000000</td></tr>\n",
       "\t<tr><td>4.261871</td><td>8.261871</td><td>0.8924190</td><td>0</td><td>4.261871</td><td>0.0000000</td></tr>\n",
       "\t<tr><td>2.778159</td><td>6.778159</td><td>0.5514350</td><td>0</td><td>2.778159</td><td>0.0000000</td></tr>\n",
       "\t<tr><td>2.585786</td><td>6.585786</td><td>0.4566147</td><td>0</td><td>2.585786</td><td>0.0000000</td></tr>\n",
       "</tbody>\n",
       "</table>\n"
      ],
      "text/latex": [
       "A tibble: 10 × 6\n",
       "\\begin{tabular}{r|llllll}\n",
       " Y0 & Y1 & X & D & Y\\_obs & IntXD\\\\\n",
       " <dbl> & <dbl> & <dbl> & <int> & <dbl> & <dbl>\\\\\n",
       "\\hline\n",
       "\t 2.116051 & 6.116051 & 0.2875775 & 1 & 6.116051 & 0.2875775\\\\\n",
       "\t 3.336369 & 7.336369 & 0.7883051 & 0 & 3.336369 & 0.0000000\\\\\n",
       "\t 2.184060 & 6.184060 & 0.4089769 & 1 & 6.184060 & 0.4089769\\\\\n",
       "\t 5.017654 & 9.017654 & 0.8830174 & 1 & 9.017654 & 0.8830174\\\\\n",
       "\t 3.595631 & 7.595631 & 0.9404673 & 1 & 7.595631 & 0.9404673\\\\\n",
       "\t 2.653140 & 6.653140 & 0.0455565 & 0 & 2.653140 & 0.0000000\\\\\n",
       "\t 1.035564 & 5.035564 & 0.5281055 & 0 & 1.035564 & 0.0000000\\\\\n",
       "\t 4.261871 & 8.261871 & 0.8924190 & 0 & 4.261871 & 0.0000000\\\\\n",
       "\t 2.778159 & 6.778159 & 0.5514350 & 0 & 2.778159 & 0.0000000\\\\\n",
       "\t 2.585786 & 6.585786 & 0.4566147 & 0 & 2.585786 & 0.0000000\\\\\n",
       "\\end{tabular}\n"
      ],
      "text/markdown": [
       "\n",
       "A tibble: 10 × 6\n",
       "\n",
       "| Y0 &lt;dbl&gt; | Y1 &lt;dbl&gt; | X &lt;dbl&gt; | D &lt;int&gt; | Y_obs &lt;dbl&gt; | IntXD &lt;dbl&gt; |\n",
       "|---|---|---|---|---|---|\n",
       "| 2.116051 | 6.116051 | 0.2875775 | 1 | 6.116051 | 0.2875775 |\n",
       "| 3.336369 | 7.336369 | 0.7883051 | 0 | 3.336369 | 0.0000000 |\n",
       "| 2.184060 | 6.184060 | 0.4089769 | 1 | 6.184060 | 0.4089769 |\n",
       "| 5.017654 | 9.017654 | 0.8830174 | 1 | 9.017654 | 0.8830174 |\n",
       "| 3.595631 | 7.595631 | 0.9404673 | 1 | 7.595631 | 0.9404673 |\n",
       "| 2.653140 | 6.653140 | 0.0455565 | 0 | 2.653140 | 0.0000000 |\n",
       "| 1.035564 | 5.035564 | 0.5281055 | 0 | 1.035564 | 0.0000000 |\n",
       "| 4.261871 | 8.261871 | 0.8924190 | 0 | 4.261871 | 0.0000000 |\n",
       "| 2.778159 | 6.778159 | 0.5514350 | 0 | 2.778159 | 0.0000000 |\n",
       "| 2.585786 | 6.585786 | 0.4566147 | 0 | 2.585786 | 0.0000000 |\n",
       "\n"
      ],
      "text/plain": [
       "   Y0       Y1       X         D Y_obs    IntXD    \n",
       "1  2.116051 6.116051 0.2875775 1 6.116051 0.2875775\n",
       "2  3.336369 7.336369 0.7883051 0 3.336369 0.0000000\n",
       "3  2.184060 6.184060 0.4089769 1 6.184060 0.4089769\n",
       "4  5.017654 9.017654 0.8830174 1 9.017654 0.8830174\n",
       "5  3.595631 7.595631 0.9404673 1 7.595631 0.9404673\n",
       "6  2.653140 6.653140 0.0455565 0 2.653140 0.0000000\n",
       "7  1.035564 5.035564 0.5281055 0 1.035564 0.0000000\n",
       "8  4.261871 8.261871 0.8924190 0 4.261871 0.0000000\n",
       "9  2.778159 6.778159 0.5514350 0 2.778159 0.0000000\n",
       "10 2.585786 6.585786 0.4566147 0 2.585786 0.0000000"
      ]
     },
     "metadata": {},
     "output_type": "display_data"
    }
   ],
   "source": [
    "set.seed(123)\n",
    "test <- sim(100)\n",
    "head(test,10)"
   ]
  },
  {
   "cell_type": "code",
   "execution_count": null,
   "metadata": {},
   "outputs": [],
   "source": []
  }
 ],
 "metadata": {
  "kernelspec": {
   "display_name": "R",
   "language": "R",
   "name": "ir"
  },
  "language_info": {
   "codemirror_mode": "r",
   "file_extension": ".r",
   "mimetype": "text/x-r-source",
   "name": "R",
   "pygments_lexer": "r",
   "version": "3.4.2"
  }
 },
 "nbformat": 4,
 "nbformat_minor": 2
}
