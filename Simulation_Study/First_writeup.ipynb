{
 "cells": [
  {
   "cell_type": "code",
   "execution_count": 12,
   "metadata": {},
   "outputs": [
    {
     "name": "stderr",
     "output_type": "stream",
     "text": [
      "Warning message:\n",
      "\"package 'tidyverse' was built under R version 3.4.3\"-- \u001b[1mAttaching packages\u001b[22m --------------------------------------- tidyverse 1.2.1 --\n",
      "\u001b[32mv\u001b[39m \u001b[34mggplot2\u001b[39m 3.1.1       \u001b[32mv\u001b[39m \u001b[34mpurrr  \u001b[39m 0.3.2  \n",
      "\u001b[32mv\u001b[39m \u001b[34mtibble \u001b[39m 2.1.1       \u001b[32mv\u001b[39m \u001b[34mdplyr  \u001b[39m 0.8.0.\u001b[31m1\u001b[39m\n",
      "\u001b[32mv\u001b[39m \u001b[34mtidyr  \u001b[39m 0.8.3       \u001b[32mv\u001b[39m \u001b[34mstringr\u001b[39m 1.4.0  \n",
      "\u001b[32mv\u001b[39m \u001b[34mreadr  \u001b[39m 1.3.1       \u001b[32mv\u001b[39m \u001b[34mforcats\u001b[39m 0.4.0  \n",
      "Warning message:\n",
      "\"package 'ggplot2' was built under R version 3.4.4\"Warning message:\n",
      "\"package 'tibble' was built under R version 3.4.4\"Warning message:\n",
      "\"package 'tidyr' was built under R version 3.4.4\"Warning message:\n",
      "\"package 'readr' was built under R version 3.4.4\"Warning message:\n",
      "\"package 'purrr' was built under R version 3.4.4\"Warning message:\n",
      "\"package 'dplyr' was built under R version 3.4.4\"Warning message:\n",
      "\"package 'stringr' was built under R version 3.4.4\"Warning message:\n",
      "\"package 'forcats' was built under R version 3.4.4\"-- \u001b[1mConflicts\u001b[22m ------------------------------------------ tidyverse_conflicts() --\n",
      "\u001b[31mx\u001b[39m \u001b[34mdplyr\u001b[39m::\u001b[32mfilter()\u001b[39m masks \u001b[34mstats\u001b[39m::filter()\n",
      "\u001b[31mx\u001b[39m \u001b[34mdplyr\u001b[39m::\u001b[32mlag()\u001b[39m    masks \u001b[34mstats\u001b[39m::lag()\n",
      "Warning message:\n",
      "\"package 'np' was built under R version 3.4.4\"Nonparametric Kernel Methods for Mixed Datatypes (version 0.60-9)\n",
      "[vignette(\"np_faq\",package=\"np\") provides answers to frequently asked questions]\n",
      "[vignette(\"np\",package=\"np\") an overview]\n",
      "[vignette(\"entropy_np\",package=\"np\") an overview of entropy-based methods]\n"
     ]
    }
   ],
   "source": [
    "library(tidyverse)\n",
    "library(np)"
   ]
  },
  {
   "cell_type": "markdown",
   "metadata": {},
   "source": [
    "$\\newcommand{\\E}{{\\rm I\\kern-.3em E}}$\n",
    "$\\newcommand{\\Var}{\\mathrm{Var}}$\n",
    "$\\newcommand{\\Cov}{\\mathrm{Cov}}$\n",
    "$\\newcommand{\\Covh}{\\widehat{\\Cov}}$\n",
    "$\\newcommand{\\Varh}{\\widehat{\\Var}}$\n",
    "$\\newcommand{\\betah}{\\widehat{\\beta}}$\n",
    "$\\newcommand{\\Eh}{\\widehat{\\E}}$\n",
    "$\\newcommand{\\YO}{Y(0)}$\n",
    "$\\newcommand{\\YI}{Y(1)}$\n",
    "$\\newcommand{\\indep}{\\perp \\!\\!\\! \\perp}$\n"
   ]
  },
  {
   "cell_type": "markdown",
   "metadata": {},
   "source": [
    "# Settings+ Assumptions"
   ]
  },
  {
   "cell_type": "markdown",
   "metadata": {},
   "source": [
    "Suppose we have random sample (i.i.d.) of the reference population, each containing a feature vector $X_i$, a treatment indicator $D_i$ and an outcome $Y_i$. In short: $\\left\\{(Y_i,X_i,D_i)\\right\\}_{i=1}^{n}$.\n",
    "Generally, we will either assume unconfoundedness (ignorability) or purely random treatment assignment in our DGPs. More formally, random treatment assignment amounts to \n",
    "\n",
    "\\begin{equation}\n",
    "(\\YI,\\YO)\\enspace\\indep\\enspace D.\\label{eq:rt}\n",
    "\\end{equation}\n",
    "\n",
    "In situations usually analyzed within the social sciences, this assumption turns out to be too restrictive (ref.). Therefore, as we've seen throughout the course, many methods were developed under the assumption of unconfoundedness:\n",
    "$$\n",
    "\\begin{equation}\n",
    "(\\YI,\\YO)\\enspace\\indep\\enspace D\\enspace \\lvert\\enspace X.\\label{eq:uf}\n",
    "\\end{equation}\n",
    "$$\n",
    "This is also used by [@wager2018estimation] to develop the theory of causal trees/forests.\\newline\n",
    "Within the simulation study we'll also try to stress the consequences for estimation when switching from (\\ref{eq:rt}) to (\\ref{eq:uf}). \n"
   ]
  },
  {
   "cell_type": "markdown",
   "metadata": {},
   "source": [
    "## Heterogeneous Treatment Effects\n",
    "To develop an intuition for the importance of heterogeneity in treatment effects, we define the Average Treatment Effect (ATE) and the Conditional Average Treatment Effect (CATE) as follows.\n",
    "\n",
    "\\begin{align}\n",
    "\\delta&\\equiv \\E(\\YI-\\YO)\\label{eq:ate}\\\\[10pt]\n",
    "\\delta(x)&\\equiv\\E(\\YI-\\YO\\vert X=x)\\label{eq:cate}\\\\[10pt]\n",
    "\\end{align}\n",
    "\n",
    "\n",
    "These definitions are conceptually different: While the CATE is a real-valued function mapping a realization of the random variable $X$ to a real number, the ATE is a real number. Thus, by definition, the CATE allows to have \\textit{distinct} treatment effects for different realizations of $X$. By the law of iterated expectation we have the following relationship:\n",
    "\n",
    "\n",
    "\\begin{equation*}\n",
    "\\E\\left(\\delta(X)\\right)=\\delta\n",
    "\\end{equation*}\n",
    "\n",
    "\n",
    "Thus, the ATE is a summary statistic of the CATE. Example for illustration + ref.  \n"
   ]
  },
  {
   "cell_type": "markdown",
   "metadata": {},
   "source": [
    "## First Model"
   ]
  },
  {
   "cell_type": "markdown",
   "metadata": {},
   "source": [
    "For the whole first part of the simulations, I'll stick to models that are linear in parameters when it comes to generating the potential outcomes. More specifically,\n",
    "\n",
    "\n",
    "\\begin{align}\n",
    "Y(0)&=\\gamma_0 + \\gamma_1\\cdot g(X)+ \\gamma_2\\cdot h(X) +\\varepsilon \\\\\n",
    "Y(1)&=\\phi_0 + \\phi_1\\cdot f(X)+ \\phi_2\\cdot c(X)+\\varepsilon,\n",
    "\\end{align}\n",
    "\n",
    "\n",
    "where\n",
    "\n",
    "* $\\varepsilon \\stackrel{\\text{i.i.d}}{\\sim} \\mathcal{N}(0,1),\\quad X \\stackrel{\\text{i.i.d}}{\\sim} U[0,1]$\n",
    "* $g(\\cdot),h(\\cdot),f(\\cdot),\\enspace \\text{and}\\enspace c(\\cdot)$ are real-valued functions\n",
    "* $\\phi_j, \\gamma_j \\in \\mathbb{R}$, $j=1,2,3$\n",
    "\n",
    "\n",
    "In this model, ATE (\\ref{eq:ate}) and CATE (\\ref{eq:cate}) become\n",
    "\n",
    "\n",
    "\\begin{align*}\n",
    "\\delta&=\\phi_0 - \\gamma_0 + \\phi_1 \\E(f(X))-\\gamma_1 \\E(g(X))+\\phi_2\\E(c(X))-\\gamma_2\\E(h(X))\\\\[5pt]\n",
    "\\delta(x)&=\\phi_0 - \\gamma_0 + \\phi_1 f(x)-\\gamma_1 g(x)+\\phi_2 c(x)-\\gamma_2 h(x).\n",
    "\\end{align*}\n",
    "\n",
    "The workhorse function to generate the simulations from the first part looks as follows."
   ]
  },
  {
   "cell_type": "code",
   "execution_count": 10,
   "metadata": {},
   "outputs": [],
   "source": [
    "sim <- function(n, het_linear = FALSE, random_assignment = TRUE,\n",
    "                non_linearY = FALSE, non_linearD = FALSE,\n",
    "                gamma0=1, gamma1=3, gamma2=0, gamma3=1,\n",
    "                phi0=5, phi1=3, phi1p=5, phi2=0, phi3=5){\n",
    "  x <- runif(n)\n",
    "  eps <- rnorm(n)\n",
    "  #\n",
    "  if(random_assignment){D <- rbinom(n,size=1,prob=0.5)}\n",
    "  else{\n",
    "    D <- rep(0,n)\n",
    "    if(non_linearD){\n",
    "    c_1<- 0.1; c_2 <- 0.89\n",
    "    prt <- function(x){c_1+0.01*x+c_2*sin(pi*x)}\n",
    "    }\n",
    "    else{prt <- function(x){x}}\n",
    "    for(j in seq_along(D)){D[j] <- rbinom(1,size=1,prob=prt(x[j]))}\n",
    "  }\n",
    "  if(non_linearY){\n",
    "    nl <- function(z,const,t=1){const+3*z+20*sin(pi*z*t)}\n",
    "    y1 <- nl(z=x,const=phi0,t=phi3) + eps\n",
    "    y0 <- nl(z=x,const=gamma0,t=gamma3) + eps\n",
    "    }\n",
    "  else{\n",
    "    if(het_linear){y1 <- phi0 + phi1p*x + eps}\n",
    "    else{y1 <- phi0 + phi1*x + eps}\n",
    "    y0 <- gamma0 + gamma1*x + eps\n",
    "  }\n",
    "  res <- tibble(Y0=y0[order(x)], Y1=y1[order(x)], X=sort(x),\n",
    "                D=D[order(x)],Y_obs=rep(0,n),IntXD=x[order(x)]*D[order(x)])\n",
    "  res$Y_obs[res$D==1] <- res$Y1[res$D==1]\n",
    "  res$Y_obs[res$D==0] <- res$Y0[res$D==0]\n",
    "  return(res)\n",
    "}"
   ]
  },
  {
   "cell_type": "markdown",
   "metadata": {},
   "source": [
    "## Constant treatment effects (no heterogeneity) + linearity\n",
    "For the first simulation we'll study a straightforward setup to illustrate where CATE and ATE coincide. We'll use the following specification.\n",
    "\n",
    "* $f:\\mathbb{R} \\longrightarrow \\mathbb{R},\\quad x \\mapsto x$ and $f=g=c=h$\n",
    "* $\\phi_1 = \\gamma_1$ and $\\phi_2 = \\gamma_2 = 0$\n",
    "* $\\phi_0=5$, $\\gamma_0 = 1$\n",
    "\n",
    "Thus we obtain \n",
    "$$\n",
    "\\begin{align*}\n",
    "\\delta&=\\phi_0 - \\gamma_0+\\E\\left[(\\phi_1-\\gamma_1)\\cdot X \\right]\\\\\n",
    "&=\\phi_0 - \\gamma_0\\\\[10pt]\n",
    "\\delta(x)&=\\E(\\phi_0 - \\gamma_0\\vert X=x)\\\\\n",
    "&=\\phi_0 - \\gamma_0\\\\\n",
    "&= 4\n",
    "\\end{align*}\n",
    "$$"
   ]
  },
  {
   "cell_type": "code",
   "execution_count": 15,
   "metadata": {},
   "outputs": [
    {
     "data": {
      "text/html": [
       "<table>\n",
       "<caption>A tibble: 10 × 6</caption>\n",
       "<thead>\n",
       "\t<tr><th scope=col>Y0</th><th scope=col>Y1</th><th scope=col>X</th><th scope=col>D</th><th scope=col>Y_obs</th><th scope=col>IntXD</th></tr>\n",
       "\t<tr><th scope=col>&lt;dbl&gt;</th><th scope=col>&lt;dbl&gt;</th><th scope=col>&lt;dbl&gt;</th><th scope=col>&lt;int&gt;</th><th scope=col>&lt;dbl&gt;</th><th scope=col>&lt;dbl&gt;</th></tr>\n",
       "</thead>\n",
       "<tbody>\n",
       "\t<tr><td>-0.7382029</td><td>3.261797</td><td>0.002480563</td><td>0</td><td>-0.7382029</td><td>0.002480563</td></tr>\n",
       "\t<tr><td> 1.5477774</td><td>5.547777</td><td>0.004276119</td><td>0</td><td> 1.5477774</td><td>0.000000000</td></tr>\n",
       "\t<tr><td>-0.3378735</td><td>3.662126</td><td>0.004781744</td><td>0</td><td>-0.3378735</td><td>0.000000000</td></tr>\n",
       "\t<tr><td> 1.6704225</td><td>5.670423</td><td>0.006577028</td><td>0</td><td> 1.6704225</td><td>0.006577028</td></tr>\n",
       "\t<tr><td> 0.2237947</td><td>4.223795</td><td>0.015687752</td><td>1</td><td> 4.2237947</td><td>0.000000000</td></tr>\n",
       "\t<tr><td> 1.9672516</td><td>5.967252</td><td>0.017277154</td><td>0</td><td> 1.9672516</td><td>0.000000000</td></tr>\n",
       "\t<tr><td> 0.2028594</td><td>4.202859</td><td>0.024443384</td><td>0</td><td> 0.2028594</td><td>0.024443384</td></tr>\n",
       "\t<tr><td>-0.7366036</td><td>3.263396</td><td>0.025499202</td><td>0</td><td>-0.7366036</td><td>0.000000000</td></tr>\n",
       "\t<tr><td> 0.3288485</td><td>4.328848</td><td>0.040290139</td><td>1</td><td> 4.3288485</td><td>0.000000000</td></tr>\n",
       "\t<tr><td> 2.8569948</td><td>6.856995</td><td>0.043232744</td><td>1</td><td> 6.8569948</td><td>0.000000000</td></tr>\n",
       "</tbody>\n",
       "</table>\n"
      ],
      "text/latex": [
       "A tibble: 10 × 6\n",
       "\\begin{tabular}{r|llllll}\n",
       " Y0 & Y1 & X & D & Y\\_obs & IntXD\\\\\n",
       " <dbl> & <dbl> & <dbl> & <int> & <dbl> & <dbl>\\\\\n",
       "\\hline\n",
       "\t -0.7382029 & 3.261797 & 0.002480563 & 0 & -0.7382029 & 0.002480563\\\\\n",
       "\t  1.5477774 & 5.547777 & 0.004276119 & 0 &  1.5477774 & 0.000000000\\\\\n",
       "\t -0.3378735 & 3.662126 & 0.004781744 & 0 & -0.3378735 & 0.000000000\\\\\n",
       "\t  1.6704225 & 5.670423 & 0.006577028 & 0 &  1.6704225 & 0.006577028\\\\\n",
       "\t  0.2237947 & 4.223795 & 0.015687752 & 1 &  4.2237947 & 0.000000000\\\\\n",
       "\t  1.9672516 & 5.967252 & 0.017277154 & 0 &  1.9672516 & 0.000000000\\\\\n",
       "\t  0.2028594 & 4.202859 & 0.024443384 & 0 &  0.2028594 & 0.024443384\\\\\n",
       "\t -0.7366036 & 3.263396 & 0.025499202 & 0 & -0.7366036 & 0.000000000\\\\\n",
       "\t  0.3288485 & 4.328848 & 0.040290139 & 1 &  4.3288485 & 0.000000000\\\\\n",
       "\t  2.8569948 & 6.856995 & 0.043232744 & 1 &  6.8569948 & 0.000000000\\\\\n",
       "\\end{tabular}\n"
      ],
      "text/markdown": [
       "\n",
       "A tibble: 10 × 6\n",
       "\n",
       "| Y0 &lt;dbl&gt; | Y1 &lt;dbl&gt; | X &lt;dbl&gt; | D &lt;int&gt; | Y_obs &lt;dbl&gt; | IntXD &lt;dbl&gt; |\n",
       "|---|---|---|---|---|---|\n",
       "| -0.7382029 | 3.261797 | 0.002480563 | 0 | -0.7382029 | 0.002480563 |\n",
       "|  1.5477774 | 5.547777 | 0.004276119 | 0 |  1.5477774 | 0.000000000 |\n",
       "| -0.3378735 | 3.662126 | 0.004781744 | 0 | -0.3378735 | 0.000000000 |\n",
       "|  1.6704225 | 5.670423 | 0.006577028 | 0 |  1.6704225 | 0.006577028 |\n",
       "|  0.2237947 | 4.223795 | 0.015687752 | 1 |  4.2237947 | 0.000000000 |\n",
       "|  1.9672516 | 5.967252 | 0.017277154 | 0 |  1.9672516 | 0.000000000 |\n",
       "|  0.2028594 | 4.202859 | 0.024443384 | 0 |  0.2028594 | 0.024443384 |\n",
       "| -0.7366036 | 3.263396 | 0.025499202 | 0 | -0.7366036 | 0.000000000 |\n",
       "|  0.3288485 | 4.328848 | 0.040290139 | 1 |  4.3288485 | 0.000000000 |\n",
       "|  2.8569948 | 6.856995 | 0.043232744 | 1 |  6.8569948 | 0.000000000 |\n",
       "\n"
      ],
      "text/plain": [
       "   Y0         Y1       X           D Y_obs      IntXD      \n",
       "1  -0.7382029 3.261797 0.002480563 0 -0.7382029 0.002480563\n",
       "2   1.5477774 5.547777 0.004276119 0  1.5477774 0.000000000\n",
       "3  -0.3378735 3.662126 0.004781744 0 -0.3378735 0.000000000\n",
       "4   1.6704225 5.670423 0.006577028 0  1.6704225 0.006577028\n",
       "5   0.2237947 4.223795 0.015687752 1  4.2237947 0.000000000\n",
       "6   1.9672516 5.967252 0.017277154 0  1.9672516 0.000000000\n",
       "7   0.2028594 4.202859 0.024443384 0  0.2028594 0.024443384\n",
       "8  -0.7366036 3.263396 0.025499202 0 -0.7366036 0.000000000\n",
       "9   0.3288485 4.328848 0.040290139 1  4.3288485 0.000000000\n",
       "10  2.8569948 6.856995 0.043232744 1  6.8569948 0.000000000"
      ]
     },
     "metadata": {},
     "output_type": "display_data"
    }
   ],
   "source": [
    "test <- sim(100)\n",
    "head(test,10)"
   ]
  },
  {
   "cell_type": "code",
   "execution_count": null,
   "metadata": {},
   "outputs": [],
   "source": []
  }
 ],
 "metadata": {
  "kernelspec": {
   "display_name": "R",
   "language": "R",
   "name": "ir"
  },
  "language_info": {
   "codemirror_mode": "r",
   "file_extension": ".r",
   "mimetype": "text/x-r-source",
   "name": "R",
   "pygments_lexer": "r",
   "version": "3.4.2"
  }
 },
 "nbformat": 4,
 "nbformat_minor": 2
}
