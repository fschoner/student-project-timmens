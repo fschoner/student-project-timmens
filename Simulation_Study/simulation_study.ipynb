{
 "cells": [
  {
   "cell_type": "code",
   "execution_count": 1,
   "metadata": {},
   "outputs": [],
   "source": [
    "pack <- c(\"tidyverse\", \"plyr\", \"dplyr\", \"np\", \"FNN\", \"modelr\", \"rpart\", \"doParallel\", \"sandwich\",\n",
    "          \"grf\", \"Matching\", \"boot\", \"ggplot2\")\n",
    "invisible(suppressMessages(suppressWarnings(lapply(pack, require, character.only = TRUE))))"
   ]
  },
  {
   "cell_type": "markdown",
   "metadata": {},
   "source": [
    "$\\newcommand{\\E}{{\\rm I\\kern-.3em E}}$\n",
    "$\\newcommand{\\Var}{\\mathrm{Var}}$\n",
    "$\\newcommand{\\Cov}{\\mathrm{Cov}}$\n",
    "$\\newcommand{\\Covh}{\\widehat{\\Cov}}$\n",
    "$\\newcommand{\\Varh}{\\widehat{\\Var}}$\n",
    "$\\newcommand{\\betah}{\\widehat{\\beta}}$\n",
    "$\\newcommand{\\Eh}{\\widehat{\\E}}$\n",
    "$\\newcommand{\\YO}{Y(0)}$\n",
    "$\\newcommand{\\YI}{Y(1)}$\n",
    "$\\newcommand{\\indep}{\\perp \\!\\!\\! \\perp}$\n",
    "$\\newcommand{\\atehat}{\\widehat{\\text{ATE}}}$\n"
   ]
  },
  {
   "cell_type": "markdown",
   "metadata": {},
   "source": [
    "# 1 Assumptions + Estimation strategies"
   ]
  },
  {
   "cell_type": "markdown",
   "metadata": {},
   "source": [
    "Suppose we have random sample (i.i.d.) of the reference population, each containing a feature vector $X_i$, a treatment indicator $D_i$ and an outcome $Y_i$. In short: $\\left\\{(Y_i,X_i,D_i)\\right\\}_{i=1}^{n}$.\n",
    "Generally, we will either assume unconfoundedness (ignorability) or purely random treatment assignment in our DGPs. More formally, random treatment assignment amounts to \n",
    "<br>\n",
    "&ensp;\n",
    "\\begin{equation}\n",
    "(\\YI,\\YO)\\enspace\\indep\\enspace D.\\label{eq:rt}\n",
    "\\end{equation}\n",
    "<br>\n",
    "&ensp;\n",
    "In situations usually analyzed within the social sciences, this assumption turns out to be too restrictive (ref.). Therefore, as we've seen throughout the course, many methods were developed under the assumption of unconfoundedness:\n",
    "<br>\n",
    "&ensp;\n",
    "\\begin{equation}\n",
    "(\\YI,\\YO)\\enspace\\indep\\enspace D\\enspace \\lvert\\enspace X.\\label{eq:uf}\n",
    "\\end{equation}\n",
    "<br>\n",
    "&ensp;\n",
    "This is also used by [@wager2018estimation] to develop the theory of causal trees/forests.\\newline\n",
    "Within the simulation study we'll also try to stress the consequences for estimation when switching from (\\ref{eq:rt}) to (\\ref{eq:uf}). \n"
   ]
  },
  {
   "cell_type": "markdown",
   "metadata": {},
   "source": [
    "## 1.1 Heterogeneous Treatment Effects\n",
    "To develop an intuition for the importance of heterogeneity in treatment effects, we define the Average Treatment Effect (ATE) and the Conditional Average Treatment Effect (CATE) as follows.\n",
    "<br>\n",
    "&ensp;\n",
    "\\begin{align}\n",
    "\\delta&\\equiv \\E(\\YI-\\YO)\\label{eq:ate}\\\\[10pt]\n",
    "\\delta(x)&\\equiv\\E(\\YI-\\YO\\vert X=x)\\label{eq:cate}\\\\[10pt]\n",
    "\\end{align}\n",
    "<br>\n",
    "&ensp;\n",
    "These definitions are conceptually different: While the CATE is a real-valued function mapping a realization of the random variable $X$ to a real number, the ATE is a real number. Thus, by definition, the CATE allows to have *distinct* treatment effects for different realizations of $X$. By the law of iterated expectation we have the following relationship between \\ref{eq:ate} and \\ref{eq:cate}:\n",
    "\n",
    "\n",
    "\\begin{equation*}\n",
    "\\E\\left(\\delta(X)\\right)=\\delta\n",
    "\\end{equation*}\n",
    "\n",
    "<br>\n",
    "&ensp;\n",
    "Thus, the ATE is a summary statistic of the CATE. Example for illustration + ref.  \n"
   ]
  },
  {
   "cell_type": "markdown",
   "metadata": {},
   "source": [
    "When it comes to estimation of both quantities, we have to make sure they're identified in the first place. \n",
    "While \\ref{eq:uf} is sufficient to identify the ATE \\ref{eq:ate}, we need an additional assumption for the CATE \\ref{eq:cate}. This is because estimating the CATE requires estimation of a function at _every_ possible point in the support of $X$. Since the function of interest involves both units in treatment and control, we have to assume that we observe both treated and control units at every possible $X=x$. In other words, we assume overlap."
   ]
  },
  {
   "cell_type": "markdown",
   "metadata": {},
   "source": [
    "For almost every $x \\in \\text{supp} X$, \n",
    "\\begin{equation}\n",
    "\\eta < \\text{Pr}(D=1 | X=x)< 1-\\eta\\enspace\\text{for some}\\enspace \\eta>0 \\label{eq:overlap}\n",
    "\\end{equation}\n"
   ]
  },
  {
   "cell_type": "markdown",
   "metadata": {},
   "source": [
    "## 1.2 Structural representation"
   ]
  },
  {
   "cell_type": "markdown",
   "metadata": {},
   "source": [
    "For the first part of the simulations, we can postulate the following structural equations.\n",
    "\n",
    "\n",
    "\\begin{align*}\n",
    "X&= f_{X}(u_1),\\\\\n",
    "D&= f_{D}(X),\\\\\n",
    "Y&= f_{Y}(X, D, \\varepsilon)\\\\\n",
    "\\end{align*}\n",
    "The corresponding graph looks as follows.\n",
    "\n"
   ]
  },
  {
   "cell_type": "markdown",
   "metadata": {},
   "source": [
    "<img src=\"Causal_graphs.png\" height=300 width=300 />"
   ]
  },
  {
   "cell_type": "markdown",
   "metadata": {},
   "source": [
    "Note that we could have omitted $\\varepsilon$ from the DAG-representation because I'll assume it to be independent of all the other variables throughout (p.88, textbook).\n",
    "The DAG-representation rightly suggests that identification is rather easy here: blocking the back-door path $D \\leftarrow X \\rightarrow Y$ is sufficient and can be achieved by controllig for the observable $X$."
   ]
  },
  {
   "cell_type": "markdown",
   "metadata": {},
   "source": [
    "## 1.3 Estimation Strategies"
   ]
  },
  {
   "cell_type": "markdown",
   "metadata": {},
   "source": [
    "### 1.3.1 ATE"
   ]
  },
  {
   "cell_type": "markdown",
   "metadata": {},
   "source": [
    "In every setting, ATE-estimates will be obtained from four different estimators.\n",
    "\n",
    "1.) Naive estimator\n",
    "$$\\begin{equation}\n",
    "\\widehat{\\text{ATE}}_{\\text{Naive}} = \\bar{Y}_1 - \\bar{Y}_{0} =\\frac{1}{n_1} \\sum_{i: D_i =1}^{} Y_i + \\frac{1}{n_0}\\sum_{i: D_i = 0}^{} Y_i\n",
    "\\end{equation}$$"
   ]
  },
  {
   "cell_type": "code",
   "execution_count": null,
   "metadata": {},
   "outputs": [],
   "source": [
    "2.) "
   ]
  },
  {
   "cell_type": "markdown",
   "metadata": {},
   "source": [
    "# 2 Simulation"
   ]
  },
  {
   "cell_type": "markdown",
   "metadata": {},
   "source": [
    "## 2.1 One-dimensional X"
   ]
  },
  {
   "cell_type": "markdown",
   "metadata": {},
   "source": [
    "For nearly the whole first part of the simulations, I'll stick to models that are linear in parameters when it comes to generating the potential outcomes. In addition, the first part will exclusively consider the case in which the feature vector $X$ is of dimension $1$. The models under consideration will be special cases of the following DGP:\n",
    "<br>\n",
    "&ensp;\n",
    "\\begin{align}\n",
    "Y(0)&=\\gamma_0 + \\gamma_1\\cdot g(X)+ \\gamma_2\\cdot h(\\gamma_3 X) +\\varepsilon_0 \\\\\n",
    "Y(1)&=\\phi_0 + \\phi_1\\cdot f(X)+ \\phi_2\\cdot c(\\phi_3 X)+\\varepsilon_1 ,\n",
    "\\end{align}\n",
    "<br>\n",
    "&ensp;\n",
    "where\n",
    "\n",
    "* $\\varepsilon_j \\stackrel{\\text{i.i.d}}{\\sim} \\mathcal{N}(0,1),\\enspace j=0,1,\\quad X \\stackrel{\\text{i.i.d}}{\\sim} U[0,1]$\n",
    "<br>\n",
    "&ensp;\n",
    "* $g(\\cdot),h(\\cdot),f(\\cdot),\\enspace \\text{and}\\enspace c(\\cdot)$ are real-valued functions\n",
    "<br>\n",
    "&ensp;\n",
    "* $\\phi_j, \\gamma_j \\in \\mathbb{R}$, $j=1,2,3$\n",
    "<br>\n",
    "&ensp;\n",
    "\n",
    "\n",
    "In this model, ATE (\\ref{eq:ate}) and CATE (\\ref{eq:cate}) become\n",
    "<br>\n",
    "&ensp;\n",
    "\\begin{align*}\n",
    "\\delta&=\\phi_0 - \\gamma_0 + \\phi_1 \\E(f(X))-\\gamma_1 \\E(g(X))+\\phi_2\\E(c(X))-\\gamma_2\\E(h(X))\\\\[5pt]\n",
    "\\delta(x)&=\\phi_0 - \\gamma_0 + \\phi_1 f(x)-\\gamma_1 g(x)+\\phi_2 c(x)-\\gamma_2 h(x).\n",
    "\\end{align*}\n",
    "<br>\n",
    "&ensp;"
   ]
  },
  {
   "cell_type": "markdown",
   "metadata": {},
   "source": [
    "Furthermore, treatment assignment is allowed to be a real-valued function of realizations of $X$, an assumption that corresponds to the concept of selection on observables."
   ]
  },
  {
   "cell_type": "markdown",
   "metadata": {},
   "source": [
    "\\begin{align*}\n",
    "\\E(D\\vert X=x)=\\text{Pr}(D=1\\vert X=x)&=\\zeta(x)\\\\\n",
    "&\\in \\left[0,1\\right] \\enspace \\forall x \\in \\text{supp} X\n",
    "\\end{align*}"
   ]
  },
  {
   "cell_type": "markdown",
   "metadata": {},
   "source": [
    "### 2.1.1 Random Assignment + Linearity"
   ]
  },
  {
   "cell_type": "code",
   "execution_count": 2,
   "metadata": {},
   "outputs": [],
   "source": [
    "sim <- function(n, het_linear = FALSE, random_assignment = TRUE,\n",
    "                non_linearY = FALSE, non_linearD = FALSE,\n",
    "                gamma0=1, gamma1=3, gamma2=0, gamma3=1,\n",
    "                phi0=5, phi1=3, phi1p=5, phi2=0, phi3=5){\n",
    "  x <- runif(n)\n",
    "  eps <- rnorm(n)\n",
    "  #\n",
    "  if(random_assignment){D <- rbinom(n,size=1,prob=0.5)}\n",
    "  else{\n",
    "    D <- rep(0,n)\n",
    "    if(non_linearD){\n",
    "      c_1<- 0.1; c_2 <- 0.89\n",
    "      prt <- function(x){c_1+0.01*x+c_2*sin(pi*x)}\n",
    "    }\n",
    "    else{prt <- function(x){x}}\n",
    "    for(j in seq_along(D)){D[j] <- rbinom(1,size=1,prob=prt(x[j]))}\n",
    "  }\n",
    "  if(non_linearY){\n",
    "    nl <- function(z,const,t=1){const+3*z+20*sin(pi*z*t)}\n",
    "    y1 <- nl(z=x,const=phi0,t=phi3) + eps\n",
    "    y0 <- nl(z=x,const=gamma0,t=gamma3) + eps\n",
    "  }\n",
    "  else{\n",
    "    if(het_linear){y1 <- phi0 + phi1p*x + eps}\n",
    "    else{y1 <- phi0 + phi1*x + eps}\n",
    "    y0 <- gamma0 + gamma1*x + eps\n",
    "  }\n",
    "  res <- tibble(Y0=y0,Y1=y1,X=x,D=D,Y_obs=rep(0,n),IntXD=x*D)\n",
    "  res$Y_obs[res$D==1] <- res$Y1[res$D==1]\n",
    "  res$Y_obs[res$D==0] <- res$Y0[res$D==0]\n",
    "  return(res)\n",
    "}"
   ]
  },
  {
   "cell_type": "markdown",
   "metadata": {},
   "source": [
    "The function allows you to tweak a variety of parameters. \n",
    "* $n$ is the number of observations\n",
    "<br>\n",
    "&nbsp;\n",
    "* `het_linear` is boolean and leads to different slopes of $Y(0)$ and $Y(1)$ in $X$\n",
    "<br>\n",
    "&nbsp;\n",
    "* `random_assignment`is boolean and allows you to switch between random treatment assignment ($\\ref{eq:rt}$) and unconfoundedness ($\\ref{eq:uf}$).<br>\n",
    "<br>\n",
    "&nbsp;\n",
    "Under random treatment assignment $\\text{Pr}(D\\vert X=x)=\\frac{1}{2}$, whereas under unconfoundedness I hoose a linearly increasing function: $\\text{Pr}(D\\vert X=x)=x$\n",
    "<br>\n",
    "&nbsp;\n",
    "* `non_linearY` is boolean and implements non-linear $Y(1)$ and $Y(0)$ by specifying \n",
    "<br>\n",
    "&nbsp;\n",
    "\\begin{align*}\n",
    "h&:\\mathbb{R} \\longrightarrow \\mathbb{R},\\quad x \\mapsto \\sin(\\pi\\gamma_3 x)\\\\\n",
    "c&:\\mathbb{R} \\longrightarrow \\mathbb{R},\\quad x \\mapsto \\sin(\\pi\\phi_3 x)\n",
    "\\end{align*}\n",
    "<br>\n",
    "&nbsp;\n",
    "* `non_linearD` is boolean and implements a non-linear function for the probability of treament\n",
    "<br>\n",
    "&nbsp;\n",
    "\\begin{align*}\n",
    "\\E(D\\vert X=x)=\\text{Pr}(D\\vert X=x)&=0.1+0.89\\cdot\\sin(\\pi x)\\\\\n",
    "&\\in \\left[0,1\\right]\n",
    "\\end{align*}\n",
    "<br>\n",
    "&nbsp;\n",
    "Finally, the function returns a data frame with the variables $Y(0)$, $Y(1)$, $X$, $D$, and $X\\cdot D$."
   ]
  },
  {
   "cell_type": "markdown",
   "metadata": {},
   "source": [
    "## Constant treatment effects (no heterogeneity) + linearity\n",
    "For the first simulation we'll study a straightforward setup to illustrate where CATE and ATE coincide. We'll use the following specification.\n",
    "\n",
    "* $f:\\mathbb{R} \\longrightarrow \\mathbb{R},\\quad x \\mapsto x$ and $f=g=c=h$\n",
    "<br>\n",
    "&ensp;\n",
    "* $\\phi_1 = \\gamma_1$ and $\\phi_2 = \\gamma_2 = 0$\n",
    "<br>\n",
    "&ensp;\n",
    "* $\\phi_0=5$, $\\gamma_0 = 1$\n",
    "<br>\n",
    "&ensp;\n",
    "\n",
    "Thus we obtain \n",
    "<br>\n",
    "&ensp;\n",
    "\\begin{align*}\n",
    "\\delta&=\\phi_0 - \\gamma_0+\\E\\left[(\\phi_1-\\gamma_1)\\cdot X \\right]\\\\\n",
    "&=\\phi_0 - \\gamma_0\\\\\n",
    "&=4\\\\[10pt]\n",
    "\\delta(x)&=\\E(\\phi_0 - \\gamma_0\\vert X=x)\\\\\n",
    "&=\\phi_0 - \\gamma_0\\\\\n",
    "\\end{align*}\n",
    "<br>\n",
    "&ensp;"
   ]
  },
  {
   "cell_type": "code",
   "execution_count": 4,
   "metadata": {},
   "outputs": [
    {
     "data": {
      "text/html": [
       "<table>\n",
       "<caption>A tibble: 10 × 6</caption>\n",
       "<thead>\n",
       "\t<tr><th scope=col>Y0</th><th scope=col>Y1</th><th scope=col>X</th><th scope=col>D</th><th scope=col>Y_obs</th><th scope=col>IntXD</th></tr>\n",
       "\t<tr><th scope=col>&lt;dbl&gt;</th><th scope=col>&lt;dbl&gt;</th><th scope=col>&lt;dbl&gt;</th><th scope=col>&lt;int&gt;</th><th scope=col>&lt;dbl&gt;</th><th scope=col>&lt;dbl&gt;</th></tr>\n",
       "</thead>\n",
       "<tbody>\n",
       "\t<tr><td>2.5457689</td><td>6.545769</td><td>0.38262576</td><td>0</td><td>2.5457689</td><td>0.00000000</td></tr>\n",
       "\t<tr><td>0.9387381</td><td>4.938738</td><td>0.86127311</td><td>0</td><td>0.9387381</td><td>0.00000000</td></tr>\n",
       "\t<tr><td>3.5509334</td><td>7.550933</td><td>0.86729329</td><td>1</td><td>7.5509334</td><td>0.86729329</td></tr>\n",
       "\t<tr><td>0.0921096</td><td>4.092110</td><td>0.01338264</td><td>1</td><td>4.0921096</td><td>0.01338264</td></tr>\n",
       "\t<tr><td>2.7765919</td><td>6.776592</td><td>0.60000625</td><td>0</td><td>2.7765919</td><td>0.00000000</td></tr>\n",
       "\t<tr><td>2.4901825</td><td>6.490182</td><td>0.21668722</td><td>0</td><td>2.4901825</td><td>0.00000000</td></tr>\n",
       "\t<tr><td>2.1165752</td><td>6.116575</td><td>0.56976284</td><td>1</td><td>6.1165752</td><td>0.56976284</td></tr>\n",
       "\t<tr><td>0.1969798</td><td>4.196980</td><td>0.15011419</td><td>0</td><td>0.1969798</td><td>0.00000000</td></tr>\n",
       "\t<tr><td>2.4790400</td><td>6.479040</td><td>0.82968150</td><td>0</td><td>2.4790400</td><td>0.00000000</td></tr>\n",
       "\t<tr><td>2.6613300</td><td>6.661330</td><td>0.58651547</td><td>0</td><td>2.6613300</td><td>0.00000000</td></tr>\n",
       "</tbody>\n",
       "</table>\n"
      ],
      "text/latex": [
       "A tibble: 10 × 6\n",
       "\\begin{tabular}{r|llllll}\n",
       " Y0 & Y1 & X & D & Y\\_obs & IntXD\\\\\n",
       " <dbl> & <dbl> & <dbl> & <int> & <dbl> & <dbl>\\\\\n",
       "\\hline\n",
       "\t 2.5457689 & 6.545769 & 0.38262576 & 0 & 2.5457689 & 0.00000000\\\\\n",
       "\t 0.9387381 & 4.938738 & 0.86127311 & 0 & 0.9387381 & 0.00000000\\\\\n",
       "\t 3.5509334 & 7.550933 & 0.86729329 & 1 & 7.5509334 & 0.86729329\\\\\n",
       "\t 0.0921096 & 4.092110 & 0.01338264 & 1 & 4.0921096 & 0.01338264\\\\\n",
       "\t 2.7765919 & 6.776592 & 0.60000625 & 0 & 2.7765919 & 0.00000000\\\\\n",
       "\t 2.4901825 & 6.490182 & 0.21668722 & 0 & 2.4901825 & 0.00000000\\\\\n",
       "\t 2.1165752 & 6.116575 & 0.56976284 & 1 & 6.1165752 & 0.56976284\\\\\n",
       "\t 0.1969798 & 4.196980 & 0.15011419 & 0 & 0.1969798 & 0.00000000\\\\\n",
       "\t 2.4790400 & 6.479040 & 0.82968150 & 0 & 2.4790400 & 0.00000000\\\\\n",
       "\t 2.6613300 & 6.661330 & 0.58651547 & 0 & 2.6613300 & 0.00000000\\\\\n",
       "\\end{tabular}\n"
      ],
      "text/markdown": [
       "\n",
       "A tibble: 10 × 6\n",
       "\n",
       "| Y0 &lt;dbl&gt; | Y1 &lt;dbl&gt; | X &lt;dbl&gt; | D &lt;int&gt; | Y_obs &lt;dbl&gt; | IntXD &lt;dbl&gt; |\n",
       "|---|---|---|---|---|---|\n",
       "| 2.5457689 | 6.545769 | 0.38262576 | 0 | 2.5457689 | 0.00000000 |\n",
       "| 0.9387381 | 4.938738 | 0.86127311 | 0 | 0.9387381 | 0.00000000 |\n",
       "| 3.5509334 | 7.550933 | 0.86729329 | 1 | 7.5509334 | 0.86729329 |\n",
       "| 0.0921096 | 4.092110 | 0.01338264 | 1 | 4.0921096 | 0.01338264 |\n",
       "| 2.7765919 | 6.776592 | 0.60000625 | 0 | 2.7765919 | 0.00000000 |\n",
       "| 2.4901825 | 6.490182 | 0.21668722 | 0 | 2.4901825 | 0.00000000 |\n",
       "| 2.1165752 | 6.116575 | 0.56976284 | 1 | 6.1165752 | 0.56976284 |\n",
       "| 0.1969798 | 4.196980 | 0.15011419 | 0 | 0.1969798 | 0.00000000 |\n",
       "| 2.4790400 | 6.479040 | 0.82968150 | 0 | 2.4790400 | 0.00000000 |\n",
       "| 2.6613300 | 6.661330 | 0.58651547 | 0 | 2.6613300 | 0.00000000 |\n",
       "\n"
      ],
      "text/plain": [
       "   Y0        Y1       X          D Y_obs     IntXD     \n",
       "1  2.5457689 6.545769 0.38262576 0 2.5457689 0.00000000\n",
       "2  0.9387381 4.938738 0.86127311 0 0.9387381 0.00000000\n",
       "3  3.5509334 7.550933 0.86729329 1 7.5509334 0.86729329\n",
       "4  0.0921096 4.092110 0.01338264 1 4.0921096 0.01338264\n",
       "5  2.7765919 6.776592 0.60000625 0 2.7765919 0.00000000\n",
       "6  2.4901825 6.490182 0.21668722 0 2.4901825 0.00000000\n",
       "7  2.1165752 6.116575 0.56976284 1 6.1165752 0.56976284\n",
       "8  0.1969798 4.196980 0.15011419 0 0.1969798 0.00000000\n",
       "9  2.4790400 6.479040 0.82968150 0 2.4790400 0.00000000\n",
       "10 2.6613300 6.661330 0.58651547 0 2.6613300 0.00000000"
      ]
     },
     "metadata": {},
     "output_type": "display_data"
    }
   ],
   "source": [
    "set.seed(12553)\n",
    "test <- sim(100)\n",
    "head(test,10)"
   ]
  },
  {
   "cell_type": "markdown",
   "metadata": {},
   "source": [
    "This is to test whether git infrastructure works"
   ]
  },
  {
   "cell_type": "code",
   "execution_count": 7,
   "metadata": {},
   "outputs": [],
   "source": [
    "x <- c(\"create_output_table.R\", \"create_output_table_JASA.R\", \"helper_functions\\\\sim.R\", \"helper_functions\\\\naive_ate.R\", \"helper_functions\\\\psw_ate_boot.R\", \"helper_functions\\\\ols_ate.R\",\n",
    "       \"helper_functions\\\\knn_ate.R\", \"helper_functions\\\\rf_ate.R\", \"helper_functions\\\\MSE.R\", \"helper_functions\\\\knn_cate.R\",\n",
    "       \"helper_functions\\\\ols_cate.R\", \"helper_functions\\\\rf_cate.R\", \"helper_functions\\\\rf_cate_JASA.R\",\n",
    "       \"helper_functions\\\\ols_cate_JASA.R\", \"helper_functions\\\\simAW.R\", \"helper_functions\\\\plot_data.R\")\n",
    "invisible(lapply(x, source))"
   ]
  },
  {
   "cell_type": "code",
   "execution_count": 5,
   "metadata": {},
   "outputs": [
    {
     "name": "stdout",
     "output_type": "stream",
     "text": [
      "  |======================================================================| 100%\n",
      "  |======================================================================| 100%\n",
      "  |======================================================================| 100%\n",
      "  |======================================================================| 100%\n",
      "  |======================================================================| 100%\n",
      "  |======================================================================| 100%\n",
      "  |======================================================================| 100%\n",
      "  |======================================================================| 100%\n"
     ]
    },
    {
     "data": {
      "text/html": [
       "<dl>\n",
       "\t<dt>$ATE</dt>\n",
       "\t\t<dd><table>\n",
       "<caption>A data.frame: 3 × 6</caption>\n",
       "<thead>\n",
       "\t<tr><th scope=col>Description</th><th scope=col>Naive</th><th scope=col>OLS</th><th scope=col>PSW</th><th scope=col>k_NN</th><th scope=col>RF</th></tr>\n",
       "\t<tr><th scope=col>&lt;I&lt;chr&gt;&gt;</th><th scope=col>&lt;I&lt;chr&gt;&gt;</th><th scope=col>&lt;I&lt;chr&gt;&gt;</th><th scope=col>&lt;I&lt;chr&gt;&gt;</th><th scope=col>&lt;I&lt;chr&gt;&gt;</th><th scope=col>&lt;I&lt;chr&gt;&gt;</th></tr>\n",
       "</thead>\n",
       "<tbody>\n",
       "\t<tr><td>    avg_estimate</td><td>    4.1032</td><td>    3.9119</td><td>    4.0358</td><td>    4.0006</td><td>    4.0225</td></tr>\n",
       "\t<tr><td>    sd_estimates</td><td>    0.2821</td><td>    0.5598</td><td>    0.2571</td><td>    0.3165</td><td>    0.2463</td></tr>\n",
       "\t<tr><td>avg_estimated_se</td><td>    0.2727</td><td>    0.3978</td><td>        NA</td><td>    0.2367</td><td>    0.2200</td></tr>\n",
       "</tbody>\n",
       "</table>\n",
       "</dd>\n",
       "\t<dt>$CATE</dt>\n",
       "\t\t<dd><table>\n",
       "<caption>A data.frame: 2 × 4</caption>\n",
       "<thead>\n",
       "\t<tr><th scope=col>Description</th><th scope=col>OLS</th><th scope=col>k_NN</th><th scope=col>RF</th></tr>\n",
       "\t<tr><th scope=col>&lt;I&lt;chr&gt;&gt;</th><th scope=col>&lt;I&lt;chr&gt;&gt;</th><th scope=col>&lt;I&lt;chr&gt;&gt;</th><th scope=col>&lt;I&lt;chr&gt;&gt;</th></tr>\n",
       "</thead>\n",
       "<tbody>\n",
       "\t<tr><td>    avg_mse</td><td>    0.1124</td><td>    0.2144</td><td>    0.1296</td></tr>\n",
       "\t<tr><td>avg_mean_se</td><td>    0.1931</td><td>    0.3694</td><td>    0.3015</td></tr>\n",
       "</tbody>\n",
       "</table>\n",
       "</dd>\n",
       "</dl>\n"
      ],
      "text/latex": [
       "\\begin{description}\n",
       "\\item[\\$ATE] A data.frame: 3 × 6\n",
       "\\begin{tabular}{r|llllll}\n",
       " Description & Naive & OLS & PSW & k\\_NN & RF\\\\\n",
       " <I<chr>> & <I<chr>> & <I<chr>> & <I<chr>> & <I<chr>> & <I<chr>>\\\\\n",
       "\\hline\n",
       "\t     avg\\_estimate &     4.1032 &     3.9119 &     4.0358 &     4.0006 &     4.0225\\\\\n",
       "\t     sd\\_estimates &     0.2821 &     0.5598 &     0.2571 &     0.3165 &     0.2463\\\\\n",
       "\t avg\\_estimated\\_se &     0.2727 &     0.3978 &         NA &     0.2367 &     0.2200\\\\\n",
       "\\end{tabular}\n",
       "\n",
       "\\item[\\$CATE] A data.frame: 2 × 4\n",
       "\\begin{tabular}{r|llll}\n",
       " Description & OLS & k\\_NN & RF\\\\\n",
       " <I<chr>> & <I<chr>> & <I<chr>> & <I<chr>>\\\\\n",
       "\\hline\n",
       "\t     avg\\_mse &     0.1124 &     0.2144 &     0.1296\\\\\n",
       "\t avg\\_mean\\_se &     0.1931 &     0.3694 &     0.3015\\\\\n",
       "\\end{tabular}\n",
       "\n",
       "\\end{description}\n"
      ],
      "text/markdown": [
       "$ATE\n",
       ":   \n",
       "A data.frame: 3 × 6\n",
       "\n",
       "| Description &lt;I&lt;chr&gt;&gt; | Naive &lt;I&lt;chr&gt;&gt; | OLS &lt;I&lt;chr&gt;&gt; | PSW &lt;I&lt;chr&gt;&gt; | k_NN &lt;I&lt;chr&gt;&gt; | RF &lt;I&lt;chr&gt;&gt; |\n",
       "|---|---|---|---|---|---|\n",
       "|     avg_estimate |     4.1032 |     3.9119 |     4.0358 |     4.0006 |     4.0225 |\n",
       "|     sd_estimates |     0.2821 |     0.5598 |     0.2571 |     0.3165 |     0.2463 |\n",
       "| avg_estimated_se |     0.2727 |     0.3978 |         NA |     0.2367 |     0.2200 |\n",
       "\n",
       "\n",
       "$CATE\n",
       ":   \n",
       "A data.frame: 2 × 4\n",
       "\n",
       "| Description &lt;I&lt;chr&gt;&gt; | OLS &lt;I&lt;chr&gt;&gt; | k_NN &lt;I&lt;chr&gt;&gt; | RF &lt;I&lt;chr&gt;&gt; |\n",
       "|---|---|---|---|\n",
       "|     avg_mse |     0.1124 |     0.2144 |     0.1296 |\n",
       "| avg_mean_se |     0.1931 |     0.3694 |     0.3015 |\n",
       "\n",
       "\n",
       "\n",
       "\n"
      ],
      "text/plain": [
       "$ATE\n",
       "       Description      Naive        OLS        PSW       k_NN         RF\n",
       "1     avg_estimate     4.1032     3.9119     4.0358     4.0006     4.0225\n",
       "2     sd_estimates     0.2821     0.5598     0.2571     0.3165     0.2463\n",
       "3 avg_estimated_se     0.2727     0.3978         NA     0.2367     0.2200\n",
       "\n",
       "$CATE\n",
       "  Description        OLS       k_NN         RF\n",
       "1     avg_mse     0.1124     0.2144     0.1296\n",
       "2 avg_mean_se     0.1931     0.3694     0.3015\n"
      ]
     },
     "metadata": {},
     "output_type": "display_data"
    }
   ],
   "source": [
    "create_output_table(n = 100, N = 50, B = 000, k = 1, kC = 10, num_trees = 100,\n",
    "                           het_linear = FALSE, random_assignment = TRUE,\n",
    "                           non_linearY = FALSE, non_linearD = FALSE,\n",
    "                           knn_se5 = TRUE, ols_se5 = TRUE, C_ols_se5 = TRUE,\n",
    "                           C_knn_se5 = TRUE, boot5 = FALSE,\n",
    "                           para = FALSE)"
   ]
  },
  {
   "cell_type": "code",
   "execution_count": 8,
   "metadata": {},
   "outputs": [
    {
     "data": {
      "image/png": "[encoded data removed]",
      "text/plain": [
       "plot without title"
      ]
     },
     "metadata": {},
     "output_type": "display_data"
    }
   ],
   "source": [
    "plot_data(n=10000, num_trees=500, kC=100,\n",
    "                      het_linear = FALSE, random_assignment = TRUE,\n",
    "                      non_linearY = TRUE, non_linearD = FALSE)\n"
   ]
  },
  {
   "cell_type": "code",
   "execution_count": 6,
   "metadata": {},
   "outputs": [
    {
     "name": "stdout",
     "output_type": "stream",
     "text": [
      "  |======================================================================| 100%\n",
      "  |======================================================================| 100%\n",
      "  |======================================================================| 100%\n"
     ]
    },
    {
     "data": {
      "text/html": [
       "<table>\n",
       "<caption>A data.frame: 1 × 4</caption>\n",
       "<thead>\n",
       "\t<tr><th scope=col>Description</th><th scope=col>OLS</th><th scope=col>k_NN</th><th scope=col>RF</th></tr>\n",
       "\t<tr><th scope=col>&lt;I&lt;chr&gt;&gt;</th><th scope=col>&lt;I&lt;chr&gt;&gt;</th><th scope=col>&lt;I&lt;chr&gt;&gt;</th><th scope=col>&lt;I&lt;chr&gt;&gt;</th></tr>\n",
       "</thead>\n",
       "<tbody>\n",
       "\t<tr><td>   avg_mse</td><td>      1.52</td><td>     0.709</td><td>      1.12</td></tr>\n",
       "</tbody>\n",
       "</table>\n"
      ],
      "text/latex": [
       "A data.frame: 1 × 4\n",
       "\\begin{tabular}{r|llll}\n",
       " Description & OLS & k\\_NN & RF\\\\\n",
       " <I<chr>> & <I<chr>> & <I<chr>> & <I<chr>>\\\\\n",
       "\\hline\n",
       "\t    avg\\_mse &       1.52 &      0.709 &       1.12\\\\\n",
       "\\end{tabular}\n"
      ],
      "text/markdown": [
       "\n",
       "A data.frame: 1 × 4\n",
       "\n",
       "| Description &lt;I&lt;chr&gt;&gt; | OLS &lt;I&lt;chr&gt;&gt; | k_NN &lt;I&lt;chr&gt;&gt; | RF &lt;I&lt;chr&gt;&gt; |\n",
       "|---|---|---|---|\n",
       "|    avg_mse |       1.52 |      0.709 |       1.12 |\n",
       "\n"
      ],
      "text/plain": [
       "  Description OLS        k_NN       RF        \n",
       "1    avg_mse        1.52      0.709       1.12"
      ]
     },
     "metadata": {},
     "output_type": "display_data"
    }
   ],
   "source": [
    "create_output_table_JASA(n = 100, N = 100, d = 10, num_trees = 200, kC = 7,\n",
    "                       para = FALSE, C_knn_se5 = FALSE )"
   ]
  },
  {
   "cell_type": "code",
   "execution_count": null,
   "metadata": {},
   "outputs": [],
   "source": [
    "plot"
   ]
  }
 ],
 "metadata": {
  "kernelspec": {
   "display_name": "R",
   "language": "R",
   "name": "ir"
  },
  "language_info": {
   "codemirror_mode": "r",
   "file_extension": ".r",
   "mimetype": "text/x-r-source",
   "name": "R",
   "pygments_lexer": "r",
   "version": "3.4.2"
  }
 },
 "nbformat": 4,
 "nbformat_minor": 2
}
