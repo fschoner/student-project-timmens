{
 "cells": [
  {
   "cell_type": "code",
   "execution_count": 1,
   "metadata": {},
   "outputs": [],
   "source": [
    "pack <- c(\"tidyverse\", \"plyr\", \"dplyr\", \"np\", \"FNN\", \"modelr\", \"rpart\", \"doParallel\", \"sandwich\",\n",
    "          \"grf\", \"Matching\", \"boot\", \"ggplot2\")\n",
    "invisible(suppressMessages(suppressWarnings(lapply(pack, require, character.only = TRUE))))"
   ]
  },
  {
   "cell_type": "code",
   "execution_count": 2,
   "metadata": {},
   "outputs": [],
   "source": [
    "Sys.setenv(\"R_TESTS\" = \"\")\n",
    "help_fun <- c(\"create_output_table.R\", \"create_output_table_JASA.R\", \"helper_functions\\\\sim.R\", \"helper_functions\\\\naive_ate.R\", \"helper_functions\\\\psw_ate_boot.R\", \"helper_functions\\\\ols_ate.R\",\n",
    "       \"helper_functions\\\\knn_ate.R\", \"helper_functions\\\\rf_ate.R\", \"helper_functions\\\\MSE.R\", \"helper_functions\\\\knn_cate.R\",\n",
    "       \"helper_functions\\\\ols_cate.R\", \"helper_functions\\\\rf_cate.R\", \"helper_functions\\\\rf_cate_JASA.R\",\n",
    "       \"helper_functions\\\\ols_cate_JASA.R\", \"helper_functions\\\\simAW.R\", \"helper_functions\\\\plot_data.R\")\n",
    "invisible(lapply(help_fun, source))"
   ]
  },
  {
   "cell_type": "markdown",
   "metadata": {},
   "source": [
    "$\\newcommand{\\E}{{\\rm I\\kern-.3em E}}$\n",
    "$\\newcommand{\\Var}{\\mathrm{Var}}$\n",
    "$\\newcommand{\\Cov}{\\mathrm{Cov}}$\n",
    "$\\newcommand{\\Covh}{\\widehat{\\Cov}}$\n",
    "$\\newcommand{\\Varh}{\\widehat{\\Var}}$\n",
    "$\\newcommand{\\betah}{\\widehat{\\beta}}$\n",
    "$\\newcommand{\\Eh}{\\widehat{\\E}}$\n",
    "$\\newcommand{\\YO}{Y(0)}$\n",
    "$\\newcommand{\\YI}{Y(1)}$\n",
    "$\\newcommand{\\indep}{\\perp \\!\\!\\! \\perp}$\n",
    "$\\newcommand{\\atehat}{\\widehat{\\text{ATE}}}$\n"
   ]
  },
  {
   "cell_type": "markdown",
   "metadata": {},
   "source": [
    "# 1 Assumptions + Estimation strategies"
   ]
  },
  {
   "cell_type": "markdown",
   "metadata": {},
   "source": [
    "Suppose we have random sample (i.i.d.) of the reference population, each containing a feature vector $X_i$, a treatment indicator $D_i$ and an outcome $Y_i$. In short: $\\left\\{(Y_i,X_i,D_i)\\right\\}_{i=1}^{n}$.\n",
    "Generally, we will either assume unconfoundedness (ignorability) or purely random treatment assignment in our DGPs. More formally, random treatment assignment amounts to \n",
    "<br>\n",
    "&ensp;\n",
    "\\begin{equation}\n",
    "(\\YI,\\YO)\\enspace\\indep\\enspace D.\\label{eq:rt}\n",
    "\\end{equation}\n",
    "<br>\n",
    "&ensp;\n",
    "In situations usually analyzed within the social sciences, this assumption turns out to be too restrictive (ref.). Therefore, as we've seen throughout the course, many methods were developed under the assumption of unconfoundedness:\n",
    "<br>\n",
    "&ensp;\n",
    "\\begin{equation}\n",
    "(\\YI,\\YO)\\enspace\\indep\\enspace D\\enspace \\lvert\\enspace X.\\label{eq:uf}\n",
    "\\end{equation}\n",
    "<br>\n",
    "&ensp;\n",
    "This is also used by [@wager2018estimation] to develop the theory of causal trees/forests.\\newline\n",
    "Within the simulation study we'll also try to stress the consequences for estimation when switching from (\\ref{eq:rt}) to (\\ref{eq:uf}). \n"
   ]
  },
  {
   "cell_type": "markdown",
   "metadata": {},
   "source": [
    "## 1.1 Heterogeneous Treatment Effects\n",
    "To develop an intuition for the importance of heterogeneity in treatment effects, we define the Average Treatment Effect (ATE) and the Conditional Average Treatment Effect (CATE) as follows.\n",
    "<br>\n",
    "&ensp;\n",
    "\\begin{align}\n",
    "\\delta&\\equiv \\E(\\YI-\\YO)\\label{eq:ate}\\\\[10pt]\n",
    "\\delta(x)&\\equiv\\E(\\YI-\\YO\\vert X=x)\\label{eq:cate}\\\\[10pt]\n",
    "\\end{align}\n",
    "<br>\n",
    "&ensp;\n",
    "These definitions are conceptually different: While the CATE is a real-valued function mapping a realization of the random variable $X$ to a real number, the ATE is a real number. Thus, by definition, the CATE allows to have *distinct* treatment effects for different realizations of $X$. By the law of iterated expectation we have the following relationship between \\ref{eq:ate} and \\ref{eq:cate}:\n",
    "\n",
    "\n",
    "\\begin{equation}\n",
    "\\E\\left(\\delta(X)\\right)=\\delta \\label{eq:cateate}\n",
    "\\end{equation}\n",
    "\n",
    "<br>\n",
    "&ensp;\n",
    "Thus, the ATE is a summary statistic of the CATE. Example for illustration + ref.  \n"
   ]
  },
  {
   "cell_type": "markdown",
   "metadata": {},
   "source": [
    "When it comes to estimation of both quantities, we have to make sure they're identified in the first place. \n",
    "While \\ref{eq:uf} is sufficient to identify the ATE \\ref{eq:ate}, we need an additional assumption for the CATE \\ref{eq:cate}. This is because estimating the CATE requires estimation of a function at _every_ possible point in the support of $X$. Since the function of interest involves both units in treatment and control, we have to assume that we observe both treated and control units at every possible $X=x$. In other words, we assume overlap."
   ]
  },
  {
   "cell_type": "markdown",
   "metadata": {},
   "source": [
    "For almost every $x \\in \\text{supp} X$, \n",
    "\\begin{equation}\n",
    "\\eta < \\text{Pr}(D=1 | X=x)< 1-\\eta\\enspace\\text{for some}\\enspace \\eta>0 \\label{eq:overlap}\n",
    "\\end{equation}\n",
    "<br>\n",
    "I will maintain this assumption throughout\n"
   ]
  },
  {
   "cell_type": "markdown",
   "metadata": {},
   "source": [
    "## 1.2 Structural representation"
   ]
  },
  {
   "cell_type": "markdown",
   "metadata": {},
   "source": [
    "For the first part of the simulations, we can postulate the following structural equations.\n",
    "\n",
    "\n",
    "\\begin{align*}\n",
    "X&= f_{X}(u_1),\\\\\n",
    "D&= f_{D}(X),\\\\\n",
    "Y&= f_{Y}(X, D, \\varepsilon)\\\\\n",
    "\\end{align*}\n",
    "The corresponding graph looks as follows.\n",
    "\n"
   ]
  },
  {
   "cell_type": "markdown",
   "metadata": {},
   "source": [
    "<img src=\"Causal_graphs.png\" height=300 width=300 />"
   ]
  },
  {
   "cell_type": "markdown",
   "metadata": {},
   "source": [
    "Note that we could have omitted $\\varepsilon$ from the DAG-representation because I'll assume it to be independent of all the other variables throughout (p.88, textbook).\n",
    "The DAG-representation rightly suggests that identification is rather easy here: blocking the back-door path $D \\leftarrow X \\rightarrow Y$ is sufficient and can be achieved by controllig for the observable $X$."
   ]
  },
  {
   "cell_type": "markdown",
   "metadata": {},
   "source": [
    "## 1.3 Estimation Strategies"
   ]
  },
  {
   "cell_type": "markdown",
   "metadata": {},
   "source": [
    "### 1.3.1 ATE"
   ]
  },
  {
   "cell_type": "markdown",
   "metadata": {},
   "source": [
    "In every setting, ATE-estimates will be obtained from five different estimators.\n",
    "\n",
    "1.) **Naive estimator**\n",
    "$$\\begin{equation}\n",
    "\\widehat{\\text{ATE}}_{\\text{Naive}} = \\bar{Y}_1 - \\bar{Y}_{0} =\\frac{1}{n_1} \\sum_{i: D_i =1}^{} Y_i + \\frac{1}{n_0}\\sum_{i: D_i = 0}^{} Y_i \\label{eq:naive}\n",
    "\\end{equation}$$"
   ]
  },
  {
   "cell_type": "markdown",
   "metadata": {},
   "source": [
    "2.) **OLS**\n",
    "<br>\n",
    "Depending on the option you choose in the function, different OLS-estimates can be obtained:\n",
    "* `method_ols = \"D_only\"` estimates $$\\begin{equation} Y_i = \\alpha + \\delta\\cdot D_i +\\varepsilon_{i,1} \\label{eq:donly}\\end{equation}$$\n",
    "* `method_ols = \"full\"` estimates $$\\begin{equation}Y_i = \\alpha + \\delta\\cdot D_i+ X_i\\cdot\\beta +\\gamma\\cdot D_i\\cdot(X_i-\\bar{X}) +\\varepsilon_{i,2}\\label{eq:full}\\end{equation}$$\n",
    "Thus\n",
    "$$\\begin{equation}\n",
    "\\widehat{\\text{ATE}}_{\\text{OLS}} = \\widehat{\\delta}_{\\text{OLS}}\n",
    "\\end{equation}$$\n",
    "<br>\n",
    "Note that in the former case, the OLS estimate is numerically equivalent to the estimate obtained from the Naive estimator (\\ref{eq:naive}).\n"
   ]
  },
  {
   "cell_type": "markdown",
   "metadata": {},
   "source": [
    "3.) **Propensity Score Weighting (PSW) estimator** <br>\n",
    "Let $\\widehat{e}(X_i) \\equiv \\widehat{\\text{Pr}}(D_i = 1|X_i)$ the estimated propensity score. Then,\n",
    "<br>\n",
    "<br>\n",
    "$$\\begin{equation}\n",
    "\\widehat{\\text{ATE}}_{\\text{PSW}} = \\frac{\\sum_{i=1}^{n} \\frac{D_i Y_i}{\\widehat{e}(X_i)}}{\\sum_{i=1}^{n} \\frac{D_i}{\\widehat{e}(X_i)}} - \\frac{\\sum_{i=1}^{n} \\frac{(1-D_i ) Y_i}{1-\\widehat{e}(X_i)}}{\\sum_{i=1}^{n} \\frac{1- D_i}{1-\\widehat{e}(X_i)}}\n",
    "\\end{equation}$$\n",
    "<br>\n",
    "I've tested several estimators for the propensity score, among them parametric models such as logit and probit but also semi- and nonparametric kernel erstimators. Since throughout the settings probit and logit give similar results and the remaining methods are too slow, only logit can be used in the function below. "
   ]
  },
  {
   "cell_type": "markdown",
   "metadata": {},
   "source": [
    "4.) **k-Nearest-Neighbor Matching**\n",
    "<br>\n",
    "As we've seen in the course, matching estimators impute the counterfactual outcomes. More specifically,\n",
    "<br>\n",
    "<br>\n",
    "$$\\widehat{Y_i}(0)=\\begin{cases}\n",
    " Y_i, &\\text{if}\\enspace D_i = 0 \\\\\n",
    "\\frac{1}{K} \\sum_{j\\in \\mathcal{J}_{K}(i)}^{} Y_j, &\\text{if}\\enspace D_i=1\n",
    "\\end{cases}$$\n",
    "<br>\n",
    "where $\\mathcal{J}_{K}(i) = \\left\\{j_1 (i), j_2 (i),\\ldots,j_K (i)\\right\\}$.\n",
    "<br>\n",
    "$j_k (i)$ is the index of the unit which is the $k$-th closest to unit $i$ in terms of covariate distance and has opposite treatment status.\n",
    "<br>\n",
    "Similarly,\n",
    "<br>\n",
    "$$\\widehat{Y_i}(1)=\\begin{cases}\n",
    "\\frac{1}{K} \\sum_{j\\in \\mathcal{J}_{K}(i)}^{} Y_j , &\\text{if}\\enspace D_i = 0 \\\\\n",
    "Y_i, &\\text{if}\\enspace D_i=1\n",
    "\\end{cases}$$\n",
    "<br> This setup naturally leads to an averaging estimator of the ATE:\n",
    "<br>\n",
    "$$\\begin{equation}\n",
    "\\widehat{\\text{ATE}}_{\\text{kNN}} = \\frac{1}{n}\\sum_{i=1}^{n}\\left(\\widehat{Y_i}(1)-\\widehat{Y_i}(0)\\right)\\end{equation}$$"
   ]
  },
  {
   "cell_type": "markdown",
   "metadata": {},
   "source": [
    "5.) **Causal Forests**\n",
    "<br>\n",
    "For a more detailed exposition of the ideas behind using trees for the estimation of treatment effects, please refer to Tim's notebook. The gist of the argument is as follows.\n",
    "<br>\n",
    "Define an index set\n",
    "<br>\n",
    "$$\\mathcal{J}(x, d, \\Pi, S) := \\{i \\mid X_i \\in \\ell(x; \\Pi) \\text{ and } D_i = d \\text{ and } (Y_i, X_i) \\in S \\} \\,,$$\n",
    "<br>\n",
    " Given we have found a reasonable partition, say $\\Pi$, we approximate $\\tau$ by \n",
    "<br>\n",
    "<br>\n",
    "$$\\hat{\\tau}(x; S, \\Pi) = \\frac{1}{\\left|\\mathcal{J}(x, 1, \\Pi, S)\\right|} \\sum_{j \\in \\mathcal{J}(x, 1, \\Pi, S)} Y_j - \\frac{1}{\\left|\\mathcal{J}(x, 0, \\Pi, S)\\right|} \\sum_{j \\in \\mathcal{J}(x, 0, \\Pi, S)} Y_j \\,,$$\n",
    "<br>\n",
    "<br>\n",
    "Obviously, the procedure aims at estimating heterogeneous treatment effects: we will obtain such an estimate for all $x$ in the support of $X$.\n",
    "<br>\n",
    "Instead of growing a single tree, however, the procedure to be used grows an ensemble of $B$ such trees, where each tree yields an estimate for every point in the support of $X$, $\\widehat{\\tau}_b (x)$. The forest then outputs the average \n",
    "<br>\n",
    "$$\\begin{equation}\n",
    "\\widehat{\\text{CATE}}_{\\text{RF}}(x) = \\frac{1}{B}\\sum_{b=1}^{B} \\widehat{\\tau}_b (x) \\label{eq:caterf}\n",
    "\\end{equation}\n",
    "$$\n",
    "<br>\n",
    "Using the relation between the CATE and the ATE in (\\ref{eq:cateate}), we construct an estimator for the ATE as follows. \n",
    "<br>\n",
    "$$\n",
    "\\begin{align}\n",
    "\\widehat{\\text{ATE}}_{\\text{RF}} &= \\frac{1}{n}\\sum_{i=1}^{n}\\left(\\widehat{\\text{CATE}}_{\\text{RF}}(X_i)\\right)\\\\\n",
    "&= \\frac{1}{n}\\sum_{i=1}^{n}\\left(\\frac{1}{B}\\sum_{b=1}^{B} \\widehat{\\tau}_b (X_i )\\right) \n",
    "\\end{align}\n",
    "$$"
   ]
  },
  {
   "cell_type": "markdown",
   "metadata": {},
   "source": [
    "### 1.3.2 CATE"
   ]
  },
  {
   "cell_type": "markdown",
   "metadata": {},
   "source": [
    "For estimation of CATE, we'll restrict attention the three of the above methods. In contrast to ATE-estimation, methods for CATE-estimation will also be tested on a setup with higher-dimensional $X$."
   ]
  },
  {
   "cell_type": "markdown",
   "metadata": {},
   "source": [
    "1.) **OLS**\n",
    "<br>\n",
    "OLS estimates \n",
    "<br>\n",
    "$$\\begin{equation}\n",
    "Y_i = \\alpha + \\delta\\cdot D_i + \\textbf{X}_{i} ^\\intercal \\beta  + D_i\\cdot\\left(\\textbf{X}_i -\\bar{\\textbf{X}}\\right)^\\intercal\\gamma + \\epsilon_i \\label{eq:olscate}\n",
    "\\end{equation}$$\n",
    "<br>\n",
    "How do we get to heterogeneous treatment effects from here? Recall that for an estimate of the ATE we would just extract $\\widehat{\\delta}_{\\text{OLS}}$, which is not a function of $x$ and therefore does not permit any statement about heterogeneity in treatment effects. The idea is based on the following observation. If we assume that the conditional expectation function is linear as we specified it, then\n",
    "<br>\n",
    "<br>\n",
    "$$\n",
    "\\begin{align*}\n",
    "\\E(Y_i | \\textbf{X}_{i} , D_i) &= \\alpha + \\delta\\cdot D_i + \\textbf{X}_{i} ^\\intercal \\beta  + D_i\\cdot\n",
    "\\left(\\textbf{X}_i -\\bar{\\textbf{X}}\\right)^\\intercal\\gamma\\\\\n",
    "\\\\\n",
    "\\E(Y_i (0) | \\textbf{X}_{i} ) &= \\alpha + \\textbf{X}_{i} ^\\intercal \\beta\\\\\n",
    "\\E(Y_i (1) | \\textbf{X}_{i} ) &= \\alpha + \\delta\\cdot D_i + \\textbf{X}_{i} ^\\intercal \\beta  + D_i\\cdot\\left(\\textbf{X}_i -\\bar{\\textbf{X}}\\right)^\\intercal\\gamma\\\\\n",
    "\\\\\n",
    "\\E(Y_i (1) - Y_i(0) | \\textbf{X}_{i} ) &= \\delta + \\left(\\textbf{X}_i -\\bar{\\textbf{X}}\\right)^\\intercal\\gamma\n",
    "\\end{align*}\n",
    "$$\n",
    "<br>\n",
    "Thus, estimating (\\ref{eq:olscate}) by OLS allows us to compute\n",
    "<br>\n",
    "<br>\n",
    "$$\n",
    "\\begin{equation*}\n",
    "\\widehat{\\text{CATE}}_{\\text{OLS}}(\\textbf{x}) = \\widehat{\\E}(Y_i (1) - Y_i(0) | \\textbf{X}_{i} = \\textbf{x}) = \\widehat{\\delta}_{\\text{OLS}} + \\left(\\textbf{x} -\\bar{\\textbf{x}}\\right)^\\intercal\\widehat{\\gamma}_{\\text{OLS}}\n",
    "\\end{equation*}\n",
    "$$\n",
    "<br>\n",
    "Thus we're essentially approximating the true CATE by a linear function. Whether or not that is a decent approximation is entirely determined by the underlying DGP.\n"
   ]
  },
  {
   "cell_type": "markdown",
   "metadata": {},
   "source": [
    "2.) **k-Nearest-Neighbor Matching**\n",
    "<br>\n",
    "<br>\n",
    "$$\n",
    "\\begin{equation}\n",
    "\\widehat{\\text{CATE}}_{\\text{kNN}}(\\textbf{x}) = \\frac{1}{K}\\sum_{j\\in \\mathcal{J}_{K,1}(\\textbf{x})} Y_j - \\frac{1}{K}\\sum_{j\\in \\mathcal{J}_{K,0}(\\textbf{x})} Y_j  \n",
    "\\end{equation}\n",
    "$$\n",
    "<br>\n",
    "$\\mathcal{J}_{K,d}(\\textbf{x})$ denotes the set of indices of the $K$ closest units to support point $\\textbf{x}$ in terms of covariate values who have treatment status $D =d$. \n",
    "<br>\n",
    "If $d = \\text{dim}(\\textbf{X}_i) > 1$, then _\"close in terms of covariate values\"_ means small Euclidean distance $\\left\\| \\textbf{X}_i - \\textbf{x}\\right\\|$"
   ]
  },
  {
   "cell_type": "markdown",
   "metadata": {},
   "source": [
    "3.) **Causal Forests**\n",
    "<br>\n",
    "see (\\ref{eq:caterf})"
   ]
  },
  {
   "cell_type": "markdown",
   "metadata": {},
   "source": [
    "# 2 Simulation: One-dimensional $X$"
   ]
  },
  {
   "cell_type": "markdown",
   "metadata": {},
   "source": [
    "## 2.1 DGP"
   ]
  },
  {
   "cell_type": "markdown",
   "metadata": {},
   "source": [
    "For nearly the whole first part of the simulations, I'll stick to models that are linear in parameters when it comes to generating the potential outcomes. In addition, the first part will exclusively consider the case in which the feature vector $X$ is of dimension $1$. The models under consideration will be special cases of the following DGP:\n",
    "<br>\n",
    "&ensp;\n",
    "\\begin{align}\n",
    "Y(0)&=\\gamma_0 + \\gamma_1\\cdot g(X)+ \\gamma_2\\cdot h(\\gamma_3 X) +\\varepsilon_0 \\\\\n",
    "Y(1)&=\\phi_0 + \\phi_1\\cdot f(X)+ \\phi_2\\cdot c(\\phi_3 X)+\\varepsilon_1 ,\n",
    "\\end{align}\n",
    "<br>\n",
    "&ensp;\n",
    "where\n",
    "\n",
    "* $\\varepsilon_j \\stackrel{\\text{i.i.d}}{\\sim} \\mathcal{N}(0,1),\\enspace j=0,1,\\quad X \\stackrel{\\text{i.i.d}}{\\sim} U[0,1]$\n",
    "<br>\n",
    "&ensp;\n",
    "* $g(\\cdot),h(\\cdot),f(\\cdot),\\enspace \\text{and}\\enspace c(\\cdot)$ are real-valued functions\n",
    "<br>\n",
    "&ensp;\n",
    "* $\\phi_j, \\gamma_j \\in \\mathbb{R}$, $j=1,2,3$\n",
    "<br>\n",
    "&ensp;\n",
    "\n",
    "\n",
    "In this model, ATE (\\ref{eq:ate}) and CATE (\\ref{eq:cate}) become\n",
    "<br>\n",
    "&ensp;\n",
    "\\begin{align*}\n",
    "\\delta&=\\phi_0 - \\gamma_0 + \\phi_1 \\E(f(X))-\\gamma_1 \\E(g(X))+\\phi_2\\E(c(X))-\\gamma_2\\E(h(X))\\\\[5pt]\n",
    "\\delta(x)&=\\phi_0 - \\gamma_0 + \\phi_1 f(x)-\\gamma_1 g(x)+\\phi_2 c(x)-\\gamma_2 h(x).\n",
    "\\end{align*}\n",
    "<br>\n",
    "&ensp;"
   ]
  },
  {
   "cell_type": "markdown",
   "metadata": {},
   "source": [
    "Furthermore, treatment assignment is allowed to be a real-valued function of realizations of $X$, an assumption that corresponds to the concept of selection on observables."
   ]
  },
  {
   "cell_type": "markdown",
   "metadata": {},
   "source": [
    "\\begin{align*}\n",
    "\\E(D\\vert X=x)=\\text{Pr}(D=1\\vert X=x)&=\\zeta(x)\\\\\n",
    "&\\in \\left[0,1\\right] \\enspace \\forall x \\in \\text{supp} X\n",
    "\\end{align*}"
   ]
  },
  {
   "cell_type": "markdown",
   "metadata": {},
   "source": [
    "## 2.2 R Function"
   ]
  },
  {
   "cell_type": "markdown",
   "metadata": {},
   "source": [
    "The function `create_output_table` outputs a table of results to be explained later on. It draws $N$ datasets, each of size $n$, from a fictitious superpopulation whose properties you can specify via the function's arguments."
   ]
  },
  {
   "cell_type": "code",
   "execution_count": null,
   "metadata": {},
   "outputs": [],
   "source": [
    "create_output_table(n = 100, N = 50, B = 1, k = 1, kC = 10, num_trees = 100,\n",
    "                           het_linear = FALSE, random_assignment = TRUE,\n",
    "                           non_linearY = FALSE, non_linearD = FALSE,\n",
    "                           method_ols = \"cool\",\n",
    "                           knn_se5 = TRUE, ols_se5 = TRUE, C_ols_se5 = TRUE,\n",
    "                           C_knn_se5 = TRUE, boot5 = FALSE,\n",
    "                           para = FALSE)"
   ]
  },
  {
   "cell_type": "markdown",
   "metadata": {},
   "source": [
    "### 2.2.1 Input"
   ]
  },
  {
   "cell_type": "markdown",
   "metadata": {},
   "source": [
    "1. Statistical Parameters\n",
    "      * `N` is the number of datasets drawn\n",
    "      * `n` is the number of observations in each of the $N$ datasets\n",
    "<br>\n",
    "<br>\n",
    "2. Treatment Assignment\n",
    "   1. `random_assignment` is boolean and, if\n",
    "      * `TRUE`, sets $\\zeta(x) = 0.5 \\quad \\forall x$\n",
    "      * `FALSE`, sets $\\zeta(x) = 0.6\\cdot x + 0.2$\n",
    "<br>\n",
    "   2. `non_linearD` is boolean and, if\n",
    "       * `TRUE` sets $\\zeta(x) = (x-0.05)^2 -0.25\\cdot \\left(\\max\\left\\{0.2, \\left| x\\right| -0.05\\right\\}\\right)^2 + 0.7\\cdot \\left(\\max\\left\\{0.2, \\left| x \\right|-0.6 \\right\\}\\right)^2$  \n",
    "       * `FALSE`, `random_assignment` dictates behavior\n",
    "<br>\n",
    "<br>\n",
    "3. Conditional Expectation Function\n",
    "   1. `het_linear` is boolean and, if\n",
    "       * `TRUE`  \n",
    "       \\begin{align*}\n",
    "       Y(0)&=1 + 3\\cdot X +\\varepsilon_0 \\\\\n",
    "       Y(1)&=5 + 5\\cdot X+\\varepsilon_1 ,\n",
    "       \\end{align*}\n",
    "       <br>\n",
    "       * `FALSE`\n",
    "       \\begin{align*}\n",
    "       Y(0)&=1 + 3\\cdot X +\\varepsilon_0 \\\\\n",
    "       Y(1)&=5 + 3\\cdot X+\\varepsilon_1 ,\n",
    "       \\end{align*}\n",
    "       <br>\n",
    "   2. `non_linearY` is boolean and, if\n",
    "       * `TRUE`  \n",
    "       \\begin{align*}\n",
    "       Y(0)&=1 + 20\\cdot \\sin(\\pi X) +\\varepsilon_0 \\\\\n",
    "       Y(1)&=5 + 5\\cdot\\sin(5\\pi X)+\\varepsilon_1 ,\n",
    "       \\end{align*}\n",
    "       <br>\n",
    "       * `FALSE`, `het_linear` dictates behavior\n",
    "       <br>\n",
    "       <br>\n",
    "4. Tuning Parameters\n",
    "   1. k-Nearest-Neighbor matching\n",
    "      * `k` number of nearest neighbors used for ATE (i.e. the cardinality of $\\mathcal{J}_{K}(i)$)\n",
    "      * `kC` number of nearest neighbors used for CATE\n",
    "      <br>\n",
    "   2. Random Forests\n",
    "      * `num_trees` number of trees used in the random forest for both ATE and CATE\n",
    "      <br>\n",
    "   3. OLS\n",
    "      * `method_ols` should be set to <br>\n",
    "        `\"D_only\"` if you wish to estimate model (\\ref{eq:donly}) and to <br>\n",
    "        `\"full\"` if (\\ref{eq:full}) is preferred\n",
    "        <br>\n",
    "        <br>\n",
    "5. Standard Errors  \n",
    "  `ols_se5`, `C_ols_se5`, `knn_se5` and `C_knn_se5` are boolean and, if set to `TRUE`, compute an estimate of the standard deviation of the particular estimator. Capital C at the beginning of the operator refers to CATE.\n",
    "\n",
    "  `boot5` refers to the Propensity Score Weighting Estimator and invokes the standard nonparametric bootstrap to get an estimate of the standard deviation of the estimator. Correspondingly, `B` is the number of Bootstrap samples drawn in each run.\n",
    "\n",
    "  Generally speaking, standard errors are not of primary interest here, and therefore I recommend not computing them for the sake of fast computing. Especially the Bootstrapped standard error estimates increase run time dramatically.\n",
    "      \n"
   ]
  },
  {
   "cell_type": "markdown",
   "metadata": {},
   "source": [
    "### 2.2.2 Output"
   ]
  },
  {
   "cell_type": "markdown",
   "metadata": {},
   "source": [
    "`create_output_table` returns two data frames, giving results for the ATE and CATE estimation, respectively. In the following I'll define the objects that are returned. \n",
    "<br>\n",
    "**ATE**\n",
    "* `avg_estimate` corresponds to the average of the estimates of $\\delta$ in each simulation run. More precisely,\n",
    "$$\\begin{equation*}\n",
    "\\text{avg_estimate}\\enspace \\equiv \\quad \\overline{\\widehat{\\delta}} = \\frac{1}{N}\\sum_{j=1}^{N} \\widehat{\\delta}_j\n",
    "\\end{equation*}$$\n",
    "<br>\n",
    "* `sd_estimates` simply computes the standard deviation of the $N$ estimates:\n",
    "$$\\begin{equation*}\n",
    "\\text{sd_estimates} \\enspace\\equiv\\quad \\widehat{{\\text{sd}}}(\\widehat{\\delta}) = \\frac{1}{N-1}\\sum_{j=1}^{N}\\left( \\widehat{\\delta}_j - \\overline{\\widehat{\\delta}}\\right)^2\n",
    "\\end{equation*}$$\n",
    "<br>\n",
    "* `avg_estimated_se` is the average of the standard error estimates obtained in each of the $N$ runs:\n",
    "$$\\begin{equation*}\n",
    "\\text{sd_estimates} \\enspace\\equiv\\quad \\overline{\\widehat{\\text{SE}}}(\\widehat{\\delta}) = \\frac{1}{N}\\sum_{j=1}^{N} \\widehat{\\text{SE}}_j(\\widehat{\\delta})\n",
    "\\end{equation*}$$\n",
    "<br>\n",
    "<br>\n",
    "General remarks:\n",
    "* If $\\text{avg_estimate} \\approx \\text{true value}$, then we'd conclude that the method under consideration \"works\".\n",
    "* `sd_estimates` and `avg_estimated_se` should be similar, since the latter is an average over estimates of the former.\n",
    "\n",
    "**CATE**\n",
    "\n",
    "* `avg_mse`. In each run, the MSE is computed as:\n",
    "$$\\begin{equation*}\n",
    " \\text{MSE}_j =\\frac{1}{n}\\sum_{i=1}^{n}(\\tau_{i,j} - \\widehat{\\tau}(X_i)_j)^2\n",
    "\\end{equation*}$$\n",
    "  `avg_mse` is the simply the average\n",
    "$$\\begin{equation*}\n",
    "\\text{avg_mse}\\enspace \\equiv \\quad \\overline{\\text{MSE}}=\\frac{1}{N}\\sum_{j=1}^{N} \\text{MSE}_j\n",
    "\\end{equation*}$$\n",
    "<br>\n",
    "* `avg_mean_se` is the average of mean estimated standard error in each of the $N$ runs.\n",
    "<br>\n",
    "In each run, and for each support point of $X$ in that run, we can compute a point estimate of the standard error:\n",
    "$$\\begin{equation*}\n",
    " \\widehat{\\text{SE}}(X_i)_j \n",
    "\\end{equation*}$$\n",
    "For one particular sample we can then compute\n",
    "$$\\begin{equation*}\n",
    " \\overline{\\widehat{\\text{SE}}}_j = \\frac{1}{n}\\sum_{i=1}^{n} \\widehat{\\text{SE}}(X_i)_j \n",
    "\\end{equation*}$$\n",
    "Based on that we simply average over the $N$ runs: \n",
    "$$\\begin{equation*}\n",
    " \\text{avg_mean_se}\\enspace \\equiv \\quad  \\text{Average}\\left(\\overline{\\widehat{\\text{SE}}}_j\\right) = \\frac{1}{N}\\sum_{j=1}^{N}  \\overline{\\widehat{\\text{SE}}}_j\n",
    "\\end{equation*}$$\n",
    "<br>\n",
    "General Remarks:\n",
    "* Computing MSEs is very popular in the machine learning literature to compare and evaluate the goodness of a method."
   ]
  },
  {
   "cell_type": "markdown",
   "metadata": {},
   "source": [
    "As an example, consider the following observations generated with the function `sim` which is also called by `create_output_table` repeatedly for the simulation study."
   ]
  },
  {
   "cell_type": "code",
   "execution_count": 3,
   "metadata": {},
   "outputs": [
    {
     "data": {
      "text/html": [
       "<table>\n",
       "<caption>A tibble: 10 × 5</caption>\n",
       "<thead>\n",
       "\t<tr><th scope=col>Y0</th><th scope=col>Y1</th><th scope=col>X</th><th scope=col>D</th><th scope=col>Y_obs</th></tr>\n",
       "\t<tr><th scope=col>&lt;dbl&gt;</th><th scope=col>&lt;dbl&gt;</th><th scope=col>&lt;dbl&gt;</th><th scope=col>&lt;dbl&gt;</th><th scope=col>&lt;dbl&gt;</th></tr>\n",
       "</thead>\n",
       "<tbody>\n",
       "\t<tr><td>1.165</td><td>5.460</td><td>0.069</td><td>0</td><td>1.165</td></tr>\n",
       "\t<tr><td>3.341</td><td>8.096</td><td>0.818</td><td>0</td><td>3.341</td></tr>\n",
       "\t<tr><td>4.285</td><td>7.481</td><td>0.943</td><td>0</td><td>4.285</td></tr>\n",
       "\t<tr><td>3.828</td><td>5.293</td><td>0.269</td><td>0</td><td>3.828</td></tr>\n",
       "\t<tr><td>0.457</td><td>5.906</td><td>0.169</td><td>1</td><td>5.906</td></tr>\n",
       "\t<tr><td>1.836</td><td>6.055</td><td>0.034</td><td>1</td><td>6.055</td></tr>\n",
       "\t<tr><td>2.076</td><td>5.797</td><td>0.179</td><td>1</td><td>5.797</td></tr>\n",
       "\t<tr><td>1.611</td><td>4.875</td><td>0.642</td><td>0</td><td>1.611</td></tr>\n",
       "\t<tr><td>0.819</td><td>5.357</td><td>0.023</td><td>0</td><td>0.819</td></tr>\n",
       "\t<tr><td>1.339</td><td>5.387</td><td>0.008</td><td>1</td><td>5.387</td></tr>\n",
       "</tbody>\n",
       "</table>\n"
      ],
      "text/latex": [
       "A tibble: 10 × 5\n",
       "\\begin{tabular}{r|lllll}\n",
       " Y0 & Y1 & X & D & Y\\_obs\\\\\n",
       " <dbl> & <dbl> & <dbl> & <dbl> & <dbl>\\\\\n",
       "\\hline\n",
       "\t 1.165 & 5.460 & 0.069 & 0 & 1.165\\\\\n",
       "\t 3.341 & 8.096 & 0.818 & 0 & 3.341\\\\\n",
       "\t 4.285 & 7.481 & 0.943 & 0 & 4.285\\\\\n",
       "\t 3.828 & 5.293 & 0.269 & 0 & 3.828\\\\\n",
       "\t 0.457 & 5.906 & 0.169 & 1 & 5.906\\\\\n",
       "\t 1.836 & 6.055 & 0.034 & 1 & 6.055\\\\\n",
       "\t 2.076 & 5.797 & 0.179 & 1 & 5.797\\\\\n",
       "\t 1.611 & 4.875 & 0.642 & 0 & 1.611\\\\\n",
       "\t 0.819 & 5.357 & 0.023 & 0 & 0.819\\\\\n",
       "\t 1.339 & 5.387 & 0.008 & 1 & 5.387\\\\\n",
       "\\end{tabular}\n"
      ],
      "text/markdown": [
       "\n",
       "A tibble: 10 × 5\n",
       "\n",
       "| Y0 &lt;dbl&gt; | Y1 &lt;dbl&gt; | X &lt;dbl&gt; | D &lt;dbl&gt; | Y_obs &lt;dbl&gt; |\n",
       "|---|---|---|---|---|\n",
       "| 1.165 | 5.460 | 0.069 | 0 | 1.165 |\n",
       "| 3.341 | 8.096 | 0.818 | 0 | 3.341 |\n",
       "| 4.285 | 7.481 | 0.943 | 0 | 4.285 |\n",
       "| 3.828 | 5.293 | 0.269 | 0 | 3.828 |\n",
       "| 0.457 | 5.906 | 0.169 | 1 | 5.906 |\n",
       "| 1.836 | 6.055 | 0.034 | 1 | 6.055 |\n",
       "| 2.076 | 5.797 | 0.179 | 1 | 5.797 |\n",
       "| 1.611 | 4.875 | 0.642 | 0 | 1.611 |\n",
       "| 0.819 | 5.357 | 0.023 | 0 | 0.819 |\n",
       "| 1.339 | 5.387 | 0.008 | 1 | 5.387 |\n",
       "\n"
      ],
      "text/plain": [
       "   Y0    Y1    X     D Y_obs\n",
       "1  1.165 5.460 0.069 0 1.165\n",
       "2  3.341 8.096 0.818 0 3.341\n",
       "3  4.285 7.481 0.943 0 4.285\n",
       "4  3.828 5.293 0.269 0 3.828\n",
       "5  0.457 5.906 0.169 1 5.906\n",
       "6  1.836 6.055 0.034 1 6.055\n",
       "7  2.076 5.797 0.179 1 5.797\n",
       "8  1.611 4.875 0.642 0 1.611\n",
       "9  0.819 5.357 0.023 0 0.819\n",
       "10 1.339 5.387 0.008 1 5.387"
      ]
     },
     "metadata": {},
     "output_type": "display_data"
    }
   ],
   "source": [
    "set.seed(12)\n",
    "test <- sim(n = 100, het_linear = FALSE, random_assignment = TRUE, k = 1, kC = 20,\n",
    "           non_linearY = FALSE, non_linearD = FALSE)\n",
    "round(head(test[, 1:5], 10), 3)"
   ]
  },
  {
   "cell_type": "markdown",
   "metadata": {},
   "source": [
    "\n",
    "&nbsp;\n",
    "\\begin{align*}\n",
    "h&:\\mathbb{R} \\longrightarrow \\mathbb{R},\\quad x \\mapsto \\sin(\\pi\\gamma_3 x)\\\\\n",
    "c&:\\mathbb{R} \\longrightarrow \\mathbb{R},\\quad x \\mapsto \\sin(\\pi\\phi_3 x)\n",
    "\\end{align*}\n",
    "<br>\n",
    "&nbsp;\n",
    "\n",
    "Finally, the function returns a data frame with the variables $Y(0)$, $Y(1)$, $X$, $D$, and $X\\cdot D$."
   ]
  },
  {
   "cell_type": "markdown",
   "metadata": {},
   "source": [
    "## 2.3 Results: Random Assignment, Linearity, and Constant Treatment Effects\n",
    "For the first simulation we'll study a straightforward setup to illustrate where CATE and ATE coincide. We'll use the following specification.\n",
    "\n",
    "* $f:\\mathbb{R} \\longrightarrow \\mathbb{R},\\quad x \\mapsto x$ and $f=g=c=h$\n",
    "<br>\n",
    "and\n",
    "       \\begin{align*}\n",
    "       Y(0)&=1 + 3\\cdot X +\\varepsilon_0 \\\\\n",
    "       Y(1)&=5 + 3\\cdot X+\\varepsilon_1 ,\n",
    "       \\end{align*}\n",
    "\n",
    "\n",
    "Thus we obtain \n",
    "<br>\n",
    "&ensp;\n",
    "\\begin{align*}\n",
    "\\delta&=\\phi_0 - \\gamma_0+\\E\\left[(\\phi_1-\\gamma_1)\\cdot X \\right]\\\\\n",
    "&=\\phi_0 - \\gamma_0\\\\\n",
    "&=4\\\\[10pt]\n",
    "\\delta(x)&=\\E(\\phi_0 - \\gamma_0\\vert X=x)\\\\\n",
    "&=\\phi_0 - \\gamma_0\\\\\n",
    "&=4\n",
    "\\end{align*}\n",
    "<br>\n",
    "&ensp;"
   ]
  },
  {
   "cell_type": "markdown",
   "metadata": {},
   "source": [
    "This is to test whether git infrastructure works"
   ]
  },
  {
   "cell_type": "code",
   "execution_count": 28,
   "metadata": {},
   "outputs": [
    {
     "name": "stdout",
     "output_type": "stream",
     "text": [
      "  |======================================================================| 100%\n",
      "  |======================================================================| 100%\n",
      "  |======================================================================| 100%\n"
     ]
    },
    {
     "data": {
      "text/html": [
       "<dl>\n",
       "\t<dt>$ATE</dt>\n",
       "\t\t<dd><table>\n",
       "<caption>A data.frame: 3 × 6</caption>\n",
       "<thead>\n",
       "\t<tr><th scope=col>Description</th><th scope=col>Naive</th><th scope=col>OLS</th><th scope=col>PSW</th><th scope=col>k_NN</th><th scope=col>RF</th></tr>\n",
       "\t<tr><th scope=col>&lt;I&lt;chr&gt;&gt;</th><th scope=col>&lt;I&lt;chr&gt;&gt;</th><th scope=col>&lt;I&lt;chr&gt;&gt;</th><th scope=col>&lt;I&lt;chr&gt;&gt;</th><th scope=col>&lt;I&lt;chr&gt;&gt;</th><th scope=col>&lt;I&lt;chr&gt;&gt;</th></tr>\n",
       "</thead>\n",
       "<tbody>\n",
       "\t<tr><td>    avg_estimate</td><td>    3.9929</td><td>    3.9926</td><td>    3.9928</td><td>    3.9978</td><td>    3.9933</td></tr>\n",
       "\t<tr><td>    sd_estimates</td><td>    0.2573</td><td>    0.2023</td><td>    0.2026</td><td>    0.2302</td><td>    0.2071</td></tr>\n",
       "\t<tr><td>avg_estimated_se</td><td>    0.2686</td><td>    0.2020</td><td>    0.2673</td><td>    0.2321</td><td>    0.2193</td></tr>\n",
       "</tbody>\n",
       "</table>\n",
       "</dd>\n",
       "\t<dt>$CATE</dt>\n",
       "\t\t<dd><table>\n",
       "<caption>A data.frame: 2 × 4</caption>\n",
       "<thead>\n",
       "\t<tr><th scope=col>Description</th><th scope=col>OLS</th><th scope=col>k_NN</th><th scope=col>RF</th></tr>\n",
       "\t<tr><th scope=col>&lt;I&lt;chr&gt;&gt;</th><th scope=col>&lt;I&lt;chr&gt;&gt;</th><th scope=col>&lt;I&lt;chr&gt;&gt;</th><th scope=col>&lt;I&lt;chr&gt;&gt;</th></tr>\n",
       "</thead>\n",
       "<tbody>\n",
       "\t<tr><td>    avg_mse</td><td>    0.1965</td><td>    0.1188</td><td>   0.09894</td></tr>\n",
       "\t<tr><td>avg_mean_se</td><td>    0.1947</td><td>    0.1714</td><td>   0.29502</td></tr>\n",
       "</tbody>\n",
       "</table>\n",
       "</dd>\n",
       "</dl>\n"
      ],
      "text/latex": [
       "\\begin{description}\n",
       "\\item[\\$ATE] A data.frame: 3 × 6\n",
       "\\begin{tabular}{r|llllll}\n",
       " Description & Naive & OLS & PSW & k\\_NN & RF\\\\\n",
       " <I<chr>> & <I<chr>> & <I<chr>> & <I<chr>> & <I<chr>> & <I<chr>>\\\\\n",
       "\\hline\n",
       "\t     avg\\_estimate &     3.9929 &     3.9926 &     3.9928 &     3.9978 &     3.9933\\\\\n",
       "\t     sd\\_estimates &     0.2573 &     0.2023 &     0.2026 &     0.2302 &     0.2071\\\\\n",
       "\t avg\\_estimated\\_se &     0.2686 &     0.2020 &     0.2673 &     0.2321 &     0.2193\\\\\n",
       "\\end{tabular}\n",
       "\n",
       "\\item[\\$CATE] A data.frame: 2 × 4\n",
       "\\begin{tabular}{r|llll}\n",
       " Description & OLS & k\\_NN & RF\\\\\n",
       " <I<chr>> & <I<chr>> & <I<chr>> & <I<chr>>\\\\\n",
       "\\hline\n",
       "\t     avg\\_mse &     0.1965 &     0.1188 &    0.09894\\\\\n",
       "\t avg\\_mean\\_se &     0.1947 &     0.1714 &    0.29502\\\\\n",
       "\\end{tabular}\n",
       "\n",
       "\\end{description}\n"
      ],
      "text/markdown": [
       "$ATE\n",
       ":   \n",
       "A data.frame: 3 × 6\n",
       "\n",
       "| Description &lt;I&lt;chr&gt;&gt; | Naive &lt;I&lt;chr&gt;&gt; | OLS &lt;I&lt;chr&gt;&gt; | PSW &lt;I&lt;chr&gt;&gt; | k_NN &lt;I&lt;chr&gt;&gt; | RF &lt;I&lt;chr&gt;&gt; |\n",
       "|---|---|---|---|---|---|\n",
       "|     avg_estimate |     3.9929 |     3.9926 |     3.9928 |     3.9978 |     3.9933 |\n",
       "|     sd_estimates |     0.2573 |     0.2023 |     0.2026 |     0.2302 |     0.2071 |\n",
       "| avg_estimated_se |     0.2686 |     0.2020 |     0.2673 |     0.2321 |     0.2193 |\n",
       "\n",
       "\n",
       "$CATE\n",
       ":   \n",
       "A data.frame: 2 × 4\n",
       "\n",
       "| Description &lt;I&lt;chr&gt;&gt; | OLS &lt;I&lt;chr&gt;&gt; | k_NN &lt;I&lt;chr&gt;&gt; | RF &lt;I&lt;chr&gt;&gt; |\n",
       "|---|---|---|---|\n",
       "|     avg_mse |     0.1965 |     0.1188 |    0.09894 |\n",
       "| avg_mean_se |     0.1947 |     0.1714 |    0.29502 |\n",
       "\n",
       "\n",
       "\n",
       "\n"
      ],
      "text/plain": [
       "$ATE\n",
       "       Description      Naive        OLS        PSW       k_NN         RF\n",
       "1     avg_estimate     3.9929     3.9926     3.9928     3.9978     3.9933\n",
       "2     sd_estimates     0.2573     0.2023     0.2026     0.2302     0.2071\n",
       "3 avg_estimated_se     0.2686     0.2020     0.2673     0.2321     0.2193\n",
       "\n",
       "$CATE\n",
       "  Description        OLS       k_NN         RF\n",
       "1     avg_mse     0.1965     0.1188    0.09894\n",
       "2 avg_mean_se     0.1947     0.1714    0.29502\n"
      ]
     },
     "metadata": {},
     "output_type": "display_data"
    }
   ],
   "source": [
    "create_output_table(n = 100, N = 500, B = 500, k = 1, kC = 20, num_trees = 100,\n",
    "                           het_linear = FALSE, random_assignment = TRUE,\n",
    "                           non_linearY = FALSE, non_linearD = FALSE,\n",
    "                           method_ols = \"full\",\n",
    "                           knn_se5 = TRUE, ols_se5 = TRUE, C_ols_se5 = TRUE,\n",
    "                           C_knn_se5 = TRUE, boot5 = TRUE,\n",
    "                           para = FALSE)"
   ]
  },
  {
   "cell_type": "code",
   "execution_count": 25,
   "metadata": {},
   "outputs": [
    {
     "data": {
      "image/png": "[encoded data removed]",
      "text/plain": [
       "plot without title"
      ]
     },
     "metadata": {},
     "output_type": "display_data"
    }
   ],
   "source": [
    "options(repr.plot.width=8, repr.plot.height=5)\n",
    "plot_data(n=1000, num_trees=300, kC=100,\n",
    "                      het_linear = FALSE, random_assignment = TRUE,\n",
    "                      non_linearY = FALSE, non_linearD = FALSE)\n"
   ]
  },
  {
   "cell_type": "code",
   "execution_count": 6,
   "metadata": {},
   "outputs": [
    {
     "name": "stdout",
     "output_type": "stream",
     "text": [
      "  |======================================================================| 100%\n",
      "  |======================================================================| 100%\n",
      "  |======================================================================| 100%\n"
     ]
    },
    {
     "data": {
      "text/html": [
       "<table>\n",
       "<caption>A data.frame: 1 × 4</caption>\n",
       "<thead>\n",
       "\t<tr><th scope=col>Description</th><th scope=col>OLS</th><th scope=col>k_NN</th><th scope=col>RF</th></tr>\n",
       "\t<tr><th scope=col>&lt;I&lt;chr&gt;&gt;</th><th scope=col>&lt;I&lt;chr&gt;&gt;</th><th scope=col>&lt;I&lt;chr&gt;&gt;</th><th scope=col>&lt;I&lt;chr&gt;&gt;</th></tr>\n",
       "</thead>\n",
       "<tbody>\n",
       "\t<tr><td>   avg_mse</td><td>      1.52</td><td>     0.709</td><td>      1.12</td></tr>\n",
       "</tbody>\n",
       "</table>\n"
      ],
      "text/latex": [
       "A data.frame: 1 × 4\n",
       "\\begin{tabular}{r|llll}\n",
       " Description & OLS & k\\_NN & RF\\\\\n",
       " <I<chr>> & <I<chr>> & <I<chr>> & <I<chr>>\\\\\n",
       "\\hline\n",
       "\t    avg\\_mse &       1.52 &      0.709 &       1.12\\\\\n",
       "\\end{tabular}\n"
      ],
      "text/markdown": [
       "\n",
       "A data.frame: 1 × 4\n",
       "\n",
       "| Description &lt;I&lt;chr&gt;&gt; | OLS &lt;I&lt;chr&gt;&gt; | k_NN &lt;I&lt;chr&gt;&gt; | RF &lt;I&lt;chr&gt;&gt; |\n",
       "|---|---|---|---|\n",
       "|    avg_mse |       1.52 |      0.709 |       1.12 |\n",
       "\n"
      ],
      "text/plain": [
       "  Description OLS        k_NN       RF        \n",
       "1    avg_mse        1.52      0.709       1.12"
      ]
     },
     "metadata": {},
     "output_type": "display_data"
    }
   ],
   "source": [
    "create_output_table_JASA(n = 100, N = 100, d = 10, num_trees = 200, kC = 7,\n",
    "                       para = FALSE, C_knn_se5 = FALSE )"
   ]
  },
  {
   "cell_type": "code",
   "execution_count": null,
   "metadata": {},
   "outputs": [],
   "source": []
  },
  {
   "cell_type": "code",
   "execution_count": 13,
   "metadata": {},
   "outputs": [
    {
     "ename": "ERROR",
     "evalue": "Error in parse(text = x, srcfile = src): <text>:7:34: unerwartetes Symbol\n6:                \" --filter pandoc-citeproc\",\n7:                \" --bibliography=\"literatur.bib\n                                    ^\n",
     "output_type": "error",
     "traceback": [
      "Error in parse(text = x, srcfile = src): <text>:7:34: unerwartetes Symbol\n6:                \" --filter pandoc-citeproc\",\n7:                \" --bibliography=\"literatur.bib\n                                    ^\nTraceback:\n"
     ]
    }
   ],
   "source": [
    "#automatic document conversion to markdown and then to word\n",
    "#first convert the ipython notebook paper.ipynb to markdown\n",
    "#system(\"jupyter nbconvert --to tex simulation_study.ipynb\")\n",
    "#next convert markdown to ms word\n",
    "#conversion <- paste0(\"pandoc -s simulation_study.md -t docx -o simulation_study.docx\",\n",
    "               \" --filter pandoc-citeproc\",\n",
    "               \" --bibliography=\"literatur.bib\"\",\n",
    "               \" --csl=\"apa.csl\"\")\n",
    "#system(conversion)"
   ]
  },
  {
   "cell_type": "code",
   "execution_count": null,
   "metadata": {},
   "outputs": [],
   "source": []
  }
 ],
 "metadata": {
  "kernelspec": {
   "display_name": "R",
   "language": "R",
   "name": "ir"
  },
  "language_info": {
   "codemirror_mode": "r",
   "file_extension": ".r",
   "mimetype": "text/x-r-source",
   "name": "R",
   "pygments_lexer": "r",
   "version": "3.4.2"
  }
 },
 "nbformat": 4,
 "nbformat_minor": 2
}
