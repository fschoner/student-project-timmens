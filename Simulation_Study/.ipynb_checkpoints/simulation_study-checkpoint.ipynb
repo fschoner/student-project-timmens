{
 "cells": [
  {
   "cell_type": "code",
   "execution_count": 3,
   "metadata": {},
   "outputs": [],
   "source": [
    "pack <- c(\"tidyverse\", \"plyr\", \"dplyr\", \"np\", \"FNN\", \"modelr\", \"rpart\", \"doParallel\", \"sandwich\",\n",
    "          \"grf\", \"Matching\", \"boot\", \"ggplot2\", \"lattice\")\n",
    "invisible(suppressMessages(suppressWarnings(lapply(pack, require, character.only = TRUE))))"
   ]
  },
  {
   "cell_type": "code",
   "execution_count": 8,
   "metadata": {},
   "outputs": [],
   "source": [
    "help_fun <- c(\"create_output_table.R\", \"create_output_table_JASA.R\", \"sim.R\", \"naive_ate.R\", \"psw_ate_boot.R\", \"ols_ate.R\",\n",
    "       \"knn_ate.R\", \"rf_ate.R\", \"MSE.R\", \"knn_cate.R\",\n",
    "       \"ols_cate.R\", \"rf_cate.R\", \"rf_cate_JASA.R\",\n",
    "       \"ols_cate_JASA.R\", \"simAW.R\", \"plot_data.R\", \"plot_AW.R\")\n",
    "invisible(lapply(help_fun, source))"
   ]
  },
  {
   "cell_type": "markdown",
   "metadata": {},
   "source": [
    "$\\newcommand{\\E}{{\\rm I\\kern-.3em E}}$\n",
    "$\\newcommand{\\Var}{\\mathrm{Var}}$\n",
    "$\\newcommand{\\Cov}{\\mathrm{Cov}}$\n",
    "$\\newcommand{\\Covh}{\\widehat{\\Cov}}$\n",
    "$\\newcommand{\\Varh}{\\widehat{\\Var}}$\n",
    "$\\newcommand{\\betah}{\\widehat{\\beta}}$\n",
    "$\\newcommand{\\Eh}{\\widehat{\\E}}$\n",
    "$\\newcommand{\\YO}{Y(0)}$\n",
    "$\\newcommand{\\YI}{Y(1)}$\n",
    "$\\newcommand{\\indep}{\\perp \\!\\!\\! \\perp}$\n",
    "$\\newcommand{\\atehat}{\\widehat{\\text{ATE}}}$\n",
    "$\\newcommand\\diff{\\mathop{}\\!\\mathrm{d}}$\n",
    " $\\newcommand{\\X}{\\textbf{X}}$\n",
    "$\\newcommand{\\x}{\\textbf{x}}$\n",
    "$\\newcommand{\\ATE}{\\text{ATE}}$\n",
    "$\\newcommand{\\CATE}{\\text{CATE}}$\n",
    "$\\newcommand{\\tauhat}{\\widehat{\\tau}}$\n",
    "$\\newcommand{\\naive}{\\text{Naive}}$\n",
    "$\\newcommand{\\ols}{\\text{OLS}}$\n",
    "$\\newcommand{\\knn}{\\text{kNN}}$\n",
    "$\\newcommand{\\cf}{\\text{CF}}$\n",
    "$\\newcommand{\\psw}{\\text{PSW}}$"
   ]
  },
  {
   "cell_type": "markdown",
   "metadata": {},
   "source": [
    "# 1 Setup and Estimation strategies"
   ]
  },
  {
   "cell_type": "markdown",
   "metadata": {},
   "source": [
    "Suppose we have random sample ($\\text{i.i.d.}$) of the reference population, where each observation consists of a feature vector $\\X_i$, a treatment indicator $D_i$ and an outcome $Y_i$. In short: $\\left\\{(Y_i,\\X_i,D_i)\\right\\}_{i=1}^{n}$.\n",
    "<br>\n",
    "Potentially, $\\X_i = (X_{i1},\\ldots,X_{id})$ is a high dimensional random vector instead of a random variable (generally, I'll use bold letters for vectors and non-bold letters for scalars).\n"
   ]
  },
  {
   "cell_type": "markdown",
   "metadata": {},
   "source": [
    "## 1.1 Heterogeneous Treatment Effects\n",
    "To develop an intuition for the importance of heterogeneity in treatment effects, we define the Average Treatment Effect ($\\ATE$) and the Conditional Average Treatment Effect ($\\CATE$) as follows.\n",
    "<br>\n",
    "&ensp;\n",
    "\\begin{align}\n",
    "\\tau&\\equiv \\E(\\YI-\\YO)\\label{eq:ate}\\qquad\\qquad \\text{(ATE)}\\\\[10pt]\n",
    "\\tau(\\x)&\\equiv\\E(\\YI-\\YO\\vert \\X=\\x)\\label{eq:cate}\\quad\\enspace\\text{(CATE)}\\\\[10pt]\n",
    "\\end{align}\n",
    "<br>\n",
    "<br>\n",
    "These definitions are conceptually different: While the $\\CATE$ is a real-valued function mapping a realization of the random vector $\\X$ to a real number, the $\\ATE$ is a real number. Thus, by definition, the CATE allows to have **distinct** treatment effects for different realizations of $\\X$. \n",
    "<br>By the law of iterated expectation we have the following relationship between $\\ATE$ and $\\CATE$:\n",
    "\n",
    "<br>\n",
    "\\begin{equation}\n",
    "\\E\\left(\\tau(\\X)\\right)=\\tau \\label{eq:cateate}\n",
    "\\end{equation}\n",
    "\n",
    "<br>\n",
    "Thus, the $\\ATE$ is a summary statistic of the $\\CATE$.\n",
    "<br>\n",
    "As with all summary statistics, it crucially depends on the distribution of treatment effects whether or not the this provides a decent summary.\n"
   ]
  },
  {
   "cell_type": "markdown",
   "metadata": {},
   "source": [
    "## 1.2 Assumptions and Identification"
   ]
  },
  {
   "cell_type": "markdown",
   "metadata": {},
   "source": [
    "Throughout we will either assume unconfoundedness (ignorability) or purely random treatment assignment in our data generatig processes (DGPs). More formally, random treatment assignment amounts to assuming \n",
    "<br>\n",
    "<br>\n",
    "\\begin{equation}\n",
    "(\\YI,\\YO)\\enspace\\indep\\enspace D.\\label{eq:rt}\n",
    "\\end{equation}\n",
    "<br>\n",
    "<br>\n",
    "In situations usually analyzed within the social sciences, this assumption turns out to be too restrictive (see [Imbens (2004)](https://scholar.harvard.edu/imbens/publications/nonparametric-estimation-average-treatment-effects-under-exogeneity-review) for a discussion). Therefore, as we've seen throughout the course, many methods were developed under the assumption of unconfoundedness:\n",
    "<br>\n",
    "<br>\n",
    "\\begin{equation}\n",
    "(\\YI,\\YO)\\enspace\\indep\\enspace D\\enspace \\lvert\\enspace X.\\label{eq:uf}\n",
    "\\end{equation}\n",
    "<br>\n",
    "<br>\n",
    "This is also used by [Athey and Wager (2018)](https://www.tandfonline.com/doi/full/10.1080/01621459.2017.1319839) to develop the theory of causal trees/forests.\n",
    "<br>\n",
    "Within the simulation study we'll also stress the consequences for estimation when switching from (\\ref{eq:rt}) to (\\ref{eq:uf}). \n",
    "<br>\n",
    "<br>"
   ]
  },
  {
   "cell_type": "markdown",
   "metadata": {},
   "source": [
    "When it comes to estimation of both quantities, we have to make sure they're identified in the first place. \n",
    "While unconfoundedness (\\ref{eq:uf}) is sufficient to identify the $\\ATE$, we need an additional assumption for the $\\CATE$. This is because estimating the $\\CATE$ requires estimation of a function at _every_ possible point in the support of $\\X$. Since the function of interest relies on quantities originating from both units in treatment and control, we have to assume that we observe both treated and control units at every possible $\\X=\\x$. In other words, we assume overlap."
   ]
  },
  {
   "cell_type": "markdown",
   "metadata": {},
   "source": [
    "For almost every $\\x \\in \\text{supp}(\\X)$, \n",
    "\\begin{equation}\n",
    "\\eta < \\text{Pr}(D=1 | X=x)< 1-\\eta\\enspace\\text{for some}\\enspace \\eta>0 \\label{eq:overlap}\n",
    "\\end{equation}\n",
    "<br>\n",
    "I will maintain this assumption throughout the remainder of this notebook.\n",
    "<br>\n",
    "For a proof of the identification, see [Abadie and Imbens (2006), p. 238](https://onlinelibrary.wiley.com/doi/abs/10.1111/j.1468-0262.2006.00655.x).\n"
   ]
  },
  {
   "cell_type": "markdown",
   "metadata": {},
   "source": [
    "## 1.2 Structural representation"
   ]
  },
  {
   "cell_type": "markdown",
   "metadata": {},
   "source": [
    "We can postulate the following structural equations capturing the structure of both simulation designs\n",
    "\n",
    "\n",
    "\\begin{align*}\n",
    "X&= f_{\\X}(u_\\X),\\\\\n",
    "D&= f_{D}(\\X, u_D),\\\\\n",
    "Y&= f_{Y}(\\X, D, \\varepsilon)\\\\\n",
    "\\end{align*}\n",
    "The corresponding graph looks as follows.\n",
    "\n"
   ]
  },
  {
   "cell_type": "markdown",
   "metadata": {},
   "source": [
    "<img src=\"Causal_graphs.png\" height=300 width=300 />"
   ]
  },
  {
   "cell_type": "markdown",
   "metadata": {},
   "source": [
    "Note that we could have omitted the error term $\\varepsilon$ from the DAG-representation because I'll assume it to be independent of all the other variables throughout (see [Morgan and Winship (2015), p.88](https://www.cambridge.org/de/academic/subjects/sociology/sociology-general-interest/counterfactuals-and-causal-inference-methods-and-principles-social-research-2nd-edition?format=HB&isbn=9781107065079)).\n",
    "The DAG-representation rightly suggests that identification is rather easy here: blocking the back-door path $D \\leftarrow \\X \\rightarrow Y$ is sufficient and can be achieved by controllig for the observable confounder $\\X$.\n",
    "<br>\n",
    "In addition, note that this causal graph describes a DGP with unconfoundedness rather than random treatment assignment. In the latter world, we would get rid off the path $\\X \\rightarrow D$."
   ]
  },
  {
   "cell_type": "markdown",
   "metadata": {},
   "source": [
    "## 1.3 Estimation Strategies"
   ]
  },
  {
   "cell_type": "markdown",
   "metadata": {},
   "source": [
    "Since we'll only conduct $\\ATE$ estimation in the first simulatoin setting where $X$ is one-dimensional, I'll not consider the higher dimensional case when presenting the methods below. \n",
    "<br>\n",
    "In contrast, $\\CATE$ estimation will also be tested on a setting with higher dimensional $\\X$."
   ]
  },
  {
   "cell_type": "markdown",
   "metadata": {},
   "source": [
    "### 1.3.1 $\\ATE$"
   ]
  },
  {
   "cell_type": "markdown",
   "metadata": {},
   "source": [
    "In every setting of the first simulation study, $\\ATE$-estimates will be obtained from five different estimators.\n",
    "\n",
    "1.) **Naive estimator**\n",
    "$$\\begin{equation}\n",
    "\\tauhat_{\\text{Naive}} = \\bar{Y}_1 - \\bar{Y}_{0} =\\frac{1}{n_1} \\sum_{i: D_i =1}^{} Y_i + \\frac{1}{n_0}\\sum_{i: D_i = 0}^{} Y_i \\label{eq:naive},\n",
    "\\end{equation}$$\n",
    "where $n_1 = \\left|\\left\\{i: D_i = 1\\right\\}\\right|$ and likewise for $n_0$."
   ]
  },
  {
   "cell_type": "markdown",
   "metadata": {},
   "source": [
    "2.) **OLS**\n",
    "<br>\n",
    "Depending on the option you choose in the R function below, different OLS-estimates can be obtained:\n",
    "* `method_ols = \"D_only\"` estimates $$\\begin{equation} Y_i = \\alpha + \\tau\\cdot D_i +\\varepsilon_{i,1} \\label{eq:donly}\\end{equation}$$\n",
    "<br>\n",
    "* `method_ols = \"full\"` estimates $$\\begin{equation}Y_i = \\alpha + \\tau\\cdot D_i+ X_i\\cdot\\beta +\\gamma\\cdot D_i\\cdot(X_i-\\bar{X}) +\\varepsilon_{i,2}\\label{eq:full}\\end{equation}$$\n",
    "<br>\n",
    "Thus,\n",
    "$\n",
    "\\widehat{\\tau}_{\\text{OLS}}\n",
    "$ is just the OLS-coefficient of $D_i$.\n",
    "<br>\n",
    "Note that in the former case, the OLS estimate is numerically equivalent to the estimate obtained from the Naive estimator (\\ref{eq:naive}).\n"
   ]
  },
  {
   "cell_type": "markdown",
   "metadata": {},
   "source": [
    "3.) **Propensity Score Weighting (PSW) estimator** <br>\n",
    "Let $\\widehat{\\zeta}(X_i) \\equiv \\widehat{\\text{Pr}}(D_i = 1|X_i)$ the estimated propensity score. Then,\n",
    "<br>\n",
    "<br>\n",
    "$$\\begin{equation}\n",
    "\\tauhat_{\\text{PSW}} = \\frac{\\sum_{i=1}^{n} \\frac{D_i Y_i}{\\widehat{\\zeta}(X_i)}}{\\sum_{i=1}^{n} \\frac{D_i}{\\widehat{\\zeta}(X_i)}} - \\frac{\\sum_{i=1}^{n} \\frac{(1-D_i ) Y_i}{1-\\widehat{\\zeta}(X_i)}}{\\sum_{i=1}^{n} \\frac{1- D_i}{1-\\widehat{\\zeta}(X_i)}}\n",
    "\\end{equation}$$\n",
    "<br>\n",
    "This is not the \"standard\" PSW-estimator, which is known to have some unattractive properties. See [Hirano, Imbens, and Ridder (2003)](https://onlinelibrary.wiley.com/doi/abs/10.1111/1468-0262.00442), who proposed the estimator above.\n",
    "<br>\n",
    "<br>\n",
    "I've tested several estimators for the propensity score, among them parametric models such as logit and probit but also semi- and nonparametric kernel erstimators. Since throughout the settings probit and logit give similar results and the remaining methods are incompetitively slow, I've decided to only implement logit.  "
   ]
  },
  {
   "cell_type": "markdown",
   "metadata": {},
   "source": [
    "4.) **k-Nearest-Neighbor Matching (kNN)**\n",
    "<br>\n",
    "As we've seen in the course, matching estimators impute the counterfactual outcomes. The description below closely follows [Abadie and Imbens (2006)](https://onlinelibrary.wiley.com/doi/abs/10.1111/j.1468-0262.2006.00655.x).\n",
    "<br>\n",
    "More specifically,\n",
    "<br>\n",
    "<br>\n",
    "$$\\widehat{Y_i}(0)=\\begin{cases}\n",
    " Y_i, &\\text{if}\\enspace D_i = 0 \\\\\n",
    "\\frac{1}{K} \\sum_{j\\in \\mathcal{J}_{K}(i)}^{} Y_j, &\\text{if}\\enspace D_i=1\n",
    "\\end{cases}$$\n",
    "<br>\n",
    "where $\\mathcal{J}_{K}(i) = \\left\\{j_1 (i), j_2 (i),\\ldots,j_K (i)\\right\\}$.\n",
    "<br>\n",
    "$j_k (i)$ is the index of the unit which is the $k$-th closest to unit $i$ in terms of covariate distance and has opposite treatment status.\n",
    "<br>\n",
    "<br>\n",
    "Similarly,\n",
    "<br>\n",
    "$$\\widehat{Y_i}(1)=\\begin{cases}\n",
    "\\frac{1}{K} \\sum_{j\\in \\mathcal{J}_{K}(i)}^{} Y_j , &\\text{if}\\enspace D_i = 0 \\\\\n",
    "Y_i, &\\text{if}\\enspace D_i=1\n",
    "\\end{cases}$$\n",
    "<br> This setup naturally leads to an averaging estimator of the $\\ATE$:\n",
    "<br>\n",
    "<br>\n",
    "$$\\begin{equation}\n",
    "\\tauhat_{\\text{kNN}} = \\frac{1}{n}\\sum_{i=1}^{n}\\left(\\widehat{Y_i}(1)-\\widehat{Y_i}(0)\\right)\\end{equation}$$."
   ]
  },
  {
   "cell_type": "markdown",
   "metadata": {},
   "source": [
    "5.) **Causal Forests (CF)**\n",
    "<br>\n",
    "For a more detailed exposition of the ideas behind using trees for the estimation of treatment effects, please refer to Tim's notebook. The gist of the argument is as follows.\n",
    "<br>\n",
    "Define an index set\n",
    "<br>\n",
    "$$\\mathcal{J}(x, d, \\Pi, S) := \\{i \\mid X_i \\in \\ell(x; \\Pi) \\text{ and } D_i = d \\text{ and } (Y_i, X_i) \\in S \\} \\,.$$\n",
    "<br>\n",
    " Given we have found a reasonable partition, say $\\Pi$, we approximate $\\tau$ by \n",
    "<br>\n",
    "<br>\n",
    "$$\\hat{\\tau}(x; S, \\Pi) = \\frac{1}{\\left|\\mathcal{J}(x, 1, \\Pi, S)\\right|} \\sum_{j \\in \\mathcal{J}(x, 1, \\Pi, S)} Y_j - \\frac{1}{\\left|\\mathcal{J}(x, 0, \\Pi, S)\\right|} \\sum_{j \\in \\mathcal{J}(x, 0, \\Pi, S)} Y_j \\,,$$\n",
    "<br>\n",
    "<br>\n",
    "Obviously, the procedure aims at estimating heterogeneous treatment effects: we will obtain such an estimate for all $\\x$ in the support of $\\X$.\n",
    "<br>\n",
    "<br>\n",
    "Instead of growing a single tree, however, the procedure to be used grows an ensemble of $B$ such trees, where each tree yields an estimate for every point in the support of $X$, denoted by $\\widehat{\\tau}_b (x)$. The forest then outputs the average \n",
    "<br>\n",
    "$$\\begin{equation}\n",
    "\\tauhat_{\\text{CF}}(x) = \\frac{1}{B}\\sum_{b=1}^{B} \\widehat{\\tau}_b (x) \\label{eq:caterf}\n",
    "\\end{equation}\n",
    "$$\n",
    "<br>\n",
    "Using the relation between the $\\CATE$ and the $\\ATE$ in (\\ref{eq:cateate}), we construct an estimator for the ATE as follows. \n",
    "<br>\n",
    "$$\n",
    "\\begin{align}\n",
    "\\tauhat_{\\text{CF}} &= \\frac{1}{n}\\sum_{i=1}^{n}\\left(\\tauhat_{\\text{CF}}(X_i)\\right)\\\\\n",
    "&= \\frac{1}{n}\\sum_{i=1}^{n}\\left(\\frac{1}{B}\\sum_{b=1}^{B} \\widehat{\\tau}_b (X_i )\\right) \n",
    "\\end{align}\n",
    "$$"
   ]
  },
  {
   "cell_type": "markdown",
   "metadata": {},
   "source": [
    "### 1.3.2 $\\CATE$"
   ]
  },
  {
   "cell_type": "markdown",
   "metadata": {},
   "source": [
    "For estimation of the $\\CATE$, we'll restrict attention to three of the above methods."
   ]
  },
  {
   "cell_type": "markdown",
   "metadata": {},
   "source": [
    "1.) **OLS**\n",
    "<br>\n",
    "OLS estimates \n",
    "<br>\n",
    "$$\\begin{equation}\n",
    "Y_i = \\alpha + \\tau\\cdot D_i + \\textbf{X}_{i} ^\\intercal \\beta  + D_i\\cdot\\left(\\textbf{X}_i -\\bar{\\textbf{X}}\\right)^\\intercal\\gamma + \\epsilon_i \\label{eq:olscate}\n",
    "\\end{equation}$$\n",
    "<br>\n",
    "How do we get to heterogeneous treatment effects from here? Recall that for an estimate of the $\\ATE$ we would just extract $\\tauhat_{\\text{OLS}}$, which is not a function of $\\x$ and therefore does not permit any statement about heterogeneity in treatment effects. The idea is based on the following observation. If we assume that the conditional expectation function is linear as we specified it, then\n",
    "<br>\n",
    "<br>\n",
    "$$\n",
    "\\begin{align*}\n",
    "\\E(Y_i | \\textbf{X}_{i} , D_i) &= \\alpha + \\tau\\cdot D_i + \\textbf{X}_{i} ^\\intercal \\beta  + D_i\\cdot\n",
    "\\left(\\textbf{X}_i -\\bar{\\textbf{X}}\\right)^\\intercal\\gamma\\\\\n",
    "\\\\\n",
    "\\E(Y_i (0) | \\textbf{X}_{i} ) &= \\alpha + \\textbf{X}_{i} ^\\intercal \\beta\\\\\n",
    "\\E(Y_i (1) | \\textbf{X}_{i} ) &= \\alpha + \\tau\\cdot D_i + \\textbf{X}_{i} ^\\intercal \\beta  + D_i\\cdot\\left(\\textbf{X}_i -\\bar{\\textbf{X}}\\right)^\\intercal\\gamma\\\\\n",
    "\\\\\n",
    "\\E(Y_i (1) - Y_i(0) | \\textbf{X}_{i} ) &= \\tau+ \\left(\\textbf{X}_i -\\bar{\\textbf{X}}\\right)^\\intercal\\gamma\n",
    "\\end{align*}\n",
    "$$\n",
    "<br>\n",
    "Thus, estimating (\\ref{eq:olscate}) by OLS allows us to compute\n",
    "<br>\n",
    "<br>\n",
    "$$\n",
    "\\begin{equation*}\n",
    "\\tauhat_{\\text{OLS}}(\\textbf{x}) = \\widehat{\\E}(Y_i (1) - Y_i(0) | \\textbf{X}_{i} = \\textbf{x}) = \\widehat{\\tau}_{\\text{OLS}} + \\left(\\textbf{x} -\\bar{\\textbf{x}}\\right)^\\intercal\\widehat{\\gamma}_{\\text{OLS}} \\label{eq:cateols}\n",
    "\\end{equation*}\n",
    "$$\n",
    "<br>\n",
    "Thus we're essentially approximating the true $\\CATE$ by a linear function. Whether or not this constitutes a reasonable approximation is entirely determined by the underlying DGP.\n"
   ]
  },
  {
   "cell_type": "markdown",
   "metadata": {},
   "source": [
    "2.) **k-Nearest-Neighbor Matching**\n",
    "<br>\n",
    "<br>\n",
    "$$\n",
    "\\begin{equation}\n",
    "\\tauhat_{\\text{kNN}}(\\textbf{x}) = \\frac{1}{K}\\sum_{j\\in \\mathcal{J}_{K,1}(\\textbf{x})} Y_j - \\frac{1}{K}\\sum_{j\\in \\mathcal{J}_{K,0}(\\textbf{x})} Y_j  \n",
    "\\end{equation}\n",
    "$$\n",
    "<br>\n",
    "$\\mathcal{J}_{K,d}(\\textbf{x})$ denotes the set of indices of the $K$ closest units to support point $\\textbf{x}$ in terms of covariate values who have treatment status $D =d$. \n",
    "<br>\n",
    "If $d = \\text{dim}(\\textbf{X}_i) > 1$, then _\"close in terms of covariate values\"_ means small Euclidean norm $\\left\\| \\textbf{X}_i - \\textbf{x}\\right\\|_{2}$"
   ]
  },
  {
   "cell_type": "markdown",
   "metadata": {},
   "source": [
    "3.) **Causal Forests**\n",
    "<br>\n",
    "Please refer to the discussion in the last subsection (\\ref{eq:caterf})."
   ]
  },
  {
   "cell_type": "markdown",
   "metadata": {},
   "source": [
    "# 2 Simulation: One-dimensional $X$"
   ]
  },
  {
   "cell_type": "markdown",
   "metadata": {},
   "source": [
    "## 2.1 DGP"
   ]
  },
  {
   "cell_type": "markdown",
   "metadata": {},
   "source": [
    "For nearly the whole first part of the simulations, I'll stick to models that are linear in parameters when it comes to generating the potential outcomes. In addition, the first part will exclusively consider the case in which the feature vector $X$ is of dimension $1$. The models under consideration will be special cases of the following DGP:\n",
    "<br>\n",
    "&ensp;\n",
    "\\begin{align}\n",
    "Y(0)&=\\gamma_0 + \\gamma_1\\cdot g(X)+ \\gamma_2\\cdot h(\\gamma_3 X) +\\varepsilon_0 \\\\\n",
    "Y(1)&=\\phi_0 + \\phi_1\\cdot f(X)+ \\phi_2\\cdot c(\\phi_3 X)+\\varepsilon_1 ,\n",
    "\\end{align}\n",
    "<br>\n",
    "where\n",
    "\n",
    "* $\\varepsilon_j \\stackrel{\\text{i.i.d}}{\\sim} \\mathcal{N}(0,1),\\enspace j=0,1,\\quad X \\stackrel{\\text{i.i.d}}{\\sim} U[0,1]$\n",
    "<br>\n",
    "&ensp;\n",
    "* $g(\\cdot),h(\\cdot),f(\\cdot),\\enspace \\text{and}\\enspace c(\\cdot)$ are real-valued functions\n",
    "<br>\n",
    "&ensp;\n",
    "* $\\phi_j, \\gamma_j \\in \\mathbb{R}$, $j=1,2,3$\n",
    "<br>\n",
    "&ensp;\n",
    "\n",
    "\n",
    "In this model, $\\ATE$ and $\\CATE$ can be calculated as\n",
    "<br>\n",
    "&ensp;\n",
    "\\begin{align*}\n",
    "\\tau&=\\phi_0 - \\gamma_0 + \\phi_1 \\E(f(X))-\\gamma_1 \\E(g(X))+\\phi_2\\E(c(X))-\\gamma_2\\E(h(X))\\\\[5pt]\n",
    "\\tau(x)&=\\phi_0 - \\gamma_0 + \\phi_1 f(x)-\\gamma_1 g(x)+\\phi_2 c(x)-\\gamma_2 h(x).\n",
    "\\end{align*}\n",
    "<br>\n",
    "Thus, generally speaking, $\\ATE$ and $\\CATE$ will be similar if the functions do not vary too much (i.e. if the expectation of the function is close to the function's value at many $x$)."
   ]
  },
  {
   "cell_type": "markdown",
   "metadata": {},
   "source": [
    "Furthermore, the propensity score is allowed to be a real-valued function of realizations of $X$, an assumption that corresponds to the concept of selection on observables."
   ]
  },
  {
   "cell_type": "markdown",
   "metadata": {},
   "source": [
    "\\begin{align*}\n",
    "\\E(D\\vert X=x)=\\text{Pr}(D=1\\vert X=x)&=\\zeta(x)\\\\\n",
    "&\\in \\left(0,1\\right) \\enspace \\forall x \\in \\text{supp}(X)\n",
    "\\end{align*}"
   ]
  },
  {
   "cell_type": "markdown",
   "metadata": {},
   "source": [
    "## 2.2 R Function"
   ]
  },
  {
   "cell_type": "markdown",
   "metadata": {},
   "source": [
    "The function `create_output_table` outputs a table of results. It draws $N$ datasets, each of size $n$, from a fictitious superpopulation whose properties you can specify via the function's arguments. While running, the function will give you an idea about the runtime by displaying three different progress bars."
   ]
  },
  {
   "cell_type": "code",
   "execution_count": null,
   "metadata": {},
   "outputs": [],
   "source": [
    "#NOT RUN!#\n",
    "#create_output_table(n = 100, N = 50, B = 1, k = 1, kC = 10, num_trees = 100,\n",
    "#                           het_linear = FALSE, random_assignment = TRUE,\n",
    "#                           non_linearY = FALSE, non_linearD = FALSE,\n",
    "#                           method_ols = \"cool\",\n",
    "#                           knn_se5 = TRUE, ols_se5 = TRUE, C_ols_se5 = TRUE,\n",
    "#                          C_knn_se5 = TRUE, boot5 = FALSE,\n",
    "#                           para = FALSE)"
   ]
  },
  {
   "cell_type": "markdown",
   "metadata": {},
   "source": [
    "### 2.2.1 Input"
   ]
  },
  {
   "cell_type": "markdown",
   "metadata": {},
   "source": [
    "1. **Statistical Parameters**\n",
    "      * `N` is the number of datasets drawn\n",
    "      * `n` is the number of observations in each of the $N$ datasets\n",
    "<br>\n",
    "<br>\n",
    "<br>\n",
    "2. **Treatment Assignment**\n",
    "   1. `random_assignment` is boolean and, if\n",
    "      * `TRUE`, sets $\\zeta(x) = 0.5 \\quad \\forall x$\n",
    "      * `FALSE`, sets $\\zeta(x) = 0.6 x + 0.2$\n",
    "<br>\n",
    "   2. `non_linearD` is boolean and, if\n",
    "       * `TRUE` sets $\\zeta(x) = (x-0.05)^2 -0.25\\cdot \\left(\\max\\left\\{0.2, \\left| x\\right| -0.05\\right\\}\\right)^2 + 0.7\\cdot \\left(\\max\\left\\{0.2, \\left| x \\right|-0.6 \\right\\}\\right)^2$  \n",
    "       * `FALSE`, `random_assignment` dictates behavior\n",
    "<br>\n",
    "<br>\n",
    "<br>\n",
    "3. **Conditional Expectation Function**\n",
    "   1. `het_linear` is boolean and, if\n",
    "       * `TRUE`  \n",
    "       \\begin{align*}\n",
    "       Y(0)&=1 + 3\\cdot X +\\varepsilon_0 \\\\\n",
    "       Y(1)&=5 + 5\\cdot X+\\varepsilon_1 ,\n",
    "       \\end{align*}\n",
    "       <br>\n",
    "       * `FALSE`\n",
    "       \\begin{align*}\n",
    "       Y(0)&=1 + 3\\cdot X +\\varepsilon_0 \\\\\n",
    "       Y(1)&=5 + 3\\cdot X+\\varepsilon_1 ,\n",
    "       \\end{align*}\n",
    "       <br>\n",
    "   2. `non_linearY` is boolean and, if\n",
    "       * `TRUE`  \n",
    "       \\begin{align*}\n",
    "       Y(0)&=1 + 20\\cdot \\sin(\\pi X) +\\varepsilon_0 \\\\\n",
    "       Y(1)&=5 + 20\\cdot\\sin(5\\pi X)+\\varepsilon_1 ,\n",
    "       \\end{align*}\n",
    "       <br>\n",
    "       * `FALSE`, `het_linear` dictates behavior\n",
    "<br>\n",
    "<br>\n",
    "<br>\n",
    "4. **Tuning Parameters**\n",
    "   1. k-Nearest-Neighbor matching\n",
    "      * `k` number of nearest neighbors used for ATE (i.e. the cardinality of $\\mathcal{J}_{K}(i)$)\n",
    "      * `kC` number of nearest neighbors used for CATE (cardinality of $\\mathcal{J}_{K, d}(i)$)\n",
    "      <br>\n",
    "   2. Random Forests\n",
    "      * `num_trees` number of trees used in the random forest for both ATE and CATE\n",
    "      <br>\n",
    "   3. OLS\n",
    "      * `method_ols` should be set to <br>\n",
    "        `\"D_only\"` if you wish to estimate model (\\ref{eq:donly}) and to <br>\n",
    "        `\"full\"` if (\\ref{eq:full}) is preferred\n",
    "        <br>\n",
    "        <br>\n",
    "        <br>\n",
    "5. **Standard Errors**  \n",
    "  `ols_se5`, `C_ols_se5`, `knn_se5` and `C_knn_se5` are boolean and, if set to `TRUE`, compute an estimate of the standard deviation of the particular estimator in each run. Capital C at the beginning of the operator refers to $\\CATE$.\n",
    "\n",
    "  `boot5` refers to the Propensity Score Weighting Estimator and invokes the standard nonparametric Bootstrap to get an estimate of the standard deviation of the estimator. Correspondingly, `B` is the number of Bootstrap samples drawn in each run.\n",
    "  However, a caveat is in order: Although conjectured in [Abadie and Imbens (2008)](https://onlinelibrary.wiley.com/doi/abs/10.3982/ECTA6474), the nonparametric Bootstrap does not seem to be consistent here. \n",
    "\n",
    "  Generally speaking, standard errors are not of primary interest here, and therefore I recommend not computing them for the sake of fast computing. Especially the Bootstrapped standard error estimates increase run time dramatically.\n",
    "<br>  \n",
    "<br>  \n",
    "6. **Computation**\n",
    "      * If you download the R-Files to your local machine, setting `para = TRUE` enables parallel computing and therefore dramatically reduces runtime. Do not set to `TRUE` in the notebook. \n",
    "<br>  \n",
    "<br> \n",
    "7. **Recommendations**\n",
    "      * Put $n \\geqslant 100$ unless you're interested in small sample properties of the estimators\n",
    "      * Put $N \\geqslant 500$ to keep the risk of Monte Carlo error driving the results low\n",
    "      * $\\text{k}=1$ is a popular and therefore recommended choice for the $\\ATE$ estimation by $\\text{kNN}$ ([Imbens (2004)](https://scholar.harvard.edu/imbens/publications/nonparametric-estimation-average-treatment-effects-under-exogeneity-review)) \n",
    "      * $\\text{kC} \\in \\left\\{7,20, 50, 100\\right\\}$ should be higher than $\\text{k}$ because we aim at estimating a function. The more variable the function, the lower you might want to choose $\\text{kC}$.\n",
    "      * Put $\\text{num_trees} \\geqslant 100$. Caution: This is one of the main drivers of runtime. Can be low if number of covariates is low.\n",
    "      * $B\\geqslant 500$. Also one of the main drivers of runtime. Highly depends on choice for $n$. \n",
    "      * `method_ols = \"full\"` is recommended for two reasons.<br> First, and more importantly, it also works in some situations where `\"D_only\"` fails. Additionally, including few covariates can increase the precision of coefficient estimates, therefore implying lower standard errors.\n",
    "<br>  \n",
    "<br>  \n",
    "7. **General Remarks**\n",
    "<br>\n",
    "Note that there is a lot of room for tailoring the methods to particular situations. For instance, one could choose the optimal $k$ and $kC$ in kNN estimation by a cross-validation procedure. Or, to not be trapped by difficult functional forms, one could estimate the potential outcome function using assumption-free non-parametric procedures instead of relying on OLS. \n",
    "<br>\n",
    "For the sake of runtime and fairness, however, I've decided to rely either on default options of the functions used, or to use heuristics that have been advocated in the literature\n"
   ]
  },
  {
   "cell_type": "markdown",
   "metadata": {},
   "source": [
    "### 2.2.2 Output"
   ]
  },
  {
   "cell_type": "markdown",
   "metadata": {},
   "source": [
    "`create_output_table` returns two data frames, giving results for the $\\ATE$ and $\\CATE$ estimation, respectively. In the following I'll define the objects that are returned. \n",
    "<br>\n",
    "<br>\n",
    "**ATE**\n",
    "* `avg_estimate` corresponds to the average of the estimates of $\\delta$ in each simulation run. More precisely,\n",
    "$$\\begin{equation*}\n",
    "\\text{avg_estimate}\\enspace \\equiv \\quad \\overline{\\widehat{\\tau}} = \\frac{1}{N}\\sum_{j=1}^{N} \\widehat{\\tau}_j\n",
    "\\end{equation*}$$\n",
    "<br>\n",
    "* `sd_estimates` simply computes the standard deviation of the $N$ estimates:\n",
    "$$\\begin{equation*}\n",
    "\\text{sd_estimates} \\enspace\\equiv\\quad \\widehat{{\\text{sd}}}(\\widehat{\\tau}) = \\sqrt{\\frac{1}{N-1}\\sum_{j=1}^{N}\\left( \\widehat{\\tau}_j - \\overline{\\widehat{\\tau}}\\right)^2}\n",
    "\\end{equation*}$$\n",
    "<br>\n",
    "* `avg_estimated_se` is the average of the standard error estimates obtained in each of the $N$ runs:\n",
    "$$\\begin{equation*}\n",
    "\\text{sd_estimates} \\enspace\\equiv\\quad \\overline{\\widehat{\\text{SE}}}(\\widehat{\\tau}) = \\frac{1}{N}\\sum_{j=1}^{N} \\widehat{\\text{SE}}_j(\\widehat{\\tau})\n",
    "\\end{equation*}$$\n",
    "<br>\n",
    "<br>\n",
    "General remarks:\n",
    "* If $\\text{avg_estimate} \\approx \\text{true value}$, then we'd conclude that the method under consideration works (in terms of consistency).\n",
    "* `sd_estimates` and `avg_estimated_se` should be similar, since the latter is an average over estimates of the former.\n",
    "<br>\n",
    "<br>\n",
    "\n",
    "**CATE**\n",
    "\n",
    "* `avg_mse`. In each run, the MSE is computed as:\n",
    "$$\\begin{equation*}\n",
    " \\text{MSE}_j =\\frac{1}{n}\\sum_{i=1}^{n}(\\tau(\\X_i)_j - \\widehat{\\tau}(\\X_i)_j)^2\n",
    "\\end{equation*}$$\n",
    "  `avg_mse` is the simply the average\n",
    "$$\\begin{equation*}\n",
    "\\text{avg_mse}\\enspace \\equiv \\quad \\overline{\\text{MSE}}=\\frac{1}{N}\\sum_{j=1}^{N} \\text{MSE}_j\n",
    "\\end{equation*}$$\n",
    "<br>\n",
    "* `avg_mean_se` is the average of mean estimated standard error in each of the $N$ runs.\n",
    "<br>\n",
    "In each run, and for each support point of $X$ in that run, we can compute a point estimate of the standard error:\n",
    "<br>\n",
    "<br>\n",
    "$$\\begin{equation*}\n",
    " \\widehat{\\text{SE}}(\\X_i)_j \n",
    "\\end{equation*}$$\n",
    "<br>\n",
    "For one particular sample we can then compute\n",
    "$$\\begin{equation*}\n",
    " \\overline{\\widehat{\\text{SE}}}_j = \\frac{1}{n}\\sum_{i=1}^{n} \\widehat{\\text{SE}}(\\X_i)_j \n",
    "\\end{equation*}$$\n",
    "<br>\n",
    "Based on that we simply average over the $N$ runs: \n",
    "$$\\begin{equation*}\n",
    " \\text{avg_mean_se}\\enspace \\equiv \\quad  \\text{Average}(\\overline{\\widehat{\\text{SE}}}_j) = \\frac{1}{N}\\sum_{j=1}^{N}  \\overline{\\widehat{\\text{SE}}}_j\n",
    "\\end{equation*}$$\n",
    "<br>\n",
    "General Remarks:\n",
    "* Computing MSEs is very popular in the machine learning literature (e.g. [Hastie, Tibshirani, and Friedman (2005)](https://web.stanford.edu/~hastie/Papers/ESLII_3rd.pdf)) to compare and evaluate the goodness of a method. In the present setting it is natural way to evaluate how well a function is estimated by a particular method."
   ]
  },
  {
   "cell_type": "markdown",
   "metadata": {},
   "source": [
    "As an example of how the various options you might specify translate into components of the simulation study, consider the following observations generated with the function `sim` which is also called by `create_output_table` repeatedly for the simulation study."
   ]
  },
  {
   "cell_type": "code",
   "execution_count": 3,
   "metadata": {},
   "outputs": [
    {
     "data": {
      "text/html": [
       "<table>\n",
       "<caption>A tibble: 10 × 5</caption>\n",
       "<thead>\n",
       "\t<tr><th scope=col>Y0</th><th scope=col>Y1</th><th scope=col>X</th><th scope=col>D</th><th scope=col>Y_obs</th></tr>\n",
       "\t<tr><th scope=col>&lt;dbl&gt;</th><th scope=col>&lt;dbl&gt;</th><th scope=col>&lt;dbl&gt;</th><th scope=col>&lt;dbl&gt;</th><th scope=col>&lt;dbl&gt;</th></tr>\n",
       "</thead>\n",
       "<tbody>\n",
       "\t<tr><td>1.165</td><td>5.460</td><td>0.069</td><td>0</td><td>1.165</td></tr>\n",
       "\t<tr><td>3.341</td><td>8.096</td><td>0.818</td><td>0</td><td>3.341</td></tr>\n",
       "\t<tr><td>4.285</td><td>7.481</td><td>0.943</td><td>0</td><td>4.285</td></tr>\n",
       "\t<tr><td>3.828</td><td>5.293</td><td>0.269</td><td>0</td><td>3.828</td></tr>\n",
       "\t<tr><td>0.457</td><td>5.906</td><td>0.169</td><td>1</td><td>5.906</td></tr>\n",
       "\t<tr><td>1.836</td><td>6.055</td><td>0.034</td><td>1</td><td>6.055</td></tr>\n",
       "\t<tr><td>2.076</td><td>5.797</td><td>0.179</td><td>1</td><td>5.797</td></tr>\n",
       "\t<tr><td>1.611</td><td>4.875</td><td>0.642</td><td>0</td><td>1.611</td></tr>\n",
       "\t<tr><td>0.819</td><td>5.357</td><td>0.023</td><td>0</td><td>0.819</td></tr>\n",
       "\t<tr><td>1.339</td><td>5.387</td><td>0.008</td><td>1</td><td>5.387</td></tr>\n",
       "</tbody>\n",
       "</table>\n"
      ],
      "text/latex": [
       "A tibble: 10 × 5\n",
       "\\begin{tabular}{r|lllll}\n",
       " Y0 & Y1 & X & D & Y\\_obs\\\\\n",
       " <dbl> & <dbl> & <dbl> & <dbl> & <dbl>\\\\\n",
       "\\hline\n",
       "\t 1.165 & 5.460 & 0.069 & 0 & 1.165\\\\\n",
       "\t 3.341 & 8.096 & 0.818 & 0 & 3.341\\\\\n",
       "\t 4.285 & 7.481 & 0.943 & 0 & 4.285\\\\\n",
       "\t 3.828 & 5.293 & 0.269 & 0 & 3.828\\\\\n",
       "\t 0.457 & 5.906 & 0.169 & 1 & 5.906\\\\\n",
       "\t 1.836 & 6.055 & 0.034 & 1 & 6.055\\\\\n",
       "\t 2.076 & 5.797 & 0.179 & 1 & 5.797\\\\\n",
       "\t 1.611 & 4.875 & 0.642 & 0 & 1.611\\\\\n",
       "\t 0.819 & 5.357 & 0.023 & 0 & 0.819\\\\\n",
       "\t 1.339 & 5.387 & 0.008 & 1 & 5.387\\\\\n",
       "\\end{tabular}\n"
      ],
      "text/markdown": [
       "\n",
       "A tibble: 10 × 5\n",
       "\n",
       "| Y0 &lt;dbl&gt; | Y1 &lt;dbl&gt; | X &lt;dbl&gt; | D &lt;dbl&gt; | Y_obs &lt;dbl&gt; |\n",
       "|---|---|---|---|---|\n",
       "| 1.165 | 5.460 | 0.069 | 0 | 1.165 |\n",
       "| 3.341 | 8.096 | 0.818 | 0 | 3.341 |\n",
       "| 4.285 | 7.481 | 0.943 | 0 | 4.285 |\n",
       "| 3.828 | 5.293 | 0.269 | 0 | 3.828 |\n",
       "| 0.457 | 5.906 | 0.169 | 1 | 5.906 |\n",
       "| 1.836 | 6.055 | 0.034 | 1 | 6.055 |\n",
       "| 2.076 | 5.797 | 0.179 | 1 | 5.797 |\n",
       "| 1.611 | 4.875 | 0.642 | 0 | 1.611 |\n",
       "| 0.819 | 5.357 | 0.023 | 0 | 0.819 |\n",
       "| 1.339 | 5.387 | 0.008 | 1 | 5.387 |\n",
       "\n"
      ],
      "text/plain": [
       "   Y0    Y1    X     D Y_obs\n",
       "1  1.165 5.460 0.069 0 1.165\n",
       "2  3.341 8.096 0.818 0 3.341\n",
       "3  4.285 7.481 0.943 0 4.285\n",
       "4  3.828 5.293 0.269 0 3.828\n",
       "5  0.457 5.906 0.169 1 5.906\n",
       "6  1.836 6.055 0.034 1 6.055\n",
       "7  2.076 5.797 0.179 1 5.797\n",
       "8  1.611 4.875 0.642 0 1.611\n",
       "9  0.819 5.357 0.023 0 0.819\n",
       "10 1.339 5.387 0.008 1 5.387"
      ]
     },
     "metadata": {},
     "output_type": "display_data"
    }
   ],
   "source": [
    "set.seed(12)\n",
    "test <- sim(n = 100, het_linear = FALSE, random_assignment = TRUE, k = 1, kC = 20,\n",
    "           non_linearY = FALSE, non_linearD = FALSE)\n",
    "round(head(test[, 1:5], 10), 3)"
   ]
  },
  {
   "cell_type": "markdown",
   "metadata": {},
   "source": [
    "While $\\text{Y0}$ and $\\text{Y1}$ correspond to the potential outcomes, $\\text{Y_obs} = Y(1)\\cdot D + Y(0)\\cdot (1-D)$ "
   ]
  },
  {
   "cell_type": "markdown",
   "metadata": {},
   "source": [
    "## 2.3 Results: Random Assignment, Linearity, and Constant Treatment Effects\n",
    "For the first simulation, we'll study a straightforward setup to illustrate where $\\CATE$ and $\\ATE$ coincide.\n",
    "<br>\n",
    "We'll use the specification induced by setting `het_linear = FALSE` and `non_linearY = FALSE`.\n",
    "<br>\n",
    "This leads to the following potential outcome functions.\n",
    "<br>\n",
    "<br>\n",
    "       \\begin{align*}\n",
    "       Y(0)&=1 + 3\\cdot X +\\varepsilon_0 \\\\\n",
    "       Y(1)&=5 + 3\\cdot X+\\varepsilon_1 ,\n",
    "       \\end{align*}\n",
    "\n",
    "\n",
    "Thus we obtain \n",
    "<br>\n",
    "$$\\begin{align*}\n",
    "\\tau &= \\E(\\YI-\\YO)\\\\\n",
    "     &= 4+ (3-3)\\cdot\\E(X)\\\\\n",
    "     &= 4\n",
    "\\end{align*}$$\n",
    "<br>\n",
    "$$\\begin{align*}\n",
    "\\tau(x) &= \\E(\\YI-\\YO\\vert X=x)\\\\\n",
    "&= 4+ (3-3)\\cdot \\E(X\\vert X=x)\\\\\n",
    "&= 4\n",
    "\\end{align*}$$\n",
    "<br>\n",
    "In addition, we want to mimick a perfectly randomized experiment, thus setting `random_assignment = TRUE` and `non_linearD = FALSE`.\n",
    "<br>\n",
    "Thus, $\\zeta(x) = 0.5$"
   ]
  },
  {
   "cell_type": "markdown",
   "metadata": {},
   "source": [
    "Before looking at numerical results, let us first gain some intuition for this setup with a plot."
   ]
  },
  {
   "cell_type": "code",
   "execution_count": 9,
   "metadata": {},
   "outputs": [
    {
     "data": {
      "image/png": "[encoded data removed]",
      "text/plain": [
       "plot without title"
      ]
     },
     "metadata": {},
     "output_type": "display_data"
    }
   ],
   "source": [
    "options(repr.plot.width=8, repr.plot.height=4)\n",
    "set.seed(12)\n",
    "plot_data(n=500, num_trees=100, kC=50,\n",
    "                      het_linear = FALSE, random_assignment = TRUE,\n",
    "                      non_linearY = FALSE, non_linearD = FALSE)\n"
   ]
  },
  {
   "cell_type": "markdown",
   "metadata": {},
   "source": [
    "`plot_data()` creates a plot to visually explore the properties of the DGP you have specified.\n",
    "<br>\n",
    "In addition, it visualizes the estimated $\\CATE$ function, $\\tauhat(x)$, from the different methods we want to compare. \n",
    "<br>\n",
    "The true $\\text{CATE}$ function is the **dotted black** line"
   ]
  },
  {
   "cell_type": "markdown",
   "metadata": {},
   "source": [
    "**ATE**\n",
    "<br>\n",
    "As seen above, $\\tau=4$. Since all of the methods except for the $\\naive$ estimator can deal with unconfoundedness, the present setting using completely random treatment assignment can be seen as a warm-up where we expect all of the methods to work.\n",
    "<br>\n",
    "<br>\n",
    "**CATE**\n",
    "<br>\n",
    "To start with, $\\tau(x)$ is a constant in this case,  $\\tau(x)=\\tau=4$. \n",
    "<br>\n",
    "Since both potential outcomes are linear functions of $X$, $\\text{OLS}$ works perfectly fine. \n",
    "<br>\n",
    "On the other hand, $\\cf$ are known to struggle with smooth surfaces (see, e.g. [Hastie, Tibshirani, and Friedman (2005), p. 312](https://web.stanford.edu/~hastie/Papers/ESLII_3rd.pdf)), and would need more observations to recognize the pure linearity. Compared to $\\knn$, however, $\\cf$ seem to do quite well. This is because kNN is an entirely non-parametric procedure which has a hard time detecting smoothness here. We could improve its performance by increasing $kC$, because averaging over more neighbors necessarily increases smoothness. At the same time, we implicitly restrict the estimated functional form by doing this."
   ]
  },
  {
   "cell_type": "markdown",
   "metadata": {},
   "source": [
    "Let's see whether our hypotheses are matched by the simulation results."
   ]
  },
  {
   "cell_type": "code",
   "execution_count": 7,
   "metadata": {},
   "outputs": [
    {
     "name": "stdout",
     "output_type": "stream",
     "text": [
      "  |======================================================================| 100%\n",
      "  |======================================================================| 100%\n",
      "  |======================================================================| 100%\n"
     ]
    },
    {
     "data": {
      "text/html": [
       "<dl>\n",
       "\t<dt>$ATE</dt>\n",
       "\t\t<dd><table>\n",
       "<caption>A data.frame: 3 × 6</caption>\n",
       "<thead>\n",
       "\t<tr><th scope=col>Description</th><th scope=col>Naive</th><th scope=col>OLS</th><th scope=col>PSW</th><th scope=col>k_NN</th><th scope=col>RF</th></tr>\n",
       "\t<tr><th scope=col>&lt;I&lt;chr&gt;&gt;</th><th scope=col>&lt;I&lt;chr&gt;&gt;</th><th scope=col>&lt;I&lt;chr&gt;&gt;</th><th scope=col>&lt;I&lt;chr&gt;&gt;</th><th scope=col>&lt;I&lt;chr&gt;&gt;</th><th scope=col>&lt;I&lt;chr&gt;&gt;</th></tr>\n",
       "</thead>\n",
       "<tbody>\n",
       "\t<tr><td>    avg_estimate</td><td>    4.0015</td><td>    4.0015</td><td>   4.00324</td><td>    4.0076</td><td>   4.00472</td></tr>\n",
       "\t<tr><td>    sd_estimates</td><td>    0.1216</td><td>    0.1216</td><td>   0.09206</td><td>    0.1060</td><td>   0.09715</td></tr>\n",
       "\t<tr><td>avg_estimated_se</td><td>    0.1185</td><td>    0.1183</td><td>        NA</td><td>    0.1039</td><td>   0.09682</td></tr>\n",
       "</tbody>\n",
       "</table>\n",
       "</dd>\n",
       "\t<dt>$CATE</dt>\n",
       "\t\t<dd><table>\n",
       "<caption>A data.frame: 2 × 4</caption>\n",
       "<thead>\n",
       "\t<tr><th scope=col>Description</th><th scope=col>OLS</th><th scope=col>k_NN</th><th scope=col>RF</th></tr>\n",
       "\t<tr><th scope=col>&lt;I&lt;chr&gt;&gt;</th><th scope=col>&lt;I&lt;chr&gt;&gt;</th><th scope=col>&lt;I&lt;chr&gt;&gt;</th><th scope=col>&lt;I&lt;chr&gt;&gt;</th></tr>\n",
       "</thead>\n",
       "<tbody>\n",
       "\t<tr><td>    avg_mse</td><td>   0.01676</td><td>   0.04263</td><td>   0.05165</td></tr>\n",
       "\t<tr><td>avg_mean_se</td><td>   0.08722</td><td>   0.06839</td><td>   0.22203</td></tr>\n",
       "</tbody>\n",
       "</table>\n",
       "</dd>\n",
       "</dl>\n"
      ],
      "text/latex": [
       "\\begin{description}\n",
       "\\item[\\$ATE] A data.frame: 3 × 6\n",
       "\\begin{tabular}{r|llllll}\n",
       " Description & Naive & OLS & PSW & k\\_NN & RF\\\\\n",
       " <I<chr>> & <I<chr>> & <I<chr>> & <I<chr>> & <I<chr>> & <I<chr>>\\\\\n",
       "\\hline\n",
       "\t     avg\\_estimate &     4.0015 &     4.0015 &    4.00324 &     4.0076 &    4.00472\\\\\n",
       "\t     sd\\_estimates &     0.1216 &     0.1216 &    0.09206 &     0.1060 &    0.09715\\\\\n",
       "\t avg\\_estimated\\_se &     0.1185 &     0.1183 &         NA &     0.1039 &    0.09682\\\\\n",
       "\\end{tabular}\n",
       "\n",
       "\\item[\\$CATE] A data.frame: 2 × 4\n",
       "\\begin{tabular}{r|llll}\n",
       " Description & OLS & k\\_NN & RF\\\\\n",
       " <I<chr>> & <I<chr>> & <I<chr>> & <I<chr>>\\\\\n",
       "\\hline\n",
       "\t     avg\\_mse &    0.01676 &    0.04263 &    0.05165\\\\\n",
       "\t avg\\_mean\\_se &    0.08722 &    0.06839 &    0.22203\\\\\n",
       "\\end{tabular}\n",
       "\n",
       "\\end{description}\n"
      ],
      "text/markdown": [
       "$ATE\n",
       ":   \n",
       "A data.frame: 3 × 6\n",
       "\n",
       "| Description &lt;I&lt;chr&gt;&gt; | Naive &lt;I&lt;chr&gt;&gt; | OLS &lt;I&lt;chr&gt;&gt; | PSW &lt;I&lt;chr&gt;&gt; | k_NN &lt;I&lt;chr&gt;&gt; | RF &lt;I&lt;chr&gt;&gt; |\n",
       "|---|---|---|---|---|---|\n",
       "|     avg_estimate |     4.0015 |     4.0015 |    4.00324 |     4.0076 |    4.00472 |\n",
       "|     sd_estimates |     0.1216 |     0.1216 |    0.09206 |     0.1060 |    0.09715 |\n",
       "| avg_estimated_se |     0.1185 |     0.1183 |         NA |     0.1039 |    0.09682 |\n",
       "\n",
       "\n",
       "$CATE\n",
       ":   \n",
       "A data.frame: 2 × 4\n",
       "\n",
       "| Description &lt;I&lt;chr&gt;&gt; | OLS &lt;I&lt;chr&gt;&gt; | k_NN &lt;I&lt;chr&gt;&gt; | RF &lt;I&lt;chr&gt;&gt; |\n",
       "|---|---|---|---|\n",
       "|     avg_mse |    0.01676 |    0.04263 |    0.05165 |\n",
       "| avg_mean_se |    0.08722 |    0.06839 |    0.22203 |\n",
       "\n",
       "\n",
       "\n",
       "\n"
      ],
      "text/plain": [
       "$ATE\n",
       "       Description      Naive        OLS        PSW       k_NN         RF\n",
       "1     avg_estimate     4.0015     4.0015    4.00324     4.0076    4.00472\n",
       "2     sd_estimates     0.1216     0.1216    0.09206     0.1060    0.09715\n",
       "3 avg_estimated_se     0.1185     0.1183         NA     0.1039    0.09682\n",
       "\n",
       "$CATE\n",
       "  Description        OLS       k_NN         RF\n",
       "1     avg_mse    0.01676    0.04263    0.05165\n",
       "2 avg_mean_se    0.08722    0.06839    0.22203\n"
      ]
     },
     "metadata": {},
     "output_type": "display_data"
    }
   ],
   "source": [
    "set.seed(12)\n",
    "create_output_table(n = 500, N = 500, B = 500, k = 1, kC = 50, num_trees = 100,\n",
    "                           het_linear = FALSE, random_assignment = TRUE,\n",
    "                           non_linearY = FALSE, non_linearD = FALSE,\n",
    "                           method_ols = \"D_only\",\n",
    "                           knn_se5 = TRUE, ols_se5 = TRUE, C_ols_se5 = TRUE,\n",
    "                           C_knn_se5 = TRUE, boot5 = FALSE, para = FALSE)"
   ]
  },
  {
   "cell_type": "markdown",
   "metadata": {},
   "source": [
    "**ATE**\n",
    "<br>\n",
    "As expected, the distribution of the estimates of all methods are centered around the true value. \n",
    "<br>\n",
    "In addition, Naive and OLS produce numerically equivalent estimates.\n",
    "<br>\n",
    "Furthermore, all estimators exhibit similar standard deviations.\n",
    "<br>\n",
    "<br>\n",
    "**CATE**\n",
    "<br>\n",
    "Unsurprisingly, OLS outperforms its competitors. Notably, RF is the close second while kNN trails behind a bit.\n",
    "<br>\n",
    "Concerning estimation uncertainty, RF performs worse than its competitors, which is also connected to the rather low number of observations fo this method. "
   ]
  },
  {
   "cell_type": "markdown",
   "metadata": {},
   "source": [
    "## 2.4 Results: Unconfoundedness, Linearity, and Constant Treatment Effects"
   ]
  },
  {
   "cell_type": "markdown",
   "metadata": {},
   "source": [
    "The only thing to be changed with respect to the previous setting concerns the treatment assignment rule. More specifically, instead of purely random treatment assignment we're using \n",
    "\n",
    "$$\\begin{equation*}\n",
    "\\zeta(x) = 0.6 x + 0.2,\n",
    "\\end{equation*}$$\n",
    "<br>\n",
    "which is an increasig function of $X$. We thus expect to see few treated units relative to untreated ones for small values of $X$ and vice versa.\n"
   ]
  },
  {
   "cell_type": "code",
   "execution_count": 35,
   "metadata": {},
   "outputs": [
    {
     "data": {
      "image/png": "[encoded data removed]",
      "text/plain": [
       "plot without title"
      ]
     },
     "metadata": {},
     "output_type": "display_data"
    }
   ],
   "source": [
    "options(repr.plot.width=8, repr.plot.height=4)\n",
    "set.seed(12)\n",
    "plot_data(n=500, num_trees=100, kC=50,\n",
    "                      het_linear = FALSE, random_assignment = FALSE,\n",
    "                      non_linearY = FALSE, non_linearD = FALSE)\n"
   ]
  },
  {
   "cell_type": "markdown",
   "metadata": {},
   "source": [
    "The only difference noticeable through eye-balling is that there are relatively few treated units relative to untreated ones for small values of $X$, and vice versa for values of $X$ close to 1. What do we expect in terms of estimation performance?"
   ]
  },
  {
   "cell_type": "markdown",
   "metadata": {},
   "source": [
    "Clearly, we not have random assignment but the weaker condition of unconfoundedness is still satisfied: conditional on a realization of $X = x$, the probability of receiving treatment is the same for every unit.\n",
    "<br>\n",
    "**ATE**\n",
    "<br>\n",
    "As we've seen in the course, the Naive estimator will break down while the PSW estimator will still work. kNN and RF were developed explicitly assuming unconfoundedness and should therefore handle this setup well. OLS will not work if we do not additionally control for $X$, thereby closing the back-door path suggested in the cuasal graph above. \n",
    "<br>\n",
    "<br>\n",
    "**CATE**\n",
    "<br>\n",
    "As mentioned earlier, all of the methods can deal with unconfoundedness. Thus we expect similar results as in the last setup."
   ]
  },
  {
   "cell_type": "code",
   "execution_count": 13,
   "metadata": {},
   "outputs": [
    {
     "name": "stdout",
     "output_type": "stream",
     "text": [
      "  |======================================================================| 100%\n",
      "  |======================================================================| 100%\n",
      "  |======================================================================| 100%\n"
     ]
    },
    {
     "data": {
      "text/html": [
       "<dl>\n",
       "\t<dt>$ATE</dt>\n",
       "\t\t<dd><table>\n",
       "<caption>A data.frame: 3 × 6</caption>\n",
       "<thead>\n",
       "\t<tr><th scope=col>Description</th><th scope=col>Naive</th><th scope=col>OLS</th><th scope=col>PSW</th><th scope=col>k_NN</th><th scope=col>RF</th></tr>\n",
       "\t<tr><th scope=col>&lt;I&lt;chr&gt;&gt;</th><th scope=col>&lt;I&lt;chr&gt;&gt;</th><th scope=col>&lt;I&lt;chr&gt;&gt;</th><th scope=col>&lt;I&lt;chr&gt;&gt;</th><th scope=col>&lt;I&lt;chr&gt;&gt;</th><th scope=col>&lt;I&lt;chr&gt;&gt;</th></tr>\n",
       "</thead>\n",
       "<tbody>\n",
       "\t<tr><td>    avg_estimate</td><td>    4.5982</td><td>   4.00217</td><td>   4.00434</td><td>    4.0037</td><td>    4.0077</td></tr>\n",
       "\t<tr><td>    sd_estimates</td><td>    0.1119</td><td>   0.09403</td><td>   0.09564</td><td>    0.1143</td><td>    0.1037</td></tr>\n",
       "\t<tr><td>avg_estimated_se</td><td>    0.1155</td><td>   0.09532</td><td>        NA</td><td>    0.1122</td><td>    0.1077</td></tr>\n",
       "</tbody>\n",
       "</table>\n",
       "</dd>\n",
       "\t<dt>$CATE</dt>\n",
       "\t\t<dd><table>\n",
       "<caption>A data.frame: 2 × 4</caption>\n",
       "<thead>\n",
       "\t<tr><th scope=col>Description</th><th scope=col>OLS</th><th scope=col>k_NN</th><th scope=col>RF</th></tr>\n",
       "\t<tr><th scope=col>&lt;I&lt;chr&gt;&gt;</th><th scope=col>&lt;I&lt;chr&gt;&gt;</th><th scope=col>&lt;I&lt;chr&gt;&gt;</th><th scope=col>&lt;I&lt;chr&gt;&gt;</th></tr>\n",
       "</thead>\n",
       "<tbody>\n",
       "\t<tr><td>    avg_mse</td><td>   0.01703</td><td>   0.07061</td><td>   0.04852</td></tr>\n",
       "\t<tr><td>avg_mean_se</td><td>   0.08666</td><td>   0.07512</td><td>   0.21751</td></tr>\n",
       "</tbody>\n",
       "</table>\n",
       "</dd>\n",
       "</dl>\n"
      ],
      "text/latex": [
       "\\begin{description}\n",
       "\\item[\\$ATE] A data.frame: 3 × 6\n",
       "\\begin{tabular}{r|llllll}\n",
       " Description & Naive & OLS & PSW & k\\_NN & RF\\\\\n",
       " <I<chr>> & <I<chr>> & <I<chr>> & <I<chr>> & <I<chr>> & <I<chr>>\\\\\n",
       "\\hline\n",
       "\t     avg\\_estimate &     4.5982 &    4.00217 &    4.00434 &     4.0037 &     4.0077\\\\\n",
       "\t     sd\\_estimates &     0.1119 &    0.09403 &    0.09564 &     0.1143 &     0.1037\\\\\n",
       "\t avg\\_estimated\\_se &     0.1155 &    0.09532 &         NA &     0.1122 &     0.1077\\\\\n",
       "\\end{tabular}\n",
       "\n",
       "\\item[\\$CATE] A data.frame: 2 × 4\n",
       "\\begin{tabular}{r|llll}\n",
       " Description & OLS & k\\_NN & RF\\\\\n",
       " <I<chr>> & <I<chr>> & <I<chr>> & <I<chr>>\\\\\n",
       "\\hline\n",
       "\t     avg\\_mse &    0.01703 &    0.07061 &    0.04852\\\\\n",
       "\t avg\\_mean\\_se &    0.08666 &    0.07512 &    0.21751\\\\\n",
       "\\end{tabular}\n",
       "\n",
       "\\end{description}\n"
      ],
      "text/markdown": [
       "$ATE\n",
       ":   \n",
       "A data.frame: 3 × 6\n",
       "\n",
       "| Description &lt;I&lt;chr&gt;&gt; | Naive &lt;I&lt;chr&gt;&gt; | OLS &lt;I&lt;chr&gt;&gt; | PSW &lt;I&lt;chr&gt;&gt; | k_NN &lt;I&lt;chr&gt;&gt; | RF &lt;I&lt;chr&gt;&gt; |\n",
       "|---|---|---|---|---|---|\n",
       "|     avg_estimate |     4.5982 |    4.00217 |    4.00434 |     4.0037 |     4.0077 |\n",
       "|     sd_estimates |     0.1119 |    0.09403 |    0.09564 |     0.1143 |     0.1037 |\n",
       "| avg_estimated_se |     0.1155 |    0.09532 |         NA |     0.1122 |     0.1077 |\n",
       "\n",
       "\n",
       "$CATE\n",
       ":   \n",
       "A data.frame: 2 × 4\n",
       "\n",
       "| Description &lt;I&lt;chr&gt;&gt; | OLS &lt;I&lt;chr&gt;&gt; | k_NN &lt;I&lt;chr&gt;&gt; | RF &lt;I&lt;chr&gt;&gt; |\n",
       "|---|---|---|---|\n",
       "|     avg_mse |    0.01703 |    0.07061 |    0.04852 |\n",
       "| avg_mean_se |    0.08666 |    0.07512 |    0.21751 |\n",
       "\n",
       "\n",
       "\n",
       "\n"
      ],
      "text/plain": [
       "$ATE\n",
       "       Description      Naive        OLS        PSW       k_NN         RF\n",
       "1     avg_estimate     4.5982    4.00217    4.00434     4.0037     4.0077\n",
       "2     sd_estimates     0.1119    0.09403    0.09564     0.1143     0.1037\n",
       "3 avg_estimated_se     0.1155    0.09532         NA     0.1122     0.1077\n",
       "\n",
       "$CATE\n",
       "  Description        OLS       k_NN         RF\n",
       "1     avg_mse    0.01703    0.07061    0.04852\n",
       "2 avg_mean_se    0.08666    0.07512    0.21751\n"
      ]
     },
     "metadata": {},
     "output_type": "display_data"
    }
   ],
   "source": [
    "set.seed(12)\n",
    "create_output_table(n = 500, N = 500, B = 500, k = 1, kC = 50, num_trees = 100,\n",
    "                           het_linear = FALSE, random_assignment = FALSE,\n",
    "                           non_linearY = FALSE, non_linearD = FALSE,\n",
    "                           method_ols = \"full\",\n",
    "                           knn_se5 = TRUE, ols_se5 = TRUE, C_ols_se5 = TRUE,\n",
    "                           C_knn_se5 = TRUE, boot5 = FALSE,\n",
    "                           para = FALSE)"
   ]
  },
  {
   "cell_type": "markdown",
   "metadata": {},
   "source": [
    "**ATE**\n",
    "<br>\n",
    "As expected, the Naive estimator breaks down if random treatment assignment is violated.\n",
    "<br>\n",
    "As conjectured before, controlling for $X$ in OLS estimation leaves us on the safe side\n",
    "<br>\n",
    "Again, all estimators exhibit similar standard deviations. The uncertainty of OLS estimates was reduced by the inclusion of $X$ and the interction of $X$ and $D$.\n",
    "<br>\n",
    "<br>\n",
    "**CATE**\n",
    "<br>\n",
    "Same comments as above apply."
   ]
  },
  {
   "cell_type": "markdown",
   "metadata": {},
   "source": [
    "**Remark** <br>\n",
    "One may wonder whether these results are sensitive to the choice of $\\zeta(x)$ for treatment assignment. The short answer is: yes they are. As we've seen in the course, the PSW estimator will only work if we produce decent estimates of the propensity score. Since I've decided to use logistic regression to obtain them, they'll be rendered useless if we misspecify $\\zeta(x)$ by using logistic regression. Exactly this is the case if you specify `non_linearD = TRUE`, which I'll leave to you to experiment with.<br>\n",
    "All other methods will continue to work, especially OLS if you specify `method_ols = \"full\"`. This is because the CATE is still a linear funtion (a constant). "
   ]
  },
  {
   "cell_type": "markdown",
   "metadata": {},
   "source": [
    "## 2.4 Results: Unconfoundedness, Linearity, and Linear Heterogeneity"
   ]
  },
  {
   "cell_type": "markdown",
   "metadata": {},
   "source": [
    "This subsection sets `het_linear = TRUE` yielding the following DGP:\n",
    "<br>\n",
    "<br>\n",
    "       \\begin{align*}\n",
    "       Y(0)&=1 + 3\\cdot X +\\varepsilon_0 \\\\\n",
    "       Y(1)&=5 + 5\\cdot X+\\varepsilon_1 ,\n",
    "       \\end{align*}\n",
    "<br>\n",
    "Treated outcomes have higher slope in $X$, leading to non-constant treatment effects.\n",
    "<br>\n",
    "<br>\n",
    "$$\\begin{align*}\n",
    "\\tau &= \\E(\\YI-\\YO)\\\\\n",
    "     &= 4+ (5-3)\\cdot\\E(X)\\\\\n",
    "     &= 5\n",
    "\\end{align*}$$\n",
    "<br>\n",
    "$$\\begin{align*}\n",
    "\\tau(x) &= \\E(\\YI-\\YO\\vert X=x)\\\\\n",
    "&= 4+ (5-3)\\cdot \\E(X\\vert X=x)\\\\\n",
    "&= 4+2\\cdot X\n",
    "\\end{align*}$$"
   ]
  },
  {
   "cell_type": "code",
   "execution_count": 6,
   "metadata": {},
   "outputs": [
    {
     "data": {
      "image/png": "[encoded data removed]",
      "text/plain": [
       "plot without title"
      ]
     },
     "metadata": {},
     "output_type": "display_data"
    }
   ],
   "source": [
    "options(repr.plot.width=8, repr.plot.height=4)\n",
    "set.seed(12)\n",
    "plot_data(n=500, num_trees=100, kC=50,\n",
    "                      het_linear = TRUE, random_assignment = FALSE,\n",
    "                      non_linearY = FALSE, non_linearD = FALSE)"
   ]
  },
  {
   "cell_type": "markdown",
   "metadata": {},
   "source": [
    "The different slopes of the potential outcomes are hardly visible to the naked eye. <br>\n",
    "As argued theoretically above, the CATE is now a linear function of $X$. We therefore do not expect any differences compared to the outcomes above:\n",
    "* The expression for the CATE estimated by OLS (\\ref{eq:cateols}) makes clear that OLS is able to handle this case easily.\n",
    "* The other methods for CATE do not rely on functional form assumptions and will therefore work"
   ]
  },
  {
   "cell_type": "markdown",
   "metadata": {},
   "source": [
    "**Remark**\n",
    "<br>\n",
    "Instead of performance comparisons among different estimators, this setup ought to make a different, albeit more important point. \n",
    "<br>\n",
    "Although we expect all of the ATE-estimators expect for the Naive to work, we might wonder whether the ATE is still informative in this setting. Both the plot and the theoretical argument illustrate that units with $X = x \\approx 0$ exhibit a treatment effect close to $4$ while units with with $X = x \\approx 1$ will see their outcome rising by $6$ if treated. \n",
    "<br> \n",
    "Thus, the informativeness of the ATE, which just averages over these outcomes to yield $5$, is severly limited.  \n",
    "<br> \n",
    "For the sake of completeness, have a look at the uncommented simulation results below. "
   ]
  },
  {
   "cell_type": "code",
   "execution_count": 12,
   "metadata": {},
   "outputs": [
    {
     "name": "stdout",
     "output_type": "stream",
     "text": [
      "  |======================================================================| 100%\n",
      "  |======================================================================| 100%\n",
      "  |======================================================================| 100%\n"
     ]
    },
    {
     "data": {
      "text/html": [
       "<dl>\n",
       "\t<dt>$ATE</dt>\n",
       "\t\t<dd><table>\n",
       "<caption>A data.frame: 3 × 6</caption>\n",
       "<thead>\n",
       "\t<tr><th scope=col>Description</th><th scope=col>Naive</th><th scope=col>OLS</th><th scope=col>PSW</th><th scope=col>k_NN</th><th scope=col>RF</th></tr>\n",
       "\t<tr><th scope=col>&lt;I&lt;chr&gt;&gt;</th><th scope=col>&lt;I&lt;chr&gt;&gt;</th><th scope=col>&lt;I&lt;chr&gt;&gt;</th><th scope=col>&lt;I&lt;chr&gt;&gt;</th><th scope=col>&lt;I&lt;chr&gt;&gt;</th><th scope=col>&lt;I&lt;chr&gt;&gt;</th></tr>\n",
       "</thead>\n",
       "<tbody>\n",
       "\t<tr><td>    avg_estimate</td><td>    5.7966</td><td>   5.00122</td><td>   5.00501</td><td>    5.0029</td><td>    5.0094</td></tr>\n",
       "\t<tr><td>    sd_estimates</td><td>    0.1307</td><td>   0.09613</td><td>   0.09861</td><td>    0.1158</td><td>    0.1066</td></tr>\n",
       "\t<tr><td>avg_estimated_se</td><td>    0.1344</td><td>   0.09532</td><td>        NA</td><td>    0.1212</td><td>    0.1081</td></tr>\n",
       "</tbody>\n",
       "</table>\n",
       "</dd>\n",
       "\t<dt>$CATE</dt>\n",
       "\t\t<dd><table>\n",
       "<caption>A data.frame: 2 × 4</caption>\n",
       "<thead>\n",
       "\t<tr><th scope=col>Description</th><th scope=col>OLS</th><th scope=col>k_NN</th><th scope=col>RF</th></tr>\n",
       "\t<tr><th scope=col>&lt;I&lt;chr&gt;&gt;</th><th scope=col>&lt;I&lt;chr&gt;&gt;</th><th scope=col>&lt;I&lt;chr&gt;&gt;</th><th scope=col>&lt;I&lt;chr&gt;&gt;</th></tr>\n",
       "</thead>\n",
       "<tbody>\n",
       "\t<tr><td>    avg_mse</td><td>   0.01703</td><td>   0.10237</td><td>    0.0733</td></tr>\n",
       "\t<tr><td>avg_mean_se</td><td>   0.08666</td><td>   0.09298</td><td>    0.2271</td></tr>\n",
       "</tbody>\n",
       "</table>\n",
       "</dd>\n",
       "</dl>\n"
      ],
      "text/latex": [
       "\\begin{description}\n",
       "\\item[\\$ATE] A data.frame: 3 × 6\n",
       "\\begin{tabular}{r|llllll}\n",
       " Description & Naive & OLS & PSW & k\\_NN & RF\\\\\n",
       " <I<chr>> & <I<chr>> & <I<chr>> & <I<chr>> & <I<chr>> & <I<chr>>\\\\\n",
       "\\hline\n",
       "\t     avg\\_estimate &     5.7966 &    5.00122 &    5.00501 &     5.0029 &     5.0094\\\\\n",
       "\t     sd\\_estimates &     0.1307 &    0.09613 &    0.09861 &     0.1158 &     0.1066\\\\\n",
       "\t avg\\_estimated\\_se &     0.1344 &    0.09532 &         NA &     0.1212 &     0.1081\\\\\n",
       "\\end{tabular}\n",
       "\n",
       "\\item[\\$CATE] A data.frame: 2 × 4\n",
       "\\begin{tabular}{r|llll}\n",
       " Description & OLS & k\\_NN & RF\\\\\n",
       " <I<chr>> & <I<chr>> & <I<chr>> & <I<chr>>\\\\\n",
       "\\hline\n",
       "\t     avg\\_mse &    0.01703 &    0.10237 &     0.0733\\\\\n",
       "\t avg\\_mean\\_se &    0.08666 &    0.09298 &     0.2271\\\\\n",
       "\\end{tabular}\n",
       "\n",
       "\\end{description}\n"
      ],
      "text/markdown": [
       "$ATE\n",
       ":   \n",
       "A data.frame: 3 × 6\n",
       "\n",
       "| Description &lt;I&lt;chr&gt;&gt; | Naive &lt;I&lt;chr&gt;&gt; | OLS &lt;I&lt;chr&gt;&gt; | PSW &lt;I&lt;chr&gt;&gt; | k_NN &lt;I&lt;chr&gt;&gt; | RF &lt;I&lt;chr&gt;&gt; |\n",
       "|---|---|---|---|---|---|\n",
       "|     avg_estimate |     5.7966 |    5.00122 |    5.00501 |     5.0029 |     5.0094 |\n",
       "|     sd_estimates |     0.1307 |    0.09613 |    0.09861 |     0.1158 |     0.1066 |\n",
       "| avg_estimated_se |     0.1344 |    0.09532 |         NA |     0.1212 |     0.1081 |\n",
       "\n",
       "\n",
       "$CATE\n",
       ":   \n",
       "A data.frame: 2 × 4\n",
       "\n",
       "| Description &lt;I&lt;chr&gt;&gt; | OLS &lt;I&lt;chr&gt;&gt; | k_NN &lt;I&lt;chr&gt;&gt; | RF &lt;I&lt;chr&gt;&gt; |\n",
       "|---|---|---|---|\n",
       "|     avg_mse |    0.01703 |    0.10237 |     0.0733 |\n",
       "| avg_mean_se |    0.08666 |    0.09298 |     0.2271 |\n",
       "\n",
       "\n",
       "\n",
       "\n"
      ],
      "text/plain": [
       "$ATE\n",
       "       Description      Naive        OLS        PSW       k_NN         RF\n",
       "1     avg_estimate     5.7966    5.00122    5.00501     5.0029     5.0094\n",
       "2     sd_estimates     0.1307    0.09613    0.09861     0.1158     0.1066\n",
       "3 avg_estimated_se     0.1344    0.09532         NA     0.1212     0.1081\n",
       "\n",
       "$CATE\n",
       "  Description        OLS       k_NN         RF\n",
       "1     avg_mse    0.01703    0.10237     0.0733\n",
       "2 avg_mean_se    0.08666    0.09298     0.2271\n"
      ]
     },
     "metadata": {},
     "output_type": "display_data"
    }
   ],
   "source": [
    "set.seed(12)\n",
    "create_output_table(n = 500, N = 500, B = 500, k = 1, kC = 50, num_trees = 100,\n",
    "                           het_linear = TRUE, random_assignment = FALSE,\n",
    "                           non_linearY = FALSE, non_linearD = FALSE,\n",
    "                           method_ols = \"full\",\n",
    "                           knn_se5 = TRUE, ols_se5 = TRUE, C_ols_se5 = TRUE,\n",
    "                           C_knn_se5 = TRUE, boot5 = FALSE,\n",
    "                           para = FALSE)"
   ]
  },
  {
   "cell_type": "markdown",
   "metadata": {},
   "source": [
    "## 2.5 Results: Unconfoundedness, Non-linearity, and non-linear Heterogeneity"
   ]
  },
  {
   "cell_type": "markdown",
   "metadata": {},
   "source": [
    "So far, it was almost unfair to let the other methods compete against OLS since we've been solely relying on linear functions for the potential outcomes, therefore equipping OLS with an inherent advantage. However, in this setting we will set `non_linearY = TRUE` and therefore remove this advantage. The DGP looks as follows.\n",
    "<br>\n",
    "<br>\n",
    "       \\begin{align*}\n",
    "       Y(0)&=1 + 3X +20\\cdot \\sin(\\pi X) +\\varepsilon_0 \\\\\n",
    "       Y(1)&=5 + 3X + 20\\cdot\\sin(5\\pi X)+\\varepsilon_1 ,\n",
    "       \\end{align*}\n",
    "       <br>\n",
    "       <br>\n",
    "yielding\n",
    "$$\\begin{align*}\n",
    "\\tau &= \\E(\\YI-\\YO)\\\\\n",
    "     &= 4+ 20\\cdot\\E\\left(\\sin(5\\pi X) - \\sin(\\pi X)\\right)\\\\\n",
    "     &\\approx -6.185916\n",
    "\\end{align*}$$\n",
    "<br>\n",
    "and\n",
    "<br>\n",
    "$$\\begin{align*}\n",
    "\\tau(x) &= \\E(\\YI-\\YO\\vert X=x)\\\\\n",
    "&= 4+ 20\\cdot \\E\\left(\\sin(5\\pi X) - \\sin(\\pi X)\\vert X=x \\right)\\\\\n",
    "&= 4+20\\cdot\\left(\\sin(5\\pi X) - \\sin(\\pi X)\\right),\n",
    "\\end{align*}$$\n",
    "which is a highly non-linear a function of $x$.\n",
    "<br>\n",
    "As in the previous setting, the ATE is rendered uninformative. Although many units have negative treatment effects, we find positive treatment effects close to the boundaries of the support of $X$\n",
    "\n"
   ]
  },
  {
   "cell_type": "code",
   "execution_count": 22,
   "metadata": {},
   "outputs": [
    {
     "data": {
      "image/png": "[encoded data removed]",
      "text/plain": [
       "plot without title"
      ]
     },
     "metadata": {},
     "output_type": "display_data"
    }
   ],
   "source": [
    "options(repr.plot.width=8, repr.plot.height=4)\n",
    "set.seed(12)\n",
    "plot_data(n=500, num_trees=100, kC=20,\n",
    "                      het_linear = FALSE, random_assignment = FALSE,\n",
    "                      non_linearY = TRUE, non_linearD = FALSE)"
   ]
  },
  {
   "cell_type": "markdown",
   "metadata": {},
   "source": [
    "As opposed to all the previous plots, I have chosen a smaller number of nearest neighbors used for CATE estimation ($kC = 20$) in order to enable the method to capture the behavior of the function adequately. <br>\n",
    "Increasing the number of observations allows RF and KNN to adapt even more accurately whereas OLS will stay where it is."
   ]
  },
  {
   "cell_type": "markdown",
   "metadata": {},
   "source": [
    "Clearly, OLS will have a hard time here competing against distribution-free methods such as kNN and RF. <br>\n",
    "<br>\n",
    "Researchers would probably plot the realizations of the potential outcomes beforehand and conclude that simple non-parametric tools such as local linear regression are appropriate here. However, there are three major shortcomings to this approach:\n",
    "* It will not possible to obtain estimated coefficients that could be interpreted afterwards\n",
    "* Even with a low-dimensional feature space (here $X$ is one-dimensional!), it takes a lot of time, rendering it infeasible for the simulation study\n",
    "* Standard implementations break down for reasonably high-dimensional feature spaces ($\\text{dim}(X) \\geqslant 5$) \n",
    "<br>\n",
    "<br>\n",
    "Let's have a look at the results."
   ]
  },
  {
   "cell_type": "code",
   "execution_count": 25,
   "metadata": {},
   "outputs": [
    {
     "name": "stdout",
     "output_type": "stream",
     "text": [
      "  |======================================================================| 100%\n",
      "  |======================================================================| 100%\n",
      "  |======================================================================| 100%\n"
     ]
    },
    {
     "data": {
      "text/html": [
       "<dl>\n",
       "\t<dt>$ATE</dt>\n",
       "\t\t<dd><table>\n",
       "<caption>A data.frame: 3 × 6</caption>\n",
       "<thead>\n",
       "\t<tr><th scope=col>Description</th><th scope=col>Naive</th><th scope=col>OLS</th><th scope=col>PSW</th><th scope=col>k_NN</th><th scope=col>RF</th></tr>\n",
       "\t<tr><th scope=col>&lt;I&lt;chr&gt;&gt;</th><th scope=col>&lt;I&lt;chr&gt;&gt;</th><th scope=col>&lt;I&lt;chr&gt;&gt;</th><th scope=col>&lt;I&lt;chr&gt;&gt;</th><th scope=col>&lt;I&lt;chr&gt;&gt;</th><th scope=col>&lt;I&lt;chr&gt;&gt;</th></tr>\n",
       "</thead>\n",
       "<tbody>\n",
       "\t<tr><td>    avg_estimate</td><td>   -5.5757</td><td>   -7.6078</td><td>   -6.2432</td><td>   -6.1820</td><td>   -6.2015</td></tr>\n",
       "\t<tr><td>    sd_estimates</td><td>    0.6901</td><td>    0.7702</td><td>    0.7265</td><td>    0.5401</td><td>    0.5420</td></tr>\n",
       "\t<tr><td>avg_estimated_se</td><td>    0.6956</td><td>    0.7174</td><td>        NA</td><td>    0.9780</td><td>    0.1053</td></tr>\n",
       "</tbody>\n",
       "</table>\n",
       "</dd>\n",
       "\t<dt>$CATE</dt>\n",
       "\t\t<dd><table>\n",
       "<caption>A data.frame: 2 × 4</caption>\n",
       "<thead>\n",
       "\t<tr><th scope=col>Description</th><th scope=col>OLS</th><th scope=col>k_NN</th><th scope=col>RF</th></tr>\n",
       "\t<tr><th scope=col>&lt;I&lt;chr&gt;&gt;</th><th scope=col>&lt;I&lt;chr&gt;&gt;</th><th scope=col>&lt;I&lt;chr&gt;&gt;</th><th scope=col>&lt;I&lt;chr&gt;&gt;</th></tr>\n",
       "</thead>\n",
       "<tbody>\n",
       "\t<tr><td>    avg_mse</td><td>  298.2313</td><td>    2.9350</td><td>    27.007</td></tr>\n",
       "\t<tr><td>avg_mean_se</td><td>    0.6526</td><td>    0.8185</td><td>     2.335</td></tr>\n",
       "</tbody>\n",
       "</table>\n",
       "</dd>\n",
       "</dl>\n"
      ],
      "text/latex": [
       "\\begin{description}\n",
       "\\item[\\$ATE] A data.frame: 3 × 6\n",
       "\\begin{tabular}{r|llllll}\n",
       " Description & Naive & OLS & PSW & k\\_NN & RF\\\\\n",
       " <I<chr>> & <I<chr>> & <I<chr>> & <I<chr>> & <I<chr>> & <I<chr>>\\\\\n",
       "\\hline\n",
       "\t     avg\\_estimate &    -5.5757 &    -7.6078 &    -6.2432 &    -6.1820 &    -6.2015\\\\\n",
       "\t     sd\\_estimates &     0.6901 &     0.7702 &     0.7265 &     0.5401 &     0.5420\\\\\n",
       "\t avg\\_estimated\\_se &     0.6956 &     0.7174 &         NA &     0.9780 &     0.1053\\\\\n",
       "\\end{tabular}\n",
       "\n",
       "\\item[\\$CATE] A data.frame: 2 × 4\n",
       "\\begin{tabular}{r|llll}\n",
       " Description & OLS & k\\_NN & RF\\\\\n",
       " <I<chr>> & <I<chr>> & <I<chr>> & <I<chr>>\\\\\n",
       "\\hline\n",
       "\t     avg\\_mse &   298.2313 &     2.9350 &     27.007\\\\\n",
       "\t avg\\_mean\\_se &     0.6526 &     0.8185 &      2.335\\\\\n",
       "\\end{tabular}\n",
       "\n",
       "\\end{description}\n"
      ],
      "text/markdown": [
       "$ATE\n",
       ":   \n",
       "A data.frame: 3 × 6\n",
       "\n",
       "| Description &lt;I&lt;chr&gt;&gt; | Naive &lt;I&lt;chr&gt;&gt; | OLS &lt;I&lt;chr&gt;&gt; | PSW &lt;I&lt;chr&gt;&gt; | k_NN &lt;I&lt;chr&gt;&gt; | RF &lt;I&lt;chr&gt;&gt; |\n",
       "|---|---|---|---|---|---|\n",
       "|     avg_estimate |    -5.5757 |    -7.6078 |    -6.2432 |    -6.1820 |    -6.2015 |\n",
       "|     sd_estimates |     0.6901 |     0.7702 |     0.7265 |     0.5401 |     0.5420 |\n",
       "| avg_estimated_se |     0.6956 |     0.7174 |         NA |     0.9780 |     0.1053 |\n",
       "\n",
       "\n",
       "$CATE\n",
       ":   \n",
       "A data.frame: 2 × 4\n",
       "\n",
       "| Description &lt;I&lt;chr&gt;&gt; | OLS &lt;I&lt;chr&gt;&gt; | k_NN &lt;I&lt;chr&gt;&gt; | RF &lt;I&lt;chr&gt;&gt; |\n",
       "|---|---|---|---|\n",
       "|     avg_mse |   298.2313 |     2.9350 |     27.007 |\n",
       "| avg_mean_se |     0.6526 |     0.8185 |      2.335 |\n",
       "\n",
       "\n",
       "\n",
       "\n"
      ],
      "text/plain": [
       "$ATE\n",
       "       Description      Naive        OLS        PSW       k_NN         RF\n",
       "1     avg_estimate    -5.5757    -7.6078    -6.2432    -6.1820    -6.2015\n",
       "2     sd_estimates     0.6901     0.7702     0.7265     0.5401     0.5420\n",
       "3 avg_estimated_se     0.6956     0.7174         NA     0.9780     0.1053\n",
       "\n",
       "$CATE\n",
       "  Description        OLS       k_NN         RF\n",
       "1     avg_mse   298.2313     2.9350     27.007\n",
       "2 avg_mean_se     0.6526     0.8185      2.335\n"
      ]
     },
     "metadata": {},
     "output_type": "display_data"
    }
   ],
   "source": [
    "set.seed(12)\n",
    "create_output_table(n = 1000, N = 500, B = 500, k = 1, kC = 20, num_trees = 100,\n",
    "                           het_linear = FALSE, random_assignment = FALSE,\n",
    "                           non_linearY = TRUE, non_linearD = FALSE,\n",
    "                           method_ols = \"full\",\n",
    "                           knn_se5 = TRUE, ols_se5 = TRUE, C_ols_se5 = TRUE,\n",
    "                           C_knn_se5 = TRUE, boot5 = FALSE,\n",
    "                           para = FALSE)"
   ]
  },
  {
   "cell_type": "markdown",
   "metadata": {},
   "source": [
    "**ATE**<br>\n",
    "* OLS doesn't even succeed in estimating the ATE. This stems from the combination of non-linear potential outcomes and non-random assignment. If we had random_assignment, OLS should produce consistent estimates of the ATE again (see Imbens/Rubin for a discussion of this).\n",
    "* The non-parametric methods PSW, k_NN, and RF work (will become clearer if you increase $n$ to, say, $1000$). \n"
   ]
  },
  {
   "cell_type": "markdown",
   "metadata": {},
   "source": [
    "**CATE**\n",
    "<br>\n",
    "As expected, OLS doesn't stand a chance, while kNN and RF perform comparably well. Notably, kNN clearly outperforms RF, a conclusion that may not hold for higher $n$."
   ]
  },
  {
   "cell_type": "markdown",
   "metadata": {},
   "source": [
    "## 2.6 Conclusion \n",
    "The most important advantage of a simulation with one-dimensional $X$ is the possibility of developing some intuition about the issues graphically. The main takeaway of the previous subsections can be summarised as follows.\n",
    "* Even if we have methods that are able to produce consistent estimates of the ATE, we might simply not want to do that if the ATE delivers only little information about the underlying structure of the problem. We have seen that this is especially pronounced if there is a lot of heterogeneity in treatment effects, i.e. if the mean of the treatment effects is not a good summary statistic for the distribution of the treatment effects (see also the relationship in (\\ref{eq:cateate})).\n",
    "* While OLS is the easiest way to capture possible heterogeneous treatment effects, its performance can be inacceptable if heterogeneity comes in a non-linear way.\n",
    "* kNN and RF often perform similarly good, but especially the latter might require a higher number of observations to capture smooth surfaces well. "
   ]
  },
  {
   "cell_type": "markdown",
   "metadata": {},
   "source": [
    "# 3 Simulation: $d$-dimensional $X$"
   ]
  },
  {
   "cell_type": "markdown",
   "metadata": {},
   "source": [
    "RF haven been designed for different settings than the ones analyzed in the previous chapter. "
   ]
  },
  {
   "cell_type": "markdown",
   "metadata": {},
   "source": [
    "## 3.1 DGP"
   ]
  },
  {
   "cell_type": "markdown",
   "metadata": {},
   "source": [
    "We'll largely follows Athey/Wager and essentially replicate their findings here. \n",
    "<br>\n",
    "The DGP is as follows <br>\n",
    "<br>\n",
    "Throughout we use the setting of randomized experiment, i.e.\n",
    "<br>\n",
    "$$\\zeta(\\textbf{x})=\\frac{1}{2} \\enspace \\forall \\textbf{x}$$\n",
    "<br>\n",
    "Each of the features follows a uniform distribution on the unit interval, independent of everything else\n"
   ]
  },
  {
   "cell_type": "markdown",
   "metadata": {},
   "source": [
    "$$ (X_1,\\ldots, X_d) \\sim U[0,1]^{d}, \\quad d\\geqslant 2$$"
   ]
  },
  {
   "cell_type": "markdown",
   "metadata": {},
   "source": [
    "The true CATE function, $\\tau(\\X)$, is only supported on the first two features, $X_1$ and $X_2$. All the other features are **_completely unrelated_** to the outcome. This setup mimicks a situation in which a researcher faces a dataset with very many covariates some of which are potentially irrelevant for the analysis to be undertaken.   "
   ]
  },
  {
   "cell_type": "markdown",
   "metadata": {},
   "source": [
    "$$\\begin{equation*}\n",
    " \\psi: \\mathbb{R} \\longrightarrow \\mathbb{R},\\quad x \\mapsto 1 + \\frac{1}{1+\\exp{\\left(-\\lambda(x-\\frac{1}{3})\\right)}}, \\quad \\lambda >0\n",
    "\\end{equation*}$$\n",
    "<br>\n",
    "$$\\begin{equation*}\n",
    "\\tau(\\X) = \\tau(X_1,\\ldots,X_d)= \\psi(X_1)\\cdot\\psi(X_2)\n",
    "\\end{equation*}$$\n",
    "<br>\n"
   ]
  },
  {
   "cell_type": "markdown",
   "metadata": {},
   "source": [
    "$\\lambda$ governs the smoothness of the function. For all the results below I implicitly assume $\\lambda = 20$. "
   ]
  },
  {
   "cell_type": "markdown",
   "metadata": {},
   "source": [
    "We generate potential outcomes such that their difference equals the true CATE function plus noise."
   ]
  },
  {
   "cell_type": "markdown",
   "metadata": {},
   "source": [
    "$$\\begin{align*}\n",
    "Y(0) &= -\\frac{1}{2}\\cdot \\tau(\\X) +\\varepsilon_0\\\\ \n",
    "Y(1) &= \\frac{1}{2}\\cdot \\tau(\\X) + \\varepsilon_1\n",
    "\\end{align*}$$\n",
    "<br>\n",
    "leading to\n",
    "$$\\begin{align*}\n",
    "\\tau = \\E(Y(1)-Y(0)) &= \\E(\\tau(\\X))\\\\\n",
    "& = \\int_{-\\infty}^{\\infty} \\cdots \\int_{-\\infty}^{\\infty} \\tau(x_1,\\ldots,x_n) f_{(X_1,\\ldots, X_d)}(x_1,\\ldots,x_d)\\diff x_1 \\cdots \\diff x_d\\\\\n",
    "&\\approx 2.778\n",
    "\\end{align*}$$\n",
    "and \n",
    "<br>\n",
    "$$\\begin{align*}\n",
    "\\tau(x) &= \\E(Y(1)-Y(0)\\vert \\X=\\textbf{x})\\\\\n",
    "&= \\psi(x_1)\\cdot\\psi(x_2)\n",
    "\\end{align*}$$"
   ]
  },
  {
   "cell_type": "markdown",
   "metadata": {},
   "source": [
    "Again, the ATE is a single number whose informativness crucially depends on the degree of heterogeneity which it ought to summarize. Let's have a look at the true CATE function."
   ]
  },
  {
   "cell_type": "code",
   "execution_count": 8,
   "metadata": {},
   "outputs": [
    {
     "data": {
      "image/png": "[encoded data removed]",
      "text/plain": [
       "plot without title"
      ]
     },
     "metadata": {},
     "output_type": "display_data"
    }
   ],
   "source": [
    "options(repr.plot.width=5, repr.plot.height=5)\n",
    "plot_AW(lambda = 20)"
   ]
  },
  {
   "cell_type": "markdown",
   "metadata": {},
   "source": [
    "We see that $\\tau(X_1 ,X_2) \\in [1,4]$. Units that have $(x_1, x_2) \\approx (0,0)$ have a treatment effect of $1$ (ignoring the deviations that originate from the error terms) while units with $(x_1, x_2) \\approx (1,1)$ benefit from the spike of the function in that region and have a treatment effect of $4$. If either $(x_1, x_2) \\approx (0,1)$ or $(x_1, x_2) \\approx (1,0)$, the treatment effect is equal to $2$.\n",
    "<br>\n",
    "We thus conclude that, once again, the ATE only provides very limited information about unit-level treatment effects."
   ]
  },
  {
   "cell_type": "markdown",
   "metadata": {},
   "source": [
    "Furthermore, the function's behavior is similar to that of a step function. Since RF essentially estimate the best-fitting step function, we expect them to perform quite well. Note, however, that the function is still continuous. Decreasing $\\lambda$ towards $0$ yields an almost linear function while a high $\\lambda$ reduces the smoothness of the function."
   ]
  },
  {
   "cell_type": "markdown",
   "metadata": {},
   "source": [
    "## 3.2 R Function"
   ]
  },
  {
   "cell_type": "markdown",
   "metadata": {},
   "source": [
    "The following input parameters can be changed\n",
    "* `N` is the number of datasets drawn\n",
    "* `n` is the number of observations in each of the $N$ datasets\n",
    "* `d` is the dimension of the feature vector $\\X = (X_1,\\ldots,X_d)$. Since $X_1$ and $X_2$ are necessary for this setup, $d\\geqslant 2$\n",
    "* `kC` number of nearest neighbors used for CATE (cardinality of $\\mathcal{J}_{K, d}(i)$)\n",
    "* `num_trees` number of trees used in the random forest\n",
    "<br>\n"
   ]
  },
  {
   "cell_type": "markdown",
   "metadata": {},
   "source": [
    "In contrast to chapter 2, I recommend using high $n$, low $N$ specifications here. If $n$ is large enough, there is not much estimation uncertainty left, thus requiring smaller $N$. As soon as your patience permits it, however, I recommend using higher $N$.<br>\n",
    "<br>\n",
    "In addition, `num_trees` should be chosen according to $d$, because higher dimensions usually require more splits."
   ]
  },
  {
   "cell_type": "markdown",
   "metadata": {},
   "source": [
    "## 3.3 Results: Varying $\\lambda$"
   ]
  },
  {
   "cell_type": "code",
   "execution_count": 16,
   "metadata": {},
   "outputs": [
    {
     "name": "stdout",
     "output_type": "stream",
     "text": [
      "  |======================================================================| 100%\n",
      "  |======================================================================| 100%\n",
      "  |======================================================================| 100%\n"
     ]
    },
    {
     "data": {
      "text/html": [
       "<table>\n",
       "<caption>A data.frame: 1 × 4</caption>\n",
       "<thead>\n",
       "\t<tr><th scope=col>Description</th><th scope=col>OLS</th><th scope=col>k_NN</th><th scope=col>RF</th></tr>\n",
       "\t<tr><th scope=col>&lt;I&lt;chr&gt;&gt;</th><th scope=col>&lt;I&lt;chr&gt;&gt;</th><th scope=col>&lt;I&lt;chr&gt;&gt;</th><th scope=col>&lt;I&lt;chr&gt;&gt;</th></tr>\n",
       "</thead>\n",
       "<tbody>\n",
       "\t<tr><td>   avg_mse</td><td>     0.241</td><td>     0.263</td><td>    0.0689</td></tr>\n",
       "</tbody>\n",
       "</table>\n"
      ],
      "text/latex": [
       "A data.frame: 1 × 4\n",
       "\\begin{tabular}{r|llll}\n",
       " Description & OLS & k\\_NN & RF\\\\\n",
       " <I<chr>> & <I<chr>> & <I<chr>> & <I<chr>>\\\\\n",
       "\\hline\n",
       "\t    avg\\_mse &      0.241 &      0.263 &     0.0689\\\\\n",
       "\\end{tabular}\n"
      ],
      "text/markdown": [
       "\n",
       "A data.frame: 1 × 4\n",
       "\n",
       "| Description &lt;I&lt;chr&gt;&gt; | OLS &lt;I&lt;chr&gt;&gt; | k_NN &lt;I&lt;chr&gt;&gt; | RF &lt;I&lt;chr&gt;&gt; |\n",
       "|---|---|---|---|\n",
       "|    avg_mse |      0.241 |      0.263 |     0.0689 |\n",
       "\n"
      ],
      "text/plain": [
       "  Description OLS        k_NN       RF        \n",
       "1    avg_mse       0.241      0.263     0.0689"
      ]
     },
     "metadata": {},
     "output_type": "display_data"
    }
   ],
   "source": [
    "set.seed(12)\n",
    "create_output_table_JASA(n = 2500, N = 10, d = 8, num_trees = 1000, kC = 20, lambda=20, C_knn_se5 = FALSE)"
   ]
  },
  {
   "cell_type": "markdown",
   "metadata": {},
   "source": [
    "Here, RF are outperforming the other methods by far, even though the degree of smoothness of the function is quite high.\n",
    "<br>\n",
    "Surprisingly, OLS works quite well. This is because fitting a plane isn't the worst idea for the true CATE function. It's obviously possible to create functions that are more hostile toward OLS. A possibility in the present setting would be to increase the heterogeneity in the treatment effects.\n",
    "<br>\n",
    "<br>\n",
    "We expect the performance gap to widen if we decrease the degree of smoothness. Conversely, we expect OLS to outperform RF if we set $\\lambda$ close to $0$"
   ]
  },
  {
   "cell_type": "code",
   "execution_count": 38,
   "metadata": {},
   "outputs": [
    {
     "name": "stdout",
     "output_type": "stream",
     "text": [
      "  |======================================================================| 100%\n",
      "  |======================================================================| 100%\n",
      "  |======================================================================| 100%\n"
     ]
    },
    {
     "data": {
      "text/html": [
       "<table>\n",
       "<caption>A data.frame: 2 × 4</caption>\n",
       "<thead>\n",
       "\t<tr><th scope=col>Description</th><th scope=col>OLS</th><th scope=col>k_NN</th><th scope=col>RF</th></tr>\n",
       "\t<tr><th scope=col>&lt;I&lt;chr&gt;&gt;</th><th scope=col>&lt;I&lt;chr&gt;&gt;</th><th scope=col>&lt;I&lt;chr&gt;&gt;</th><th scope=col>&lt;I&lt;chr&gt;&gt;</th></tr>\n",
       "</thead>\n",
       "<tbody>\n",
       "\t<tr><td>         avg_mse</td><td>     0.449</td><td>     0.433</td><td>    0.0719</td></tr>\n",
       "\t<tr><td>avg_estimated_se</td><td>        NA</td><td>     0.130</td><td>    0.1733</td></tr>\n",
       "</tbody>\n",
       "</table>\n"
      ],
      "text/latex": [
       "A data.frame: 2 × 4\n",
       "\\begin{tabular}{r|llll}\n",
       " Description & OLS & k\\_NN & RF\\\\\n",
       " <I<chr>> & <I<chr>> & <I<chr>> & <I<chr>>\\\\\n",
       "\\hline\n",
       "\t          avg\\_mse &      0.449 &      0.433 &     0.0719\\\\\n",
       "\t avg\\_estimated\\_se &         NA &      0.130 &     0.1733\\\\\n",
       "\\end{tabular}\n"
      ],
      "text/markdown": [
       "\n",
       "A data.frame: 2 × 4\n",
       "\n",
       "| Description &lt;I&lt;chr&gt;&gt; | OLS &lt;I&lt;chr&gt;&gt; | k_NN &lt;I&lt;chr&gt;&gt; | RF &lt;I&lt;chr&gt;&gt; |\n",
       "|---|---|---|---|\n",
       "|          avg_mse |      0.449 |      0.433 |     0.0719 |\n",
       "| avg_estimated_se |         NA |      0.130 |     0.1733 |\n",
       "\n"
      ],
      "text/plain": [
       "  Description      OLS        k_NN       RF        \n",
       "1          avg_mse      0.449      0.433     0.0719\n",
       "2 avg_estimated_se         NA      0.130     0.1733"
      ]
     },
     "metadata": {},
     "output_type": "display_data"
    }
   ],
   "source": [
    "set.seed(12)\n",
    "create_output_table_JASA(n = 2500, N = 10, d = 8, num_trees = 1000, kC = 20, lambda=200, C_knn_se5 = TRUE)"
   ]
  },
  {
   "cell_type": "code",
   "execution_count": 40,
   "metadata": {},
   "outputs": [
    {
     "name": "stdout",
     "output_type": "stream",
     "text": [
      "  |======================================================================| 100%\n",
      "  |======================================================================| 100%\n",
      "  |======================================================================| 100%\n"
     ]
    },
    {
     "data": {
      "text/html": [
       "<table>\n",
       "<caption>A data.frame: 2 × 4</caption>\n",
       "<thead>\n",
       "\t<tr><th scope=col>Description</th><th scope=col>OLS</th><th scope=col>k_NN</th><th scope=col>RF</th></tr>\n",
       "\t<tr><th scope=col>&lt;I&lt;chr&gt;&gt;</th><th scope=col>&lt;I&lt;chr&gt;&gt;</th><th scope=col>&lt;I&lt;chr&gt;&gt;</th><th scope=col>&lt;I&lt;chr&gt;&gt;</th></tr>\n",
       "</thead>\n",
       "<tbody>\n",
       "\t<tr><td>         avg_mse</td><td>     0.018</td><td>     0.112</td><td>    0.0411</td></tr>\n",
       "\t<tr><td>avg_estimated_se</td><td>        NA</td><td>     0.116</td><td>    0.1327</td></tr>\n",
       "</tbody>\n",
       "</table>\n"
      ],
      "text/latex": [
       "A data.frame: 2 × 4\n",
       "\\begin{tabular}{r|llll}\n",
       " Description & OLS & k\\_NN & RF\\\\\n",
       " <I<chr>> & <I<chr>> & <I<chr>> & <I<chr>>\\\\\n",
       "\\hline\n",
       "\t          avg\\_mse &      0.018 &      0.112 &     0.0411\\\\\n",
       "\t avg\\_estimated\\_se &         NA &      0.116 &     0.1327\\\\\n",
       "\\end{tabular}\n"
      ],
      "text/markdown": [
       "\n",
       "A data.frame: 2 × 4\n",
       "\n",
       "| Description &lt;I&lt;chr&gt;&gt; | OLS &lt;I&lt;chr&gt;&gt; | k_NN &lt;I&lt;chr&gt;&gt; | RF &lt;I&lt;chr&gt;&gt; |\n",
       "|---|---|---|---|\n",
       "|          avg_mse |      0.018 |      0.112 |     0.0411 |\n",
       "| avg_estimated_se |         NA |      0.116 |     0.1327 |\n",
       "\n"
      ],
      "text/plain": [
       "  Description      OLS        k_NN       RF        \n",
       "1          avg_mse      0.018      0.112     0.0411\n",
       "2 avg_estimated_se         NA      0.116     0.1327"
      ]
     },
     "metadata": {},
     "output_type": "display_data"
    }
   ],
   "source": [
    "set.seed(12)\n",
    "create_output_table_JASA(n = 2500, N = 10, d = 8, num_trees = 1000, kC = 20, lambda=2, C_knn_se5 = TRUE)"
   ]
  },
  {
   "cell_type": "markdown",
   "metadata": {},
   "source": [
    "While RF improve over OLS by a factor of $7$ in the $\\lambda  = 200$ setting, OLS improves over RF merely by a factor of $4$ under smoothness ($\\lambda = 2$). "
   ]
  },
  {
   "cell_type": "markdown",
   "metadata": {},
   "source": [
    "## 3.4 Results: Varying $d$ and $n$"
   ]
  },
  {
   "cell_type": "markdown",
   "metadata": {},
   "source": [
    "If $d$ gets large relative to $n$, then OLS is well known to struggle. Additionally, in a more realistic setting, elements of the feature vector $\\X$ would most likely exhibit pairwise correlations. This would further deteriorate OLS's performance. "
   ]
  },
  {
   "cell_type": "code",
   "execution_count": 39,
   "metadata": {},
   "outputs": [
    {
     "name": "stdout",
     "output_type": "stream",
     "text": [
      "  |======================================================================| 100%\n",
      "  |======================================================================| 100%\n",
      "  |======================================================================| 100%\n"
     ]
    },
    {
     "data": {
      "text/html": [
       "<table>\n",
       "<caption>A data.frame: 2 × 4</caption>\n",
       "<thead>\n",
       "\t<tr><th scope=col>Description</th><th scope=col>OLS</th><th scope=col>k_NN</th><th scope=col>RF</th></tr>\n",
       "\t<tr><th scope=col>&lt;I&lt;chr&gt;&gt;</th><th scope=col>&lt;I&lt;chr&gt;&gt;</th><th scope=col>&lt;I&lt;chr&gt;&gt;</th><th scope=col>&lt;I&lt;chr&gt;&gt;</th></tr>\n",
       "</thead>\n",
       "<tbody>\n",
       "\t<tr><td>         avg_mse</td><td>      6.64</td><td>     0.865</td><td>     0.952</td></tr>\n",
       "\t<tr><td>avg_estimated_se</td><td>        NA</td><td>        NA</td><td>     0.208</td></tr>\n",
       "</tbody>\n",
       "</table>\n"
      ],
      "text/latex": [
       "A data.frame: 2 × 4\n",
       "\\begin{tabular}{r|llll}\n",
       " Description & OLS & k\\_NN & RF\\\\\n",
       " <I<chr>> & <I<chr>> & <I<chr>> & <I<chr>>\\\\\n",
       "\\hline\n",
       "\t          avg\\_mse &       6.64 &      0.865 &      0.952\\\\\n",
       "\t avg\\_estimated\\_se &         NA &         NA &      0.208\\\\\n",
       "\\end{tabular}\n"
      ],
      "text/markdown": [
       "\n",
       "A data.frame: 2 × 4\n",
       "\n",
       "| Description &lt;I&lt;chr&gt;&gt; | OLS &lt;I&lt;chr&gt;&gt; | k_NN &lt;I&lt;chr&gt;&gt; | RF &lt;I&lt;chr&gt;&gt; |\n",
       "|---|---|---|---|\n",
       "|          avg_mse |       6.64 |      0.865 |      0.952 |\n",
       "| avg_estimated_se |         NA |         NA |      0.208 |\n",
       "\n"
      ],
      "text/plain": [
       "  Description      OLS        k_NN       RF        \n",
       "1          avg_mse       6.64      0.865      0.952\n",
       "2 avg_estimated_se         NA         NA      0.208"
      ]
     },
     "metadata": {},
     "output_type": "display_data"
    }
   ],
   "source": [
    "set.seed(12)\n",
    "create_output_table_JASA(n = 250, N = 100, d = 100, num_trees = 1000, kC = 20, lambda=20, C_knn_se5 = TRUE)"
   ]
  },
  {
   "cell_type": "markdown",
   "metadata": {},
   "source": [
    "Further increasing $d$ will let OLS collapse whereas the other two methods continue to work quite well."
   ]
  },
  {
   "cell_type": "markdown",
   "metadata": {},
   "source": [
    "RF are known to perform especially well in cases with very many observations. Here we consider a case "
   ]
  },
  {
   "cell_type": "code",
   "execution_count": 44,
   "metadata": {},
   "outputs": [
    {
     "name": "stdout",
     "output_type": "stream",
     "text": [
      "  |======================================================================| 100%\n",
      "  |======================================================================| 100%\n",
      "  |======================================================================| 100%\n"
     ]
    },
    {
     "data": {
      "text/html": [
       "<table>\n",
       "<caption>A data.frame: 2 × 4</caption>\n",
       "<thead>\n",
       "\t<tr><th scope=col>Description</th><th scope=col>OLS</th><th scope=col>k_NN</th><th scope=col>RF</th></tr>\n",
       "\t<tr><th scope=col>&lt;I&lt;chr&gt;&gt;</th><th scope=col>&lt;I&lt;chr&gt;&gt;</th><th scope=col>&lt;I&lt;chr&gt;&gt;</th><th scope=col>&lt;I&lt;chr&gt;&gt;</th></tr>\n",
       "</thead>\n",
       "<tbody>\n",
       "\t<tr><td>         avg_mse</td><td>   0.00585</td><td>     0.100</td><td>    0.0303</td></tr>\n",
       "\t<tr><td>avg_estimated_se</td><td>        NA</td><td>     0.116</td><td>    0.1682</td></tr>\n",
       "</tbody>\n",
       "</table>\n"
      ],
      "text/latex": [
       "A data.frame: 2 × 4\n",
       "\\begin{tabular}{r|llll}\n",
       " Description & OLS & k\\_NN & RF\\\\\n",
       " <I<chr>> & <I<chr>> & <I<chr>> & <I<chr>>\\\\\n",
       "\\hline\n",
       "\t          avg\\_mse &    0.00585 &      0.100 &     0.0303\\\\\n",
       "\t avg\\_estimated\\_se &         NA &      0.116 &     0.1682\\\\\n",
       "\\end{tabular}\n"
      ],
      "text/markdown": [
       "\n",
       "A data.frame: 2 × 4\n",
       "\n",
       "| Description &lt;I&lt;chr&gt;&gt; | OLS &lt;I&lt;chr&gt;&gt; | k_NN &lt;I&lt;chr&gt;&gt; | RF &lt;I&lt;chr&gt;&gt; |\n",
       "|---|---|---|---|\n",
       "|          avg_mse |    0.00585 |      0.100 |     0.0303 |\n",
       "| avg_estimated_se |         NA |      0.116 |     0.1682 |\n",
       "\n"
      ],
      "text/plain": [
       "  Description      OLS        k_NN       RF        \n",
       "1          avg_mse    0.00585      0.100     0.0303\n",
       "2 avg_estimated_se         NA      0.116     0.1682"
      ]
     },
     "metadata": {},
     "output_type": "display_data"
    }
   ],
   "source": [
    "set.seed(12)\n",
    "create_output_table_JASA(n = 2500, N = 10, d = 2, num_trees = 1000, kC = 20, lambda=2, C_knn_se5 = TRUE)"
   ]
  },
  {
   "cell_type": "code",
   "execution_count": null,
   "metadata": {},
   "outputs": [],
   "source": []
  }
 ],
 "metadata": {
  "kernelspec": {
   "display_name": "R",
   "language": "R",
   "name": "ir"
  },
  "language_info": {
   "codemirror_mode": "r",
   "file_extension": ".r",
   "mimetype": "text/x-r-source",
   "name": "R",
   "pygments_lexer": "r",
   "version": "3.4.2"
  }
 },
 "nbformat": 4,
 "nbformat_minor": 2
}
