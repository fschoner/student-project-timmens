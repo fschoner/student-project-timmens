{
 "cells": [
  {
   "cell_type": "code",
   "execution_count": 1,
   "metadata": {},
   "outputs": [],
   "source": [
    "import numpy as np\n",
    "import pandas as pd\n",
    "\n",
    "from collections import OrderedDict\n",
    "\n",
    "from sklearn.model_selection import train_test_split\n",
    "\n",
    "import rpy2.rinterface\n",
    "import rpy2.robjects as ro\n",
    "from rpy2.robjects import pandas2ri\n",
    "from rpy2.robjects.conversion import localconverter\n",
    "pandas2ri.activate()\n",
    "\n",
    "%load_ext rpy2.ipython"
   ]
  },
  {
   "cell_type": "code",
   "execution_count": 2,
   "metadata": {},
   "outputs": [],
   "source": [
    "%%R \n",
    "# read in necessary packages\n",
    "pack <- c(\"tidyverse\",\"plyr\", \"dplyr\", \"FNN\", \"modelr\", \"rpart\", \"doParallel\", \"grf\")\n",
    "#invisible(suppressMessages(suppressWarnings(lapply(pack, install.packages, character.only = TRUE))))\n",
    "invisible(suppressMessages(suppressWarnings(lapply(pack, require, character.only = TRUE))))\n",
    "\n",
    "# load relevant functions\n",
    "source(\"../Simulation_Study/helper_functions/rf_cate_JASA.R\")\n",
    "source(\"../Simulation_Study/helper_functions/simAW.R\")"
   ]
  },
  {
   "cell_type": "code",
   "execution_count": 85,
   "metadata": {},
   "outputs": [],
   "source": [
    "%%R\n",
    "# set parameter values\n",
    "n  <- 2000 # number of observations\n",
    "K  <- 2 # number of covariates \n",
    "kC <- 20 # number of nearest neighbors (for knn) \n",
    "\n",
    "# simulate data \n",
    "r_df <- simAW(n, kC, K)\n",
    "\n",
    "train_ind  <- sample(seq_len(n), size = floor(.7 * n))\n",
    "r_df_train <- r_df[train_ind, ]\n",
    "r_df_test  <- r_df[-train_ind, ]\n",
    "\n",
    "# compute cate using grf\n",
    "allX <- grep(\"^[X]\", names(r_df_train), value = TRUE)\n",
    "cf <- grf::causal_forest(X = as.matrix(r_df_train[, allX]), \n",
    "                         Y = as.matrix(r_df_train$Y_obs),\n",
    "                         W = as.matrix(r_df_train$D),\n",
    "                         num.trees = 100,\n",
    "                         num.threads = 1,\n",
    "                         honesty = FALSE)\n",
    "        \n",
    "cf_pred <- predict(cf, as.matrix(r_df_test[, allX]))\n",
    "cf_mse <- sum((r_df_test$CATE- cf_pred)^2) / nrow(r_df_test)"
   ]
  },
  {
   "cell_type": "code",
   "execution_count": 86,
   "metadata": {},
   "outputs": [
    {
     "data": {
      "text/html": [
       "<div>\n",
       "<style scoped>\n",
       "    .dataframe tbody tr th:only-of-type {\n",
       "        vertical-align: middle;\n",
       "    }\n",
       "\n",
       "    .dataframe tbody tr th {\n",
       "        vertical-align: top;\n",
       "    }\n",
       "\n",
       "    .dataframe thead th {\n",
       "        text-align: right;\n",
       "    }\n",
       "</style>\n",
       "<table border=\"1\" class=\"dataframe\">\n",
       "  <thead>\n",
       "    <tr style=\"text-align: right;\">\n",
       "      <th></th>\n",
       "      <th>X1</th>\n",
       "      <th>X2</th>\n",
       "      <th>I1</th>\n",
       "      <th>I2</th>\n",
       "      <th>D</th>\n",
       "      <th>Y0</th>\n",
       "      <th>Y1</th>\n",
       "      <th>Y_obs</th>\n",
       "      <th>tauhatknn</th>\n",
       "      <th>vartauhatknn</th>\n",
       "      <th>Cate_ols</th>\n",
       "      <th>CATE</th>\n",
       "    </tr>\n",
       "  </thead>\n",
       "  <tbody>\n",
       "    <tr>\n",
       "      <th>1</th>\n",
       "      <td>0.120962</td>\n",
       "      <td>0.425744</td>\n",
       "      <td>0.000000</td>\n",
       "      <td>0.000000</td>\n",
       "      <td>0</td>\n",
       "      <td>-2.552488</td>\n",
       "      <td>0.069391</td>\n",
       "      <td>-2.552488</td>\n",
       "      <td>1.970627</td>\n",
       "      <td>0.016819</td>\n",
       "      <td>1.144782</td>\n",
       "      <td>1.890197</td>\n",
       "    </tr>\n",
       "    <tr>\n",
       "      <th>2</th>\n",
       "      <td>0.989567</td>\n",
       "      <td>0.808568</td>\n",
       "      <td>0.000000</td>\n",
       "      <td>0.000000</td>\n",
       "      <td>0</td>\n",
       "      <td>0.083309</td>\n",
       "      <td>2.615975</td>\n",
       "      <td>0.083309</td>\n",
       "      <td>4.290661</td>\n",
       "      <td>0.016819</td>\n",
       "      <td>3.816723</td>\n",
       "      <td>3.999847</td>\n",
       "    </tr>\n",
       "    <tr>\n",
       "      <th>3</th>\n",
       "      <td>0.439204</td>\n",
       "      <td>0.262938</td>\n",
       "      <td>0.439204</td>\n",
       "      <td>0.262938</td>\n",
       "      <td>1</td>\n",
       "      <td>-1.387179</td>\n",
       "      <td>2.849974</td>\n",
       "      <td>2.849974</td>\n",
       "      <td>2.979316</td>\n",
       "      <td>0.016819</td>\n",
       "      <td>2.089683</td>\n",
       "      <td>2.264596</td>\n",
       "    </tr>\n",
       "    <tr>\n",
       "      <th>4</th>\n",
       "      <td>0.429665</td>\n",
       "      <td>0.684980</td>\n",
       "      <td>0.000000</td>\n",
       "      <td>0.000000</td>\n",
       "      <td>0</td>\n",
       "      <td>-1.527784</td>\n",
       "      <td>1.068388</td>\n",
       "      <td>-1.527784</td>\n",
       "      <td>4.067539</td>\n",
       "      <td>0.016819</td>\n",
       "      <td>2.349955</td>\n",
       "      <td>3.744101</td>\n",
       "    </tr>\n",
       "    <tr>\n",
       "      <th>5</th>\n",
       "      <td>0.072436</td>\n",
       "      <td>0.901603</td>\n",
       "      <td>0.072436</td>\n",
       "      <td>0.901603</td>\n",
       "      <td>1</td>\n",
       "      <td>-1.131381</td>\n",
       "      <td>1.792386</td>\n",
       "      <td>1.792386</td>\n",
       "      <td>2.428663</td>\n",
       "      <td>0.016819</td>\n",
       "      <td>2.621875</td>\n",
       "      <td>2.010767</td>\n",
       "    </tr>\n",
       "  </tbody>\n",
       "</table>\n",
       "</div>"
      ],
      "text/plain": [
       "         X1        X2        I1        I2  D        Y0        Y1     Y_obs  \\\n",
       "1  0.120962  0.425744  0.000000  0.000000  0 -2.552488  0.069391 -2.552488   \n",
       "2  0.989567  0.808568  0.000000  0.000000  0  0.083309  2.615975  0.083309   \n",
       "3  0.439204  0.262938  0.439204  0.262938  1 -1.387179  2.849974  2.849974   \n",
       "4  0.429665  0.684980  0.000000  0.000000  0 -1.527784  1.068388 -1.527784   \n",
       "5  0.072436  0.901603  0.072436  0.901603  1 -1.131381  1.792386  1.792386   \n",
       "\n",
       "   tauhatknn  vartauhatknn  Cate_ols      CATE  \n",
       "1   1.970627      0.016819  1.144782  1.890197  \n",
       "2   4.290661      0.016819  3.816723  3.999847  \n",
       "3   2.979316      0.016819  2.089683  2.264596  \n",
       "4   4.067539      0.016819  2.349955  3.744101  \n",
       "5   2.428663      0.016819  2.621875  2.010767  "
      ]
     },
     "execution_count": 86,
     "metadata": {},
     "output_type": "execute_result"
    }
   ],
   "source": [
    "r_df_train = ro.r('r_df_train')\n",
    "r_df_test = ro.r('r_df_test')\n",
    "r_mse_grf = ro.r('cf_mse')\n",
    "K = ro.r('K')\n",
    "with localconverter(ro.default_converter + pandas2ri.converter):\n",
    "    df_train = ro.conversion.rpy2py(r_df_train)\n",
    "    df_test = ro.conversion.rpy2py(r_df_test)\n",
    "    mse_grf = ro.conversion.rpy2py(r_mse_grf)\n",
    "    K = int(ro.conversion.rpy2py(K))\n",
    "\n",
    "df_train.head()"
   ]
  },
  {
   "cell_type": "code",
   "execution_count": 88,
   "metadata": {},
   "outputs": [],
   "source": [
    "X_test = (df_test.iloc[:, 0:K]).copy()\n",
    "\n",
    "y_train = df_train['Y_obs'].copy()\n",
    "X_train = df_train.iloc[:, 0:K].copy()\n",
    "D_train = df_train['D'].copy()"
   ]
  },
  {
   "cell_type": "code",
   "execution_count": 90,
   "metadata": {},
   "outputs": [
    {
     "data": {
      "image/svg+xml": [
       "<?xml version=\"1.0\" encoding=\"UTF-8\" standalone=\"no\"?>\n",
       "<!DOCTYPE svg PUBLIC \"-//W3C//DTD SVG 1.1//EN\"\n",
       " \"http://www.w3.org/Graphics/SVG/1.1/DTD/svg11.dtd\">\n",
       "<!-- Generated by graphviz version 2.40.1 (20161225.0304)\n",
       " -->\n",
       "<!-- Title: causal_tree Pages: 1 -->\n",
       "<svg width=\"145pt\" height=\"63pt\"\n",
       " viewBox=\"0.00 0.00 145.18 63.15\" xmlns=\"http://www.w3.org/2000/svg\" xmlns:xlink=\"http://www.w3.org/1999/xlink\">\n",
       "<g id=\"graph0\" class=\"graph\" transform=\"scale(1 1) rotate(0) translate(4 59.1543)\">\n",
       "<title>causal_tree</title>\n",
       "<polygon fill=\"#ffffff\" stroke=\"transparent\" points=\"-4,4 -4,-59.1543 141.1787,-59.1543 141.1787,4 -4,4\"/>\n",
       "<!-- 140188191290704 -->\n",
       "<g id=\"node1\" class=\"node\">\n",
       "<title>140188191290704</title>\n",
       "<ellipse fill=\"none\" stroke=\"#000000\" cx=\"68.5894\" cy=\"-27.5772\" rx=\"68.6788\" ry=\"27.6545\"/>\n",
       "<text text-anchor=\"middle\" x=\"68.5894\" y=\"-15.8772\" font-family=\"Times,serif\" font-size=\"14.00\" fill=\"#000000\">estimate:2.721</text>\n",
       "</g>\n",
       "</g>\n",
       "</svg>\n"
      ],
      "text/plain": [
       "<graphviz.dot.Graph at 0x7f801b4e7470>"
      ]
     },
     "execution_count": 90,
     "metadata": {},
     "output_type": "execute_result"
    }
   ],
   "source": [
    "import CausalTree as ct\n",
    "\n",
    "ctree_sparse, ctree_opt = ct.CausalTree.apply_kFold_CV(X_train, y_train, D_train)\n",
    "\n",
    "ctree_opt.plot()"
   ]
  },
  {
   "cell_type": "code",
   "execution_count": 82,
   "metadata": {},
   "outputs": [],
   "source": [
    "tau_hat_causal_tree = ctree_opt.predict(X_test)\n",
    "tau_hat_knn = df_test['tauhatknn'].values\n",
    "tau_hat_ols = df_test['Cate_ols'].values\n",
    "tau_real = df_test['CATE'].values\n",
    "\n",
    "tau_hat_dict = OrderedDict()\n",
    "tau_hat_dict[\"knn\"] = tau_hat_knn\n",
    "tau_hat_dict[\"ols\"] = tau_hat_ols,\n",
    "tau_hat_dict[\"ctree\"] = tau_hat_causal_tree\n",
    "\n",
    "mse_dict = OrderedDict()\n",
    "mse_dict['grf'] = float(mse_grf)\n",
    "\n",
    "for key, value in tau_hat_dict.items():\n",
    "    mse_dict[key] = ((tau_real - value) ** 2).mean()"
   ]
  },
  {
   "cell_type": "code",
   "execution_count": 83,
   "metadata": {},
   "outputs": [
    {
     "data": {
      "text/plain": [
       "OrderedDict([('grf', 0.12461944422522299),\n",
       "             ('knn', 0.0980932873901085),\n",
       "             ('ols', 0.3851350047907539),\n",
       "             ('ctree', 0.99592912418227)])"
      ]
     },
     "execution_count": 83,
     "metadata": {},
     "output_type": "execute_result"
    }
   ],
   "source": [
    "mse_dict"
   ]
  },
  {
   "cell_type": "code",
   "execution_count": null,
   "metadata": {},
   "outputs": [],
   "source": []
  }
 ],
 "metadata": {
  "kernelspec": {
   "display_name": "Python 3",
   "language": "python",
   "name": "python3"
  },
  "language_info": {
   "codemirror_mode": {
    "name": "ipython",
    "version": 3
   },
   "file_extension": ".py",
   "mimetype": "text/x-python",
   "name": "python",
   "nbconvert_exporter": "python",
   "pygments_lexer": "ipython3",
   "version": "3.7.3"
  }
 },
 "nbformat": 4,
 "nbformat_minor": 2
}
