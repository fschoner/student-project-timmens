{
 "cells": [
  {
   "cell_type": "code",
   "execution_count": 1,
   "metadata": {},
   "outputs": [],
   "source": [
    "import numpy as np\n",
    "import pandas as pd\n",
    "\n",
    "import rpy2.rinterface\n",
    "import rpy2.robjects as ro\n",
    "from rpy2.robjects import pandas2ri\n",
    "from rpy2.robjects.conversion import localconverter\n",
    "pandas2ri.activate()"
   ]
  },
  {
   "cell_type": "code",
   "execution_count": 2,
   "metadata": {},
   "outputs": [],
   "source": [
    "%load_ext rpy2.ipython"
   ]
  },
  {
   "cell_type": "markdown",
   "metadata": {},
   "source": [
    "First we have to load in the R scripts that simulate the more involved data sets."
   ]
  },
  {
   "cell_type": "code",
   "execution_count": 3,
   "metadata": {},
   "outputs": [],
   "source": [
    "%%R \n",
    "source(\"sim.R\")\n",
    "r_df <- sim(n=1000, het_linear=TRUE)"
   ]
  },
  {
   "cell_type": "markdown",
   "metadata": {},
   "source": [
    "Now we have to transform the R DataFrame to a pandas DataFrame."
   ]
  },
  {
   "cell_type": "code",
   "execution_count": 4,
   "metadata": {},
   "outputs": [
    {
     "data": {
      "text/html": [
       "<div>\n",
       "<style scoped>\n",
       "    .dataframe tbody tr th:only-of-type {\n",
       "        vertical-align: middle;\n",
       "    }\n",
       "\n",
       "    .dataframe tbody tr th {\n",
       "        vertical-align: top;\n",
       "    }\n",
       "\n",
       "    .dataframe thead th {\n",
       "        text-align: right;\n",
       "    }\n",
       "</style>\n",
       "<table border=\"1\" class=\"dataframe\">\n",
       "  <thead>\n",
       "    <tr style=\"text-align: right;\">\n",
       "      <th></th>\n",
       "      <th>Y0</th>\n",
       "      <th>Y1</th>\n",
       "      <th>X</th>\n",
       "      <th>D</th>\n",
       "      <th>Y_obs</th>\n",
       "      <th>IntXD</th>\n",
       "      <th>CATE</th>\n",
       "      <th>trueps</th>\n",
       "      <th>pslog</th>\n",
       "      <th>psprob</th>\n",
       "      <th>tauihat</th>\n",
       "      <th>tauhatknn</th>\n",
       "    </tr>\n",
       "  </thead>\n",
       "  <tbody>\n",
       "    <tr>\n",
       "      <th>1</th>\n",
       "      <td>3.209791</td>\n",
       "      <td>9.304881</td>\n",
       "      <td>0.508610</td>\n",
       "      <td>0</td>\n",
       "      <td>3.209791</td>\n",
       "      <td>0.000000</td>\n",
       "      <td>5.017220</td>\n",
       "      <td>0.5</td>\n",
       "      <td>0.493000</td>\n",
       "      <td>0.493000</td>\n",
       "      <td>3.826192</td>\n",
       "      <td>4.460967</td>\n",
       "    </tr>\n",
       "    <tr>\n",
       "      <th>2</th>\n",
       "      <td>2.577199</td>\n",
       "      <td>5.205330</td>\n",
       "      <td>0.334021</td>\n",
       "      <td>1</td>\n",
       "      <td>5.205330</td>\n",
       "      <td>0.334021</td>\n",
       "      <td>4.668043</td>\n",
       "      <td>0.5</td>\n",
       "      <td>0.493002</td>\n",
       "      <td>0.493002</td>\n",
       "      <td>3.481503</td>\n",
       "      <td>4.572274</td>\n",
       "    </tr>\n",
       "    <tr>\n",
       "      <th>3</th>\n",
       "      <td>3.939302</td>\n",
       "      <td>9.387575</td>\n",
       "      <td>0.991925</td>\n",
       "      <td>0</td>\n",
       "      <td>3.939302</td>\n",
       "      <td>0.000000</td>\n",
       "      <td>5.983850</td>\n",
       "      <td>0.5</td>\n",
       "      <td>0.492995</td>\n",
       "      <td>0.492995</td>\n",
       "      <td>5.429646</td>\n",
       "      <td>5.472601</td>\n",
       "    </tr>\n",
       "    <tr>\n",
       "      <th>4</th>\n",
       "      <td>1.491655</td>\n",
       "      <td>9.015605</td>\n",
       "      <td>0.587689</td>\n",
       "      <td>1</td>\n",
       "      <td>9.015605</td>\n",
       "      <td>0.587689</td>\n",
       "      <td>5.175378</td>\n",
       "      <td>0.5</td>\n",
       "      <td>0.492999</td>\n",
       "      <td>0.492999</td>\n",
       "      <td>5.818102</td>\n",
       "      <td>4.985984</td>\n",
       "    </tr>\n",
       "    <tr>\n",
       "      <th>5</th>\n",
       "      <td>1.704818</td>\n",
       "      <td>5.805499</td>\n",
       "      <td>0.121394</td>\n",
       "      <td>0</td>\n",
       "      <td>1.704818</td>\n",
       "      <td>0.000000</td>\n",
       "      <td>4.242788</td>\n",
       "      <td>0.5</td>\n",
       "      <td>0.493004</td>\n",
       "      <td>0.493004</td>\n",
       "      <td>3.910265</td>\n",
       "      <td>4.216130</td>\n",
       "    </tr>\n",
       "  </tbody>\n",
       "</table>\n",
       "</div>"
      ],
      "text/plain": [
       "         Y0        Y1         X  D     Y_obs     IntXD      CATE  trueps  \\\n",
       "1  3.209791  9.304881  0.508610  0  3.209791  0.000000  5.017220     0.5   \n",
       "2  2.577199  5.205330  0.334021  1  5.205330  0.334021  4.668043     0.5   \n",
       "3  3.939302  9.387575  0.991925  0  3.939302  0.000000  5.983850     0.5   \n",
       "4  1.491655  9.015605  0.587689  1  9.015605  0.587689  5.175378     0.5   \n",
       "5  1.704818  5.805499  0.121394  0  1.704818  0.000000  4.242788     0.5   \n",
       "\n",
       "      pslog    psprob   tauihat  tauhatknn  \n",
       "1  0.493000  0.493000  3.826192   4.460967  \n",
       "2  0.493002  0.493002  3.481503   4.572274  \n",
       "3  0.492995  0.492995  5.429646   5.472601  \n",
       "4  0.492999  0.492999  5.818102   4.985984  \n",
       "5  0.493004  0.493004  3.910265   4.216130  "
      ]
     },
     "execution_count": 4,
     "metadata": {},
     "output_type": "execute_result"
    }
   ],
   "source": [
    "r_df = ro.r('r_df')\n",
    "with localconverter(ro.default_converter + pandas2ri.converter):\n",
    "  df = ro.conversion.rpy2py(r_df)\n",
    "df.head()"
   ]
  },
  {
   "cell_type": "markdown",
   "metadata": {},
   "source": [
    "At last we will construct pandas DataFrames and Series for y, X and D"
   ]
  },
  {
   "cell_type": "code",
   "execution_count": 5,
   "metadata": {},
   "outputs": [],
   "source": [
    "y = (df['D'] * df['Y1'] + (1 - df['D']) * df['Y0'])\n",
    "X = (df['X'])\n",
    "D = (df['D'])"
   ]
  },
  {
   "cell_type": "code",
   "execution_count": 6,
   "metadata": {},
   "outputs": [],
   "source": [
    "import CausalTree as ct\n",
    "from CausalTree import *"
   ]
  },
  {
   "cell_type": "code",
   "execution_count": 7,
   "metadata": {},
   "outputs": [],
   "source": [
    "ctree_sparse, ctree_opt = ct.CausalTree.apply_kFold_CV(X, y, D)"
   ]
  },
  {
   "cell_type": "code",
   "execution_count": 8,
   "metadata": {},
   "outputs": [
    {
     "data": {
      "image/svg+xml": [
       "<?xml version=\"1.0\" encoding=\"UTF-8\" standalone=\"no\"?>\n",
       "<!DOCTYPE svg PUBLIC \"-//W3C//DTD SVG 1.1//EN\"\n",
       " \"http://www.w3.org/Graphics/SVG/1.1/DTD/svg11.dtd\">\n",
       "<!-- Generated by graphviz version 2.40.1 (20161225.0304)\n",
       " -->\n",
       "<!-- Title: causal_tree Pages: 1 -->\n",
       "<svg width=\"595pt\" height=\"331pt\"\n",
       " viewBox=\"0.00 0.00 595.26 330.96\" xmlns=\"http://www.w3.org/2000/svg\" xmlns:xlink=\"http://www.w3.org/1999/xlink\">\n",
       "<g id=\"graph0\" class=\"graph\" transform=\"scale(1 1) rotate(0) translate(4 326.9605)\">\n",
       "<title>causal_tree</title>\n",
       "<polygon fill=\"#ffffff\" stroke=\"transparent\" points=\"-4,4 -4,-326.9605 591.262,-326.9605 591.262,4 -4,4\"/>\n",
       "<!-- 140257757578744 -->\n",
       "<g id=\"node1\" class=\"node\">\n",
       "<title>140257757578744</title>\n",
       "<ellipse fill=\"none\" stroke=\"#000000\" cx=\"393.631\" cy=\"-296.0904\" rx=\"90.5193\" ry=\"26.7407\"/>\n",
       "<text text-anchor=\"middle\" x=\"393.631\" y=\"-299.8904\" font-family=\"Times,serif\" font-size=\"14.00\" fill=\"#000000\">Variable 0 &lt;= 0.450</text>\n",
       "<text text-anchor=\"middle\" x=\"393.631\" y=\"-284.8904\" font-family=\"Times,serif\" font-size=\"14.00\" fill=\"#000000\">estimate:4.955</text>\n",
       "</g>\n",
       "<!-- 140257757581096 -->\n",
       "<g id=\"node2\" class=\"node\">\n",
       "<title>140257757581096</title>\n",
       "<ellipse fill=\"none\" stroke=\"#000000\" cx=\"293.631\" cy=\"-206.3503\" rx=\"90.5193\" ry=\"26.7407\"/>\n",
       "<text text-anchor=\"middle\" x=\"293.631\" y=\"-210.1503\" font-family=\"Times,serif\" font-size=\"14.00\" fill=\"#000000\">Variable 0 &lt;= 0.171</text>\n",
       "<text text-anchor=\"middle\" x=\"293.631\" y=\"-195.1503\" font-family=\"Times,serif\" font-size=\"14.00\" fill=\"#000000\">estimate:4.409</text>\n",
       "</g>\n",
       "<!-- 140257757578744&#45;&#45;140257757581096 -->\n",
       "<g id=\"edge1\" class=\"edge\">\n",
       "<title>140257757578744&#45;&#45;140257757581096</title>\n",
       "<path fill=\"none\" stroke=\"#000000\" d=\"M364.975,-270.3745C351.5852,-258.3585 335.6814,-244.0864 322.2912,-232.07\"/>\n",
       "</g>\n",
       "<!-- 140257757463272 -->\n",
       "<g id=\"node3\" class=\"node\">\n",
       "<title>140257757463272</title>\n",
       "<ellipse fill=\"none\" stroke=\"#000000\" cx=\"494.631\" cy=\"-206.3503\" rx=\"92.7622\" ry=\"26.7407\"/>\n",
       "<text text-anchor=\"middle\" x=\"494.631\" y=\"-210.1503\" font-family=\"Times,serif\" font-size=\"14.00\" fill=\"#000000\">This node is not split</text>\n",
       "<text text-anchor=\"middle\" x=\"494.631\" y=\"-195.1503\" font-family=\"Times,serif\" font-size=\"14.00\" fill=\"#000000\">estimate:5.289</text>\n",
       "</g>\n",
       "<!-- 140257757578744&#45;&#45;140257757463272 -->\n",
       "<g id=\"edge2\" class=\"edge\">\n",
       "<title>140257757578744&#45;&#45;140257757463272</title>\n",
       "<path fill=\"none\" stroke=\"#000000\" d=\"M422.5735,-270.3745C436.0972,-258.3585 452.16,-244.0864 465.6842,-232.07\"/>\n",
       "</g>\n",
       "<!-- 140257757579304 -->\n",
       "<g id=\"node4\" class=\"node\">\n",
       "<title>140257757579304</title>\n",
       "<ellipse fill=\"none\" stroke=\"#000000\" cx=\"193.631\" cy=\"-116.6102\" rx=\"90.5193\" ry=\"26.7407\"/>\n",
       "<text text-anchor=\"middle\" x=\"193.631\" y=\"-120.4102\" font-family=\"Times,serif\" font-size=\"14.00\" fill=\"#000000\">Variable 0 &lt;= 0.008</text>\n",
       "<text text-anchor=\"middle\" x=\"193.631\" y=\"-105.4102\" font-family=\"Times,serif\" font-size=\"14.00\" fill=\"#000000\">estimate:4.091</text>\n",
       "</g>\n",
       "<!-- 140257757581096&#45;&#45;140257757579304 -->\n",
       "<g id=\"edge3\" class=\"edge\">\n",
       "<title>140257757581096&#45;&#45;140257757579304</title>\n",
       "<path fill=\"none\" stroke=\"#000000\" d=\"M264.975,-180.6344C251.5852,-168.6184 235.6814,-154.3463 222.2912,-142.3298\"/>\n",
       "</g>\n",
       "<!-- 140257757465624 -->\n",
       "<g id=\"node5\" class=\"node\">\n",
       "<title>140257757465624</title>\n",
       "<ellipse fill=\"none\" stroke=\"#000000\" cx=\"394.631\" cy=\"-116.6102\" rx=\"92.7622\" ry=\"26.7407\"/>\n",
       "<text text-anchor=\"middle\" x=\"394.631\" y=\"-120.4102\" font-family=\"Times,serif\" font-size=\"14.00\" fill=\"#000000\">This node is not split</text>\n",
       "<text text-anchor=\"middle\" x=\"394.631\" y=\"-105.4102\" font-family=\"Times,serif\" font-size=\"14.00\" fill=\"#000000\">estimate:4.617</text>\n",
       "</g>\n",
       "<!-- 140257757581096&#45;&#45;140257757465624 -->\n",
       "<g id=\"edge4\" class=\"edge\">\n",
       "<title>140257757581096&#45;&#45;140257757465624</title>\n",
       "<path fill=\"none\" stroke=\"#000000\" d=\"M322.5735,-180.6344C336.0972,-168.6184 352.16,-154.3463 365.6842,-142.3298\"/>\n",
       "</g>\n",
       "<!-- 140257757579528 -->\n",
       "<g id=\"node6\" class=\"node\">\n",
       "<title>140257757579528</title>\n",
       "<ellipse fill=\"none\" stroke=\"#000000\" cx=\"92.631\" cy=\"-26.8701\" rx=\"92.7622\" ry=\"26.7407\"/>\n",
       "<text text-anchor=\"middle\" x=\"92.631\" y=\"-30.6701\" font-family=\"Times,serif\" font-size=\"14.00\" fill=\"#000000\">This node is not split</text>\n",
       "<text text-anchor=\"middle\" x=\"92.631\" y=\"-15.6701\" font-family=\"Times,serif\" font-size=\"14.00\" fill=\"#000000\">estimate:4.441</text>\n",
       "</g>\n",
       "<!-- 140257757579304&#45;&#45;140257757579528 -->\n",
       "<g id=\"edge5\" class=\"edge\">\n",
       "<title>140257757579304&#45;&#45;140257757579528</title>\n",
       "<path fill=\"none\" stroke=\"#000000\" d=\"M164.6884,-90.8943C151.1648,-78.8783 135.1019,-64.6062 121.5778,-52.5897\"/>\n",
       "</g>\n",
       "<!-- 140257757463944 -->\n",
       "<g id=\"node7\" class=\"node\">\n",
       "<title>140257757463944</title>\n",
       "<ellipse fill=\"none\" stroke=\"#000000\" cx=\"295.631\" cy=\"-26.8701\" rx=\"92.7622\" ry=\"26.7407\"/>\n",
       "<text text-anchor=\"middle\" x=\"295.631\" y=\"-30.6701\" font-family=\"Times,serif\" font-size=\"14.00\" fill=\"#000000\">This node is not split</text>\n",
       "<text text-anchor=\"middle\" x=\"295.631\" y=\"-15.6701\" font-family=\"Times,serif\" font-size=\"14.00\" fill=\"#000000\">estimate:4.067</text>\n",
       "</g>\n",
       "<!-- 140257757579304&#45;&#45;140257757463944 -->\n",
       "<g id=\"edge6\" class=\"edge\">\n",
       "<title>140257757579304&#45;&#45;140257757463944</title>\n",
       "<path fill=\"none\" stroke=\"#000000\" d=\"M222.5873,-91.1343C236.3693,-79.0088 252.8109,-64.5434 266.6023,-52.4096\"/>\n",
       "</g>\n",
       "</g>\n",
       "</svg>\n"
      ],
      "text/plain": [
       "<graphviz.dot.Graph at 0x7f904e401dd8>"
      ]
     },
     "execution_count": 8,
     "metadata": {},
     "output_type": "execute_result"
    }
   ],
   "source": [
    "ctree_sparse.plot()"
   ]
  },
  {
   "cell_type": "code",
   "execution_count": 9,
   "metadata": {},
   "outputs": [
    {
     "data": {
      "image/svg+xml": [
       "<?xml version=\"1.0\" encoding=\"UTF-8\" standalone=\"no\"?>\n",
       "<!DOCTYPE svg PUBLIC \"-//W3C//DTD SVG 1.1//EN\"\n",
       " \"http://www.w3.org/Graphics/SVG/1.1/DTD/svg11.dtd\">\n",
       "<!-- Generated by graphviz version 2.40.1 (20161225.0304)\n",
       " -->\n",
       "<!-- Title: causal_tree Pages: 1 -->\n",
       "<svg width=\"595pt\" height=\"331pt\"\n",
       " viewBox=\"0.00 0.00 595.26 330.96\" xmlns=\"http://www.w3.org/2000/svg\" xmlns:xlink=\"http://www.w3.org/1999/xlink\">\n",
       "<g id=\"graph0\" class=\"graph\" transform=\"scale(1 1) rotate(0) translate(4 326.9605)\">\n",
       "<title>causal_tree</title>\n",
       "<polygon fill=\"#ffffff\" stroke=\"transparent\" points=\"-4,4 -4,-326.9605 591.262,-326.9605 591.262,4 -4,4\"/>\n",
       "<!-- 140257757578744 -->\n",
       "<g id=\"node1\" class=\"node\">\n",
       "<title>140257757578744</title>\n",
       "<ellipse fill=\"none\" stroke=\"#000000\" cx=\"393.631\" cy=\"-296.0904\" rx=\"90.5193\" ry=\"26.7407\"/>\n",
       "<text text-anchor=\"middle\" x=\"393.631\" y=\"-299.8904\" font-family=\"Times,serif\" font-size=\"14.00\" fill=\"#000000\">Variable 0 &lt;= 0.450</text>\n",
       "<text text-anchor=\"middle\" x=\"393.631\" y=\"-284.8904\" font-family=\"Times,serif\" font-size=\"14.00\" fill=\"#000000\">estimate:4.955</text>\n",
       "</g>\n",
       "<!-- 140257757581096 -->\n",
       "<g id=\"node2\" class=\"node\">\n",
       "<title>140257757581096</title>\n",
       "<ellipse fill=\"none\" stroke=\"#000000\" cx=\"293.631\" cy=\"-206.3503\" rx=\"90.5193\" ry=\"26.7407\"/>\n",
       "<text text-anchor=\"middle\" x=\"293.631\" y=\"-210.1503\" font-family=\"Times,serif\" font-size=\"14.00\" fill=\"#000000\">Variable 0 &lt;= 0.171</text>\n",
       "<text text-anchor=\"middle\" x=\"293.631\" y=\"-195.1503\" font-family=\"Times,serif\" font-size=\"14.00\" fill=\"#000000\">estimate:4.409</text>\n",
       "</g>\n",
       "<!-- 140257757578744&#45;&#45;140257757581096 -->\n",
       "<g id=\"edge1\" class=\"edge\">\n",
       "<title>140257757578744&#45;&#45;140257757581096</title>\n",
       "<path fill=\"none\" stroke=\"#000000\" d=\"M364.975,-270.3745C351.5852,-258.3585 335.6814,-244.0864 322.2912,-232.07\"/>\n",
       "</g>\n",
       "<!-- 140257757463272 -->\n",
       "<g id=\"node3\" class=\"node\">\n",
       "<title>140257757463272</title>\n",
       "<ellipse fill=\"none\" stroke=\"#000000\" cx=\"494.631\" cy=\"-206.3503\" rx=\"92.7622\" ry=\"26.7407\"/>\n",
       "<text text-anchor=\"middle\" x=\"494.631\" y=\"-210.1503\" font-family=\"Times,serif\" font-size=\"14.00\" fill=\"#000000\">This node is not split</text>\n",
       "<text text-anchor=\"middle\" x=\"494.631\" y=\"-195.1503\" font-family=\"Times,serif\" font-size=\"14.00\" fill=\"#000000\">estimate:5.289</text>\n",
       "</g>\n",
       "<!-- 140257757578744&#45;&#45;140257757463272 -->\n",
       "<g id=\"edge2\" class=\"edge\">\n",
       "<title>140257757578744&#45;&#45;140257757463272</title>\n",
       "<path fill=\"none\" stroke=\"#000000\" d=\"M422.5735,-270.3745C436.0972,-258.3585 452.16,-244.0864 465.6842,-232.07\"/>\n",
       "</g>\n",
       "<!-- 140257757579304 -->\n",
       "<g id=\"node4\" class=\"node\">\n",
       "<title>140257757579304</title>\n",
       "<ellipse fill=\"none\" stroke=\"#000000\" cx=\"193.631\" cy=\"-116.6102\" rx=\"90.5193\" ry=\"26.7407\"/>\n",
       "<text text-anchor=\"middle\" x=\"193.631\" y=\"-120.4102\" font-family=\"Times,serif\" font-size=\"14.00\" fill=\"#000000\">Variable 0 &lt;= 0.008</text>\n",
       "<text text-anchor=\"middle\" x=\"193.631\" y=\"-105.4102\" font-family=\"Times,serif\" font-size=\"14.00\" fill=\"#000000\">estimate:4.091</text>\n",
       "</g>\n",
       "<!-- 140257757581096&#45;&#45;140257757579304 -->\n",
       "<g id=\"edge3\" class=\"edge\">\n",
       "<title>140257757581096&#45;&#45;140257757579304</title>\n",
       "<path fill=\"none\" stroke=\"#000000\" d=\"M264.975,-180.6344C251.5852,-168.6184 235.6814,-154.3463 222.2912,-142.3298\"/>\n",
       "</g>\n",
       "<!-- 140257757465624 -->\n",
       "<g id=\"node5\" class=\"node\">\n",
       "<title>140257757465624</title>\n",
       "<ellipse fill=\"none\" stroke=\"#000000\" cx=\"394.631\" cy=\"-116.6102\" rx=\"92.7622\" ry=\"26.7407\"/>\n",
       "<text text-anchor=\"middle\" x=\"394.631\" y=\"-120.4102\" font-family=\"Times,serif\" font-size=\"14.00\" fill=\"#000000\">This node is not split</text>\n",
       "<text text-anchor=\"middle\" x=\"394.631\" y=\"-105.4102\" font-family=\"Times,serif\" font-size=\"14.00\" fill=\"#000000\">estimate:4.617</text>\n",
       "</g>\n",
       "<!-- 140257757581096&#45;&#45;140257757465624 -->\n",
       "<g id=\"edge4\" class=\"edge\">\n",
       "<title>140257757581096&#45;&#45;140257757465624</title>\n",
       "<path fill=\"none\" stroke=\"#000000\" d=\"M322.5735,-180.6344C336.0972,-168.6184 352.16,-154.3463 365.6842,-142.3298\"/>\n",
       "</g>\n",
       "<!-- 140257757579528 -->\n",
       "<g id=\"node6\" class=\"node\">\n",
       "<title>140257757579528</title>\n",
       "<ellipse fill=\"none\" stroke=\"#000000\" cx=\"92.631\" cy=\"-26.8701\" rx=\"92.7622\" ry=\"26.7407\"/>\n",
       "<text text-anchor=\"middle\" x=\"92.631\" y=\"-30.6701\" font-family=\"Times,serif\" font-size=\"14.00\" fill=\"#000000\">This node is not split</text>\n",
       "<text text-anchor=\"middle\" x=\"92.631\" y=\"-15.6701\" font-family=\"Times,serif\" font-size=\"14.00\" fill=\"#000000\">estimate:4.441</text>\n",
       "</g>\n",
       "<!-- 140257757579304&#45;&#45;140257757579528 -->\n",
       "<g id=\"edge5\" class=\"edge\">\n",
       "<title>140257757579304&#45;&#45;140257757579528</title>\n",
       "<path fill=\"none\" stroke=\"#000000\" d=\"M164.6884,-90.8943C151.1648,-78.8783 135.1019,-64.6062 121.5778,-52.5897\"/>\n",
       "</g>\n",
       "<!-- 140257757463944 -->\n",
       "<g id=\"node7\" class=\"node\">\n",
       "<title>140257757463944</title>\n",
       "<ellipse fill=\"none\" stroke=\"#000000\" cx=\"295.631\" cy=\"-26.8701\" rx=\"92.7622\" ry=\"26.7407\"/>\n",
       "<text text-anchor=\"middle\" x=\"295.631\" y=\"-30.6701\" font-family=\"Times,serif\" font-size=\"14.00\" fill=\"#000000\">This node is not split</text>\n",
       "<text text-anchor=\"middle\" x=\"295.631\" y=\"-15.6701\" font-family=\"Times,serif\" font-size=\"14.00\" fill=\"#000000\">estimate:4.067</text>\n",
       "</g>\n",
       "<!-- 140257757579304&#45;&#45;140257757463944 -->\n",
       "<g id=\"edge6\" class=\"edge\">\n",
       "<title>140257757579304&#45;&#45;140257757463944</title>\n",
       "<path fill=\"none\" stroke=\"#000000\" d=\"M222.5873,-91.1343C236.3693,-79.0088 252.8109,-64.5434 266.6023,-52.4096\"/>\n",
       "</g>\n",
       "</g>\n",
       "</svg>\n"
      ],
      "text/plain": [
       "<graphviz.dot.Graph at 0x7f904dc7f208>"
      ]
     },
     "execution_count": 9,
     "metadata": {},
     "output_type": "execute_result"
    }
   ],
   "source": [
    "ctree_opt.plot()"
   ]
  },
  {
   "cell_type": "code",
   "execution_count": 10,
   "metadata": {},
   "outputs": [
    {
     "data": {
      "text/plain": [
       "Causal Tree; fitted = True; id = 140257757578744"
      ]
     },
     "execution_count": 10,
     "metadata": {},
     "output_type": "execute_result"
    }
   ],
   "source": [
    "ctree_sparse"
   ]
  },
  {
   "cell_type": "code",
   "execution_count": 11,
   "metadata": {},
   "outputs": [],
   "source": [
    "tau_hat = ctree_sparse.predict(X)\n",
    "tau_real = df['CATE']"
   ]
  },
  {
   "cell_type": "code",
   "execution_count": null,
   "metadata": {},
   "outputs": [],
   "source": []
  }
 ],
 "metadata": {
  "kernelspec": {
   "display_name": "Python 3",
   "language": "python",
   "name": "python3"
  },
  "language_info": {
   "codemirror_mode": {
    "name": "ipython",
    "version": 3
   },
   "file_extension": ".py",
   "mimetype": "text/x-python",
   "name": "python",
   "nbconvert_exporter": "python",
   "pygments_lexer": "ipython3",
   "version": "3.7.3"
  }
 },
 "nbformat": 4,
 "nbformat_minor": 2
}
