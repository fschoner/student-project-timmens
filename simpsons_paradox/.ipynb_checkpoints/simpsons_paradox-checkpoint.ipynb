{
 "cells": [
  {
   "cell_type": "markdown",
   "metadata": {},
   "source": [
    "# Simpson's Paradox\n",
    "\n",
    "In this notebook we will study the statistics and causal effects behind the alleged gender discrimination at U.C. Berkeley in 1973. This is also the example given in [*The Book of Why*](http://bayes.cs.ucla.edu/WHY/) (Judea Pearl; 2018). Instead of constructing an artificial example as asked in the Python challenge, I will analysis said dataset.\n",
    "\n",
    "## Background \n",
    "\n",
    "## Data \n",
    "\n",
    "The dataset can be found on the website of Micheal Stob (Professor of Mathematics Emeritus at Calvin University) under \"Berkeley\"; see http://www.calvin.edu/~stob/data/. "
   ]
  },
  {
   "cell_type": "markdown",
   "metadata": {},
   "source": [
    "https://rawgit.com/amitrajitbose/GenderBias-UCBerkeley-Report/master/ProjectReport.html"
   ]
  },
  {
   "cell_type": "code",
   "execution_count": 1,
   "metadata": {},
   "outputs": [],
   "source": [
    "import numpy as np\n",
    "import pandas as pd\n",
    "import pprint "
   ]
  },
  {
   "cell_type": "code",
   "execution_count": 108,
   "metadata": {},
   "outputs": [
    {
     "data": {
      "text/html": [
       "<div>\n",
       "<style scoped>\n",
       "    .dataframe tbody tr th:only-of-type {\n",
       "        vertical-align: middle;\n",
       "    }\n",
       "\n",
       "    .dataframe tbody tr th {\n",
       "        vertical-align: top;\n",
       "    }\n",
       "\n",
       "    .dataframe thead th {\n",
       "        text-align: right;\n",
       "    }\n",
       "</style>\n",
       "<table border=\"1\" class=\"dataframe\">\n",
       "  <thead>\n",
       "    <tr style=\"text-align: right;\">\n",
       "      <th></th>\n",
       "      <th>Admit</th>\n",
       "      <th>Gender</th>\n",
       "      <th>Dept</th>\n",
       "      <th>Freq</th>\n",
       "    </tr>\n",
       "  </thead>\n",
       "  <tbody>\n",
       "    <tr>\n",
       "      <th>0</th>\n",
       "      <td>Admitted</td>\n",
       "      <td>Male</td>\n",
       "      <td>A</td>\n",
       "      <td>512</td>\n",
       "    </tr>\n",
       "    <tr>\n",
       "      <th>1</th>\n",
       "      <td>Rejected</td>\n",
       "      <td>Male</td>\n",
       "      <td>A</td>\n",
       "      <td>313</td>\n",
       "    </tr>\n",
       "    <tr>\n",
       "      <th>2</th>\n",
       "      <td>Admitted</td>\n",
       "      <td>Female</td>\n",
       "      <td>A</td>\n",
       "      <td>89</td>\n",
       "    </tr>\n",
       "    <tr>\n",
       "      <th>3</th>\n",
       "      <td>Rejected</td>\n",
       "      <td>Female</td>\n",
       "      <td>A</td>\n",
       "      <td>19</td>\n",
       "    </tr>\n",
       "    <tr>\n",
       "      <th>4</th>\n",
       "      <td>Admitted</td>\n",
       "      <td>Male</td>\n",
       "      <td>B</td>\n",
       "      <td>353</td>\n",
       "    </tr>\n",
       "  </tbody>\n",
       "</table>\n",
       "</div>"
      ],
      "text/plain": [
       "      Admit  Gender Dept  Freq\n",
       "0  Admitted    Male    A   512\n",
       "1  Rejected    Male    A   313\n",
       "2  Admitted  Female    A    89\n",
       "3  Rejected  Female    A    19\n",
       "4  Admitted    Male    B   353"
      ]
     },
     "execution_count": 108,
     "metadata": {},
     "output_type": "execute_result"
    }
   ],
   "source": [
    "df = pd.read_csv(\"Berkeley.csv\")\n",
    "df.head()"
   ]
  },
  {
   "cell_type": "code",
   "execution_count": 109,
   "metadata": {},
   "outputs": [
    {
     "data": {
      "text/html": [
       "<div>\n",
       "<style scoped>\n",
       "    .dataframe tbody tr th:only-of-type {\n",
       "        vertical-align: middle;\n",
       "    }\n",
       "\n",
       "    .dataframe tbody tr th {\n",
       "        vertical-align: top;\n",
       "    }\n",
       "\n",
       "    .dataframe thead th {\n",
       "        text-align: right;\n",
       "    }\n",
       "</style>\n",
       "<table border=\"1\" class=\"dataframe\">\n",
       "  <thead>\n",
       "    <tr style=\"text-align: right;\">\n",
       "      <th></th>\n",
       "      <th>Dept</th>\n",
       "      <th>AcceptRateMale</th>\n",
       "      <th>AcceptRateFemale</th>\n",
       "    </tr>\n",
       "  </thead>\n",
       "  <tbody>\n",
       "    <tr>\n",
       "      <th>0</th>\n",
       "      <td>A</td>\n",
       "      <td>0.620606</td>\n",
       "      <td>0.824074</td>\n",
       "    </tr>\n",
       "    <tr>\n",
       "      <th>1</th>\n",
       "      <td>B</td>\n",
       "      <td>0.630357</td>\n",
       "      <td>0.68</td>\n",
       "    </tr>\n",
       "    <tr>\n",
       "      <th>2</th>\n",
       "      <td>C</td>\n",
       "      <td>0.369231</td>\n",
       "      <td>0.340641</td>\n",
       "    </tr>\n",
       "    <tr>\n",
       "      <th>3</th>\n",
       "      <td>D</td>\n",
       "      <td>0.330935</td>\n",
       "      <td>0.349333</td>\n",
       "    </tr>\n",
       "    <tr>\n",
       "      <th>4</th>\n",
       "      <td>E</td>\n",
       "      <td>0.277487</td>\n",
       "      <td>0.239186</td>\n",
       "    </tr>\n",
       "    <tr>\n",
       "      <th>5</th>\n",
       "      <td>F</td>\n",
       "      <td>0.0589812</td>\n",
       "      <td>0.0703812</td>\n",
       "    </tr>\n",
       "  </tbody>\n",
       "</table>\n",
       "</div>"
      ],
      "text/plain": [
       "  Dept AcceptRateMale AcceptRateFemale\n",
       "0    A       0.620606         0.824074\n",
       "1    B       0.630357             0.68\n",
       "2    C       0.369231         0.340641\n",
       "3    D       0.330935         0.349333\n",
       "4    E       0.277487         0.239186\n",
       "5    F      0.0589812        0.0703812"
      ]
     },
     "execution_count": 109,
     "metadata": {},
     "output_type": "execute_result"
    }
   ],
   "source": [
    "df_males = df.loc[df.Gender == 'Male']\n",
    "df_females = df.loc[df.Gender == 'Female']\n",
    "\n",
    "departments = df.Dept.unique()\n",
    "\n",
    "df_dept = pd.DataFrame(columns=['Dept', 'AcceptRateMale', 'AcceptRateFemale'])\n",
    "df_dept.Dept = departments\n",
    "\n",
    "for dp in departments: \n",
    "    # First fill rows with absolute numbers \n",
    "    df_dept.loc[df_dept.Dept == dp, 'AcceptRateMale'] = int(df_males.query(\"Dept == @dp & Admit == 'Admitted'\").Freq)\n",
    "    df_dept.loc[df_dept.Dept == dp, 'AcceptRateFemale'] = int(df_females.query(\"Dept == @dp & Admit == 'Admitted'\").Freq)\n",
    "\n",
    "# Second divide absolute numbers by total application number to get frequencies\n",
    "df_dept.AcceptRateMale /= df_males.groupby('Dept').Freq.aggregate(sum).values\n",
    "df_dept.AcceptRateFemale /= df_females.groupby('Dept').Freq.aggregate(sum).values\n",
    "    \n",
    "df_dept"
   ]
  },
  {
   "cell_type": "code",
   "execution_count": 123,
   "metadata": {},
   "outputs": [
    {
     "data": {
      "text/plain": [
       "Gender\n",
       "Female    0.303542\n",
       "Male      0.445188\n",
       "Name: Freq, dtype: float64"
      ]
     },
     "execution_count": 123,
     "metadata": {},
     "output_type": "execute_result"
    }
   ],
   "source": [
    "df[df.Admit == 'Admitted'].groupby('Gender').Freq.aggregate(sum) / df.groupby('Gender').Freq.aggregate(sum)"
   ]
  },
  {
   "cell_type": "markdown",
   "metadata": {},
   "source": [
    "We see that in departments A, B, D and F the acceptance rate of women is higher than that of men and only marginally lower in the other departments. However, when we look at the aggregated data the acceptance rate of females, approx. 0.3, is much smaller than that of males, approx. 0.45. This is a classic example of the Simpson's paradox. When conditioning on a feature, here Department, the effect changes 'direction'."
   ]
  }
 ],
 "metadata": {
  "kernelspec": {
   "display_name": "Python 3",
   "language": "python",
   "name": "python3"
  },
  "language_info": {
   "codemirror_mode": {
    "name": "ipython",
    "version": 3
   },
   "file_extension": ".py",
   "mimetype": "text/x-python",
   "name": "python",
   "nbconvert_exporter": "python",
   "pygments_lexer": "ipython3",
   "version": "3.7.3"
  }
 },
 "nbformat": 4,
 "nbformat_minor": 2
}
